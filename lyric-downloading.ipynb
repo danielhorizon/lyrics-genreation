{
 "cells": [
  {
   "cell_type": "code",
   "execution_count": 1,
   "metadata": {},
   "outputs": [],
   "source": [
    "from bs4 import BeautifulSoup\n",
    "\n",
    "import json\n",
    "import re\n",
    "\n",
    "import requests\n",
    "import numpy as np\n",
    "import pandas as pd"
   ]
  },
  {
   "cell_type": "code",
   "execution_count": 2,
   "metadata": {},
   "outputs": [],
   "source": [
    "genres = {}"
   ]
  },
  {
   "cell_type": "markdown",
   "metadata": {},
   "source": [
    "## Rap "
   ]
  },
  {
   "cell_type": "code",
   "execution_count": 3,
   "metadata": {},
   "outputs": [],
   "source": [
    "def get_artist(url): \n",
    "    url = url\n",
    "    response = requests.get(url)\n",
    "    soup = BeautifulSoup(response.text, 'html.parser')\n",
    "\n",
    "    ranker = []\n",
    "    for artist in soup.findAll('meta', {'itemprop':'name'}):\n",
    "        ranker.append(artist['content'].lower().strip())\n",
    "\n",
    "    return ranker "
   ]
  },
  {
   "cell_type": "code",
   "execution_count": 4,
   "metadata": {},
   "outputs": [
    {
     "name": "stdout",
     "output_type": "stream",
     "text": [
      "['method man', 'post malone', 'lil tecca', 'tupac shakur', 'cypress hill', 'juice wrld', 'lil skies', 'rakim', 'youngboy never broke again', 'joey bada$$', 'chance the rapper', 'logic', 'trippie redd', 'nas', 'drake', '50 cent', 'busta rhymes', 'snoop dogg', 'dababy', 'lil uzi vert', 'dmx', 'a tribe called quest', 'kendrick lamar', 'kanye west', 'polo g', 'wu-tang clan', 'big l', 'travis scott', '21 savage', 'meek mill', 'n.w.a', 'll cool j', 'migos', 'mobb deep', 'lil baby', 'kid cudi', 'dr. dre', 'rae sremmurd', 'joyner lucas', 'xxxtentacion', 'lil tjay the god', 'outkast', 'j. cole', 'nate dogg', 'ynw melly', 'tupac', 'the notorious b.i.g.', 'lil wayne', 'nle choppa', 'andré 3000', 'roddy ricch', 'future', 'run–dmc', 'swae lee', 'eminem', 'ski mask the slump god', 'eazy-e', 'a boogie wit da hoodie', 'offset', 'method man and redman', 'lil tjay', 'gunna', 'ice cube', 'asap rocky', 'kodak black', 'childish gambino', 'young thug', 'bone thugs-n-harmony']\n",
      "68\n"
     ]
    }
   ],
   "source": [
    "rap_url = \"https://www.ranker.com/crowdranked-list/the-greatest-rappers-of-all-time\"\n",
    "rap_url2 = 'https://www.ranker.com/list/best-hip-hop-artists-in-2018/ranker-music'\n",
    "rap_url3 = 'https://www.ranker.com/list/best-rappers-2019/ranker-music'\n",
    "rap_url5 = \"https://www.ranker.com/crowdranked-list/best-_90s-rappers?ref=collections&l=855723&collectionId=88\"\n",
    "rap_url4 = \"https://www.ranker.com/list/best-rappers-2020/kareem-gantt?ref=collections&l=2750895&collectionId=88\"\n",
    "rap_urls = [rap_url, rap_url2, rap_url3, rap_url4, rap_url5]\n",
    "rappers = [] \n",
    "for url in rap_urls: \n",
    "    rappers += get_artist(url)\n",
    "\n",
    "remove = ['ranker', \"the greatest rappers of all time\",'the best rappers of 2019, ranked', \n",
    "          \"the best rappers of 2018, ranked\", \"the best rappers of 2020, ranked\", \n",
    "         \"the dopest rappers of the '90s\"]\n",
    "rappers = [x for x in rappers if x not in remove] \n",
    "rapper_list = list(set(rappers))\n",
    "print(rapper_list)\n",
    "print(len(rapper_list))\n",
    "genres['rap'] = rapper_list"
   ]
  },
  {
   "cell_type": "markdown",
   "metadata": {},
   "source": [
    "## Rock, Modern Rock, Indie Rock  --> Rock"
   ]
  },
  {
   "cell_type": "code",
   "execution_count": 5,
   "metadata": {},
   "outputs": [
    {
     "name": "stdout",
     "output_type": "stream",
     "text": [
      "['linkin park', 'the kooks', 'green day', 'my chemical romance', 'bon iver', 'john lennon', 'jimi hendrix', 'pink floyd', 'dire straits', 'queens of the stone age', 'weezer', 'vampire weekend', 'fleetwood mac', 'foo fighters', 'tame impala', 'foster the people', 'modest mouse', 'two door cinema club', 'the strokes', 'nirvana', 'r.e.m.', 'eric clapton', 'cage the elephant', 'the killers', 'three days grace', 'alt-j', 'queen', 'the cure', 'simon and garfunkel', 'eagles', 'elvis presley', 'pearl jam', 'red hot chili peppers', 'bastille', 'ac/dc', 'radiohead', 'arcade fire', 'papa roach', 'kings of leon', 'system of a down', 'aerosmith', 'evanescence', 'david bowie', \"guns n' roses\", 'breaking benjamin', 'the white stripes', 'florence and the machine', 'rise against', 'avenged sevenfold', 'oasis', 'greta van fleet', 'the who', 'led zeppelin', 'tom petty and the heartbreakers', 'lynyrd skynyrd', 'the rolling stones', 'band-maid', 'the black keys', 'the smiths', 'joy division', 'muse', 'arctic monkeys', 'gorillaz', 'van halen', 'pixies', 'black sabbath', 'creedence clearwater revival', 'the beatles', 'of monsters and men', 'shinedown']\n",
      "70\n"
     ]
    }
   ],
   "source": [
    "rock_url = 'https://www.ranker.com/crowdranked-list/the-best-rock-bands-of-all-time'\n",
    "rock_url2 = \"https://www.ranker.com/list/modern-rock-bands-and-musicians/reference\"\n",
    "rock_url3 = \"https://www.ranker.com/list/indie-bands-and-artists/reference\"\n",
    "\n",
    "rock_urls = [rock_url, rock_url2, rock_url3]\n",
    "rockers = [] \n",
    "for url in rock_urls: \n",
    "    rockers += get_artist(url)\n",
    "\n",
    "remove = ['ranker', 'the best modern rock bands/artists', 'the best rock bands of all time', \n",
    "          'the best indie bands & artists', 'the best indie bands & artists']\n",
    "rockers = [x for x in rockers if x not in remove] \n",
    "rocker_list = list(set(rockers))\n",
    "print(rocker_list)\n",
    "print(len(rocker_list))\n",
    "genres['rock'] = rocker_list"
   ]
  },
  {
   "cell_type": "markdown",
   "metadata": {},
   "source": [
    "## Metal "
   ]
  },
  {
   "cell_type": "code",
   "execution_count": 6,
   "metadata": {},
   "outputs": [
    {
     "name": "stdout",
     "output_type": "stream",
     "text": [
      "['iron maiden', 'metallica', 'black sabbath', 'judas priest', 'megadeth', 'pantera', 'slayer', 'avenged sevenfold', 'slipknot', 'motorhead', 'dio', 'disturbed', 'lamb of god', 'anthrax', 'led zeppelin', 'death', 'five finger death punch', 'rammstein', 'ozzy osbourne', 'queensryche', 'system of a down', 'rainbow', 'guns n roses', 'edguy', 'motley crue', 'nightwish', 'helloween', 'stratovarius', 'dying fetus', 'scorpions', 'deep purple', 'blind guardian', 'alice cooper', 'opeth', 'in this moment', 'rob zombie', 'gamma ray', 'dream theater', 'ac/dc', 'ghost', 'iced earth', 'mastodon', 'alice in chains', 'marilyn manson', 'sepultura', 'within temptation', 'papa roach', 'avantasia', 'symphony x', 'annihilator', 'black sabbath', 'iron maiden', 'pantera', 'led zeppelin', 'ozzy osbourne', 'judas priest', 'metallica', 'motörhead', 'dio', 'megadeth', 'alice cooper', 'system of a down', 'alice in chains', 'tool', 'slipknot', \"guns n' roses\", 'van halen', 'deep purple', 'rob zombie', 'anthrax', 'scorpions', 'sepultura', 'disturbed', 'mötley crüe', 'white zombie']\n",
      "75\n"
     ]
    }
   ],
   "source": [
    "url = 'https://www.thetoptens.com/top-heavy-metal-bands/'\n",
    "response = requests.get(url)\n",
    "soup = BeautifulSoup(response.text, 'html.parser')\n",
    "\n",
    "# Find all commenters\n",
    "commenters = []\n",
    "for commenter in soup.findAll('p'):\n",
    "    commenter_username = commenter.find('b')\n",
    "    if commenter_username:\n",
    "        commenters.append(commenter_username.get_text().lower().strip())\n",
    "\n",
    "# Toptens (Metal)\n",
    "metal_toptens = []\n",
    "for artist in soup.findAll('b')[1:]:\n",
    "    artist_name = artist.get_text().lower().strip()\n",
    "    if artist_name not in commenters:\n",
    "        if artist_name[0:3] != '1. ':\n",
    "            metal_toptens.append(artist_name)\n",
    "\n",
    "metal_url = \"https://www.ranker.com/crowdranked-list/best-heavy-metal-bands-that-i-know?ref=collections&l=336573&collectionId=1547\"\n",
    "metal_toptens += get_artist(metal_url)\n",
    "remove = ['ranker', 'the greatest heavy metal bands of all time']\n",
    "metal_toptens = [x for x in metal_toptens if x not in remove] \n",
    "print(metal_toptens)\n",
    "print(len(metal_toptens))\n",
    "genres['metal'] = metal_toptens\n"
   ]
  },
  {
   "cell_type": "markdown",
   "metadata": {},
   "source": [
    "## Country "
   ]
  },
  {
   "cell_type": "code",
   "execution_count": 7,
   "metadata": {
    "scrolled": true
   },
   "outputs": [
    {
     "name": "stdout",
     "output_type": "stream",
     "text": [
      "['dolly parton', 'patsy cline', 'george jones', 'alan jackson', 'brett young', 'maren morris', 'danielle bradbery', 'luke combs', 'kip moore', 'jordan davis', 'jillian jacqueline', 'cole swindell', 'vince gill', 'johnny cash', 'george strait', 'marty robbins', 'carly pearce', 'michael ray', 'hank williams', 'brooks & dunn', 'hank williams, jr.', 'charley pride', 'alabama', 'alison krauss', 'the best new country artists', 'jon pardi', 'cody johnson', 'dylan scott', 'brad paisley', 'brothers osborne', 'lauren alaina', 'dwight yoakam', 'william michael morgan', 'merle haggard', 'conway twitty', 'randy travis', 'waylon jennings', 'don williams', 'chris stapleton', 'old dominion', 'loretta lynn', 'morgan evans', 'chris lane', 'kane brown', 'kelsea ballerini', 'midland', 'willie nelson', 'reba mcentire', 'garth brooks', 'lanco', 'chris janson']\n",
      "51\n"
     ]
    }
   ],
   "source": [
    "ctry_url = \"https://www.ranker.com/list/top-country-artists-of-all-time/samantha-dillinger\"\n",
    "ctry_url2 = 'https://www.ranker.com/list/best-new-country-artists/ranker-music'\n",
    "\n",
    "ctry_urls = [ctry_url, ctry_url2]\n",
    "country = [] \n",
    "for url in ctry_urls: \n",
    "    country += get_artist(url)\n",
    "\n",
    "remove = ['ranker', 'the top country artists of all time']\n",
    "country = [x for x in country if x not in remove] \n",
    "country_list = list(set(country))\n",
    "print(country_list)\n",
    "print(len(country_list))\n",
    "genres['country'] = country_list"
   ]
  },
  {
   "cell_type": "markdown",
   "metadata": {},
   "source": [
    "## Jazz "
   ]
  },
  {
   "cell_type": "code",
   "execution_count": 8,
   "metadata": {},
   "outputs": [
    {
     "name": "stdout",
     "output_type": "stream",
     "text": [
      "['sarah vaughan', 'charlie parker', 'nancy wilson', 'betty carter', 'joe pass', 'carmen mcrae', 'norah jones', 'abbey lincoln', 'julie london', 'madeleine peyroux', 'peter white', 'dave koz', 'melody gardot', 'oscar peterson', 'buddy rich', 'art blakey', 'gene krupa', 'ray brown', 'nina simone', 'artie shaw', 'chris botti', 'dianne reeves', 'dexter gordon', 'dizzy gillespie', 'lionel hampton', 'rosemary clooney', 'earl klugh', 'django reinhardt', 'grover washington, jr.', 'lee ritenour', \"anita o'day\", 'natalie cole', 'billie holiday', 'sade adu', 'freddie hubbard', 'wes montgomery', 'dave brubeck', 'art tatum', 'larry carlton', 'etta james', 'kirk whalum', 'cannonball adderley', 'miles davis', 'dinah washington', 'coleman hawkins', 'amy winehouse', 'boney james', 'lena horne', 'david sanborn', 'anita baker', 'clark terry', 'shirley horn', 'spyro gyra', 'bessie smith', 'marc antoine', 'louis armstrong', 'david benoit', 'cassandra wilson', 'lester young', 'clifford brown', 'diana krall', 'the rippingtons', 'peggy lee', 'ella fitzgerald', 'bob james', 'paul hardcastle', 'brian culbertson', 'norman brown', 'acoustic alchemy', 'fourplay', 'jeff lorber', 'al jarreau', 'sonny rollins']\n",
      "73\n"
     ]
    }
   ],
   "source": [
    "jazz_url = \"https://www.ranker.com/list/best-jazz-bands-and-artists/ranker-music?ref=collections&l=101462&collectionId=1428\"\n",
    "smooth_jazz = \"https://www.ranker.com/list/smooth-jazz-bands-and-musicians/ranker-music\"\n",
    "female_jazz = \"https://www.ranker.com/list/best-female-jazz-singers/rockboy?ref=collections&l=101377&collectionId=1461\"\n",
    "\n",
    "jazz_urls = [jazz_url, smooth_jazz, female_jazz]\n",
    "jazz = [] \n",
    "for url in jazz_urls: \n",
    "    jazz += get_artist(url)\n",
    "    \n",
    "remove = ['ranker', 'the very best jazz musicians & artists', \n",
    "          'make your voice heard: who are the best female jazz singers?', \n",
    "         'the best smooth jazz bands and artists of all time']\n",
    "jazz = [x for x in jazz if x not in remove] \n",
    "jazz_list = list(set(jazz))\n",
    "print(jazz_list)\n",
    "print(len(jazz_list))\n",
    "genres['jazz'] = jazz_list"
   ]
  },
  {
   "cell_type": "markdown",
   "metadata": {},
   "source": [
    "## Folk "
   ]
  },
  {
   "cell_type": "code",
   "execution_count": 9,
   "metadata": {},
   "outputs": [
    {
     "name": "stdout",
     "output_type": "stream",
     "text": [
      "['buffy sainte-marie', 'woody guthrie', 'joni mitchell', 'cat stevens', 'leonard cohen', 'the best folk bands/artists', 'jim croce', 'janis ian', 'fairport convention', 'gordon lightfoot', 'dave giummo', 'john sebastian', 'neil young', 'john denver', 'carole king', 'stephen stills', 'james taylor', 'bob dylan', 'joan baez', 'john prine', 'linda ronstadt', 'kris kristofferson', 'carly simon', 'richard thompson', 'donovan', 'the weavers']\n",
      "26\n"
     ]
    }
   ],
   "source": [
    "folk_url = \"https://www.ranker.com/list/folk-music-bands-and-musicians/ranker-music\"\n",
    "folk = get_artist(folk_url)\n",
    "remove = ['ranker']\n",
    "folk = [x for x in folk if x not in remove] \n",
    "folk_list = list(set(folk))\n",
    "print(folk_list)\n",
    "print(len(folk_list))\n",
    "genres['folk'] = folk_list"
   ]
  },
  {
   "cell_type": "markdown",
   "metadata": {},
   "source": [
    "## Pop "
   ]
  },
  {
   "cell_type": "code",
   "execution_count": 10,
   "metadata": {},
   "outputs": [
    {
     "name": "stdout",
     "output_type": "stream",
     "text": [
      "['rihanna', 'ne-yo', 'nickelback', 'jason derulo', 'taylor swift', 'madonna', 'christina aguilera', 'usher', 'hootie & the blowfish', 'the black eyed peas', 'maroon 5', 'boyz ii men', 'justin timberlake', 'beyonce', 'onerepublic', 'kelly clarkson', 'alanis morissette', 'mariah carey', 'backstreet boys', 'celine dion', 'britney spears', \"'n sync\", 'flo rida', 'avril lavigne', 'lady gaga', 'chris brown', 'nicki minaj', 'justin bieber', 'adele', 'pitbull', '3 doors down', 'the weeknd', 'selena gomez', 'ariana grande', 'enrique iglesias', 'jennifer lopez', 'bruno mars', 'katy perry', 'ed sheeran', 'janet jackson', 'matchbox twenty', 'nelly', 'p!nk', 'calvin harris', 'kesha', 'eminem', \"destiny's child\", 'no doubt', 'ellie goulding', 'sheryl crow']\n",
      "50\n"
     ]
    }
   ],
   "source": [
    "# Billboard (Pop)\n",
    "url = 'https://www.billboard.com/charts/greatest-of-all-time-pop-songs-artists'\n",
    "response = requests.get(url)\n",
    "soup = BeautifulSoup(response.text, 'html.parser')\n",
    "\n",
    "pop_billboard = []\n",
    "for artist in soup.findAll('a', {'href':re.compile('/music/')}):\n",
    "    artist = artist.get_text().replace('\\n', '')\n",
    "    pop_billboard.append(artist.lower().strip())\n",
    "\n",
    "pop = list(set(pop_billboard))\n",
    "print(pop)\n",
    "print(len(pop))\n",
    "genres['pop'] = list(set(pop_billboard))"
   ]
  },
  {
   "cell_type": "markdown",
   "metadata": {},
   "source": [
    "## R&B "
   ]
  },
  {
   "cell_type": "code",
   "execution_count": 11,
   "metadata": {},
   "outputs": [
    {
     "name": "stdout",
     "output_type": "stream",
     "text": [
      "['usher', 'gladys knight & the pips', 'alicia keys', 'boyz ii men', 'whitney houston', 'aaliyah', 'sam cooke', 'james brown', 'marvin gaye', 'stevie wonder', 'etta james', 'beyoncé knowles', 'barry white', 'b.b. king', 'four tops', 'anita baker', 'chuck berry', 'janet jackson', 'the temptations', 'michael jackson', 'aretha franklin', 'gladys knight', 'ray charles', 'al green', 'chaka khan']\n",
      "25\n"
     ]
    }
   ],
   "source": [
    "rb_url = \"https://www.ranker.com/list/best-rhythm-and-blues-bands-and-artists/ranker-music?ref=collections&l=1055563&collectionId=2872\"\n",
    "rb_url1 = \"https://www.ranker.com/list/best-rhythm-and-blues-artists-2019/music-lover\"\n",
    "rb_url2 = \"https://www.ranker.com/list/best-r-and-b-artists-and-bands/ranker-music?ref=collections&l=997413&collectionId=2872\"\n",
    "\n",
    "rb_urls = [rb_url, rb_url1, rb_url2]\n",
    "rb = [] \n",
    "for url in rb_urls:\n",
    "    rb += get_artist(rb_url)\n",
    "\n",
    "remove = ['ranker', 'the greatest r&b artists of all time']\n",
    "rb = [x for x in rb if x not in remove] \n",
    "rb_list = list(set(rb))\n",
    "print(rb_list)\n",
    "print(len(rb_list))\n",
    "genres['rb'] = rb_list"
   ]
  },
  {
   "cell_type": "markdown",
   "metadata": {},
   "source": [
    "## Soul "
   ]
  },
  {
   "cell_type": "code",
   "execution_count": 12,
   "metadata": {},
   "outputs": [
    {
     "name": "stdout",
     "output_type": "stream",
     "text": [
      "['otis redding', 'jackie wilson', 'the isley brothers', 'gladys knight & the pips', 'whitney houston', \"the o'jays\", 'donny hathaway', 'wilson pickett', 'earth, wind & fire', 'tina turner', 'sam cooke', 'james brown', 'marvin gaye', 'stevie wonder', 'luther vandross', 'etta james', 'barry white', 'curtis mayfield', 'the temptations', 'michael jackson', 'aretha franklin', 'the best soul singers/groups of all time', 'ray charles', 'smokey robinson', 'al green', 'bill withers']\n",
      "26\n"
     ]
    }
   ],
   "source": [
    "soul_url = \"https://www.ranker.com/list/soul-music-bands-and-musicians/reference?ref=collections&l=337012&collectionId=1909\"\n",
    "soul = [] \n",
    "soul = get_artist(soul_url)\n",
    "remove = ['ranker']\n",
    "soul = [x for x in soul if x not in remove] \n",
    "soul_list = list(set(soul))\n",
    "print(soul_list)\n",
    "print(len(soul_list))\n",
    "genres['soul'] = soul_list\n"
   ]
  },
  {
   "cell_type": "markdown",
   "metadata": {},
   "source": [
    "# Pulling Lyrics "
   ]
  },
  {
   "cell_type": "code",
   "execution_count": 13,
   "metadata": {},
   "outputs": [
    {
     "name": "stdout",
     "output_type": "stream",
     "text": [
      "['rap', 'rock', 'metal', 'country', 'jazz', 'folk', 'pop', 'rb', 'soul']\n"
     ]
    }
   ],
   "source": [
    "print(list(genres.keys()))"
   ]
  },
  {
   "cell_type": "code",
   "execution_count": 14,
   "metadata": {},
   "outputs": [],
   "source": [
    "client_secret = \"PyIOc0fpU1kTrUgGmxfWZJTzPXxo4nwJY68im8ijCNgC1X23A-HpB4N4ojME83sGeS7qEh0hBTKksUTs1Tn8Tg\"\n",
    "client_id = \"UxVTuW-k7r1aP_9-7LBhfCCHJAdkXhu-tQslckEDV5_P9ChNAXmRtRVwyhrxOc4k\"\n",
    "access_token = \"h7LnkbwF2kidbhXTUAA9HexEkCFMlnt05D8Zs2Y8H9FTEBvl1tra1fceYNtnAyhN\"\n",
    "\n",
    "import lyricsgenius as genius\n",
    "import json \n",
    "import time \n",
    "api = genius.Genius(\"h7LnkbwF2kidbhXTUAA9HexEkCFMlnt05D8Zs2Y8H9FTEBvl1tra1fceYNtnAyhN\")\n",
    "api.verbose = False # Turn off status messages\n",
    "api.remove_section_headers = True # Remove section headers (e.g. [Chorus]) from lyrics when searching\n",
    "api.skip_non_songs = False # Include hits thought to be non-songs (e.g. track lists)\n",
    "api.excluded_terms = [\"(Remix)\", \"(Live)\"] # Exclude songs with these words in their title"
   ]
  },
  {
   "cell_type": "code",
   "execution_count": 15,
   "metadata": {},
   "outputs": [],
   "source": [
    "rap_df = pd.DataFrame(columns=['artist', 'genre', 'title', 'lyrics'])\n",
    "rock_df = pd.DataFrame(columns=['artist', 'genre', 'title', 'lyrics'])\n",
    "country_df = pd.DataFrame(columns=['artist', 'genre', 'title', 'lyrics'])\n"
   ]
  },
  {
   "cell_type": "code",
   "execution_count": 16,
   "metadata": {},
   "outputs": [],
   "source": [
    "def get_lyrics(genre, artist, num_songs): \n",
    "    filename = str(artist) + \".json\"\n",
    "    while True: \n",
    "        try: \n",
    "            artist = api.search_artist(artist, max_songs=num_songs) \n",
    "            break \n",
    "        except: \n",
    "            pass \n",
    "    \n",
    "    if artist is None: \n",
    "        return \n",
    "    rows = [] \n",
    "    if artist.songs is not None: \n",
    "        print(\"# of songs:\" + str(len(artist.songs)))\n",
    "        for i in range(len(artist.songs)): \n",
    "            rows.append((str(artist.songs[i].artist), \n",
    "                         \"rap\", str(artist.songs[i].title ), \n",
    "                         str(artist.songs[i].lyrics)))\n",
    "\n",
    "    artist_df = pd.DataFrame(rows, columns =['artist', 'genre', 'title', 'lyrics'])\n",
    "    # setting it as global \n",
    "    global rap_df, rock_df, country_df, jazz_df, folk_df, rb_df, metal_df, pop_df, soul_df \n",
    "    if genre == \"rap\": \n",
    "        rap_df = rap_df.append(artist_df)\n",
    "    if genre == \"rock\": \n",
    "        rock_df = rock_df.append(artist_df)\n",
    "    if genre == \"country\":\n",
    "        country_df = country_df.append(artist_df)\n",
    "    if genre == \"jazz\":\n",
    "        jazz_df = jazz_df.append(artist_df)\n",
    "    if genre == \"folk\":\n",
    "        folk_df = folk_df.append(artist_df)\n",
    "    if genre == \"rb\": \n",
    "        rb_df = rb_df.append(artist_df)\n",
    "    if genre == \"metal\":\n",
    "        metal_df = metal_df.append(artist_df)\n",
    "    if genre == \"pop\":\n",
    "        pop_df = pop_df.append(artist_df)\n",
    "    if genre == \"soul\":\n",
    "        soul_df = soul_df.append(artist_df)\n",
    "    print(\"Saved \" +str(artist))\n",
    "    return "
   ]
  },
  {
   "cell_type": "code",
   "execution_count": 17,
   "metadata": {},
   "outputs": [
    {
     "name": "stdout",
     "output_type": "stream",
     "text": [
      "['method man', 'post malone', 'lil tecca', 'tupac shakur', 'cypress hill', 'juice wrld', 'lil skies', 'rakim', 'youngboy never broke again', 'joey bada$$', 'chance the rapper', 'logic', 'trippie redd', 'nas', 'drake', '50 cent', 'busta rhymes', 'snoop dogg', 'dababy', 'lil uzi vert', 'dmx', 'a tribe called quest', 'kendrick lamar', 'kanye west', 'polo g', 'wu-tang clan', 'big l', 'travis scott', '21 savage', 'meek mill', 'n.w.a', 'll cool j', 'migos', 'mobb deep', 'lil baby', 'kid cudi', 'dr. dre', 'rae sremmurd', 'joyner lucas', 'xxxtentacion', 'lil tjay the god', 'outkast', 'j. cole', 'nate dogg', 'ynw melly', 'tupac', 'the notorious b.i.g.', 'lil wayne', 'nle choppa', 'andré 3000', 'roddy ricch', 'future', 'run–dmc', 'swae lee', 'eminem', 'ski mask the slump god', 'eazy-e', 'a boogie wit da hoodie', 'offset', 'method man and redman', 'lil tjay', 'gunna', 'ice cube', 'asap rocky', 'kodak black', 'childish gambino', 'young thug', 'bone thugs-n-harmony']\n"
     ]
    }
   ],
   "source": [
    "rappers = genres[\"rap\"]\n",
    "print(rappers)"
   ]
  },
  {
   "cell_type": "code",
   "execution_count": 18,
   "metadata": {},
   "outputs": [],
   "source": [
    "def fetch_all_lyrics(genre): \n",
    "    print(\"GENRE: \" + str(genre))\n",
    "    artists = genres[genre]\n",
    "    print(\"there are \" + str(len(artists)) + \" artists\")\n",
    "    for art in artists: \n",
    "        get_lyrics(genre, art, 200)\n",
    "    \n",
    "#fetch_all_lyrics(\"rap\")\n",
    "#rap_df.to_csv(\"rappers.csv\")"
   ]
  },
  {
   "cell_type": "code",
   "execution_count": null,
   "metadata": {},
   "outputs": [],
   "source": [
    "# # rap, rock, metal, country, jazz, folk, pop, r&b, soul\n",
    "# fetch_all_lyrics(\"rock\")\n",
    "# rock_df.to_csv(\"rockers.csv\")"
   ]
  },
  {
   "cell_type": "code",
   "execution_count": null,
   "metadata": {},
   "outputs": [],
   "source": [
    "# fetch_all_lyrics(\"metal\")\n",
    "# metal_df.to_csv(\"metal.csv\")"
   ]
  },
  {
   "cell_type": "code",
   "execution_count": null,
   "metadata": {},
   "outputs": [],
   "source": [
    "# fetch_all_lyrics(\"country\")\n",
    "# country_df.to_csv(\"metal.csv\")"
   ]
  },
  {
   "cell_type": "code",
   "execution_count": null,
   "metadata": {},
   "outputs": [],
   "source": [
    "# jazz_df = pd.DataFrame(columns=['artist', 'genre', 'title', 'lyrics'])\n",
    "# folk_df = pd.DataFrame(columns=['artist', 'genre', 'title', 'lyrics'])\n",
    "# rb_df = pd.DataFrame(columns=['artist', 'genre', 'title', 'lyrics'])\n",
    "# metal_df = pd.DataFrame(columns=['artist', 'genre', 'title', 'lyrics'])\n",
    "# pop_df = pd.DataFrame(columns=['artist', 'genre', 'title', 'lyrics'])\n"
   ]
  },
  {
   "cell_type": "code",
   "execution_count": null,
   "metadata": {},
   "outputs": [],
   "source": [
    "# fetch_all_lyrics(\"jazz\")\n",
    "# jazz_df.to_csv(\"jazz.csv\")"
   ]
  },
  {
   "cell_type": "code",
   "execution_count": null,
   "metadata": {},
   "outputs": [],
   "source": [
    "# fetch_all_lyrics(\"folk\")\n",
    "# folk_df.to_csv(\"folk.csv\")"
   ]
  },
  {
   "cell_type": "code",
   "execution_count": null,
   "metadata": {},
   "outputs": [],
   "source": [
    "# fetch_all_lyrics(\"pop\")\n",
    "# pop_df.to_csv(\"pop.csv\")"
   ]
  },
  {
   "cell_type": "code",
   "execution_count": null,
   "metadata": {},
   "outputs": [],
   "source": [
    "# fetch_all_lyrics(\"rb\")\n",
    "# rb_df.to_csv(\"rb.csv\")"
   ]
  },
  {
   "cell_type": "code",
   "execution_count": null,
   "metadata": {},
   "outputs": [
    {
     "name": "stdout",
     "output_type": "stream",
     "text": [
      "GENRE: soul\n",
      "there are 26 artists\n",
      "# of songs:170\n",
      "Saved Otis Redding, 170 songs\n",
      "# of songs:84\n",
      "Saved Jackie Wilson, 84 songs\n",
      "# of songs:200\n",
      "Saved The Isley Brothers, 200 songs\n",
      "# of songs:132\n",
      "Saved Gladys Knight & the Pips, 132 songs\n",
      "# of songs:161\n",
      "Saved Whitney Houston, 161 songs\n",
      "# of songs:82\n",
      "Saved Josylvio, 82 songs\n",
      "# of songs:57\n",
      "Saved Donny Hathaway, 57 songs\n",
      "Timeout raised and caught:\n",
      "HTTPSConnectionPool(host='api.genius.com', port=443): Read timed out. (read timeout=5)\n",
      "# of songs:98\n",
      "Saved Wilson Pickett, 98 songs\n",
      "# of songs:200\n",
      "Saved Earth, Wind & Fire, 200 songs\n",
      "# of songs:189\n",
      "Saved Tina Turner, 189 songs\n",
      "# of songs:200\n",
      "Saved Sam Cooke, 200 songs\n",
      "# of songs:200\n",
      "Saved James Brown, 200 songs\n",
      "# of songs:200\n",
      "Saved Marvin Gaye, 200 songs\n",
      "Timeout raised and caught:\n",
      "HTTPSConnectionPool(host='api.genius.com', port=443): Read timed out. (read timeout=5)\n",
      "# of songs:200\n",
      "Saved Stevie Wonder, 200 songs\n"
     ]
    }
   ],
   "source": [
    "soul_df = pd.DataFrame(columns=['artist', 'genre', 'title', 'lyrics'])\n",
    "fetch_all_lyrics(\"soul\")\n",
    "soul_df.to_csv(\"soul.csv\")"
   ]
  },
  {
   "cell_type": "code",
   "execution_count": null,
   "metadata": {},
   "outputs": [],
   "source": [
    " "
   ]
  },
  {
   "cell_type": "code",
   "execution_count": null,
   "metadata": {},
   "outputs": [],
   "source": [
    "# other urls: \n",
    "# http://jdaytn.com/posts/download-blink-182-data/\n",
    "# https://github.com/johnwmillr/LyricsGenius\n",
    "# https://towardsdatascience.com/does-country-music-drink-more-than-other-genres-a21db901940b"
   ]
  },
  {
   "cell_type": "code",
   "execution_count": null,
   "metadata": {},
   "outputs": [],
   "source": []
  }
 ],
 "metadata": {
  "kernelspec": {
   "display_name": "Python 3",
   "language": "python",
   "name": "python3"
  },
  "language_info": {
   "codemirror_mode": {
    "name": "ipython",
    "version": 3
   },
   "file_extension": ".py",
   "mimetype": "text/x-python",
   "name": "python",
   "nbconvert_exporter": "python",
   "pygments_lexer": "ipython3",
   "version": "3.7.6"
  }
 },
 "nbformat": 4,
 "nbformat_minor": 2
}

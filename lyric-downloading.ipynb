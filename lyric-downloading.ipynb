{
 "cells": [
  {
   "cell_type": "code",
   "execution_count": 1,
   "metadata": {},
   "outputs": [],
   "source": [
    "from bs4 import BeautifulSoup\n",
    "\n",
    "import json\n",
    "import re\n",
    "\n",
    "import requests\n",
    "import numpy as np\n",
    "import pandas as pd"
   ]
  },
  {
   "cell_type": "code",
   "execution_count": 2,
   "metadata": {},
   "outputs": [],
   "source": [
    "genres = {}"
   ]
  },
  {
   "cell_type": "markdown",
   "metadata": {},
   "source": [
    "## Rap "
   ]
  },
  {
   "cell_type": "code",
   "execution_count": 3,
   "metadata": {},
   "outputs": [],
   "source": [
    "def get_artist(url): \n",
    "    url = url\n",
    "    response = requests.get(url)\n",
    "    soup = BeautifulSoup(response.text, 'html.parser')\n",
    "\n",
    "    ranker = []\n",
    "    for artist in soup.findAll('meta', {'itemprop':'name'}):\n",
    "        ranker.append(artist['content'].lower().strip())\n",
    "\n",
    "    return ranker "
   ]
  },
  {
   "cell_type": "code",
   "execution_count": 4,
   "metadata": {},
   "outputs": [
    {
     "name": "stdout",
     "output_type": "stream",
     "text": [
      "['ice cube', 'kodak black', 'migos', 'ynw melly', 'future', 'snoop dogg', 'lil uzi vert', 'method man and redman', 'dmx', 'young thug', '50 cent', 'swae lee', 'childish gambino', 'drake', 'lil tecca', 'polo g', 'royce da 5\\'9\"', 'meek mill', 'run–dmc', 'nle choppa', 'gunna', 'tupac', 'll cool j', 'kendrick lamar', 'j. cole', 'rakim', 'dr. dre', 'a tribe called quest', 'asap rocky', 'nate dogg', 'youngboy never broke again', 'roddy ricch', 'andré 3000', 'eazy-e', 'method man', 'mobb deep', 'eminem', 'bone thugs-n-harmony', 'chance the rapper', 'kid cudi', 'lil tjay the god', 'juice wrld', 'wu-tang clan', 'dababy', 'nas', 'joyner lucas', 'the notorious b.i.g.', 'lil tjay', 'lil wayne', 'cypress hill', '21 savage', 'joey bada$$', 'logic', 'lil skies', 'n.w.a', 'lil baby', 'rae sremmurd', 'a boogie wit da hoodie', 'offset', 'ski mask the slump god', 'post malone', 'trippie redd', 'outkast', 'big l', 'busta rhymes', 'travis scott', 'kanye west', 'xxxtentacion', 'tupac shakur']\n",
      "69\n"
     ]
    }
   ],
   "source": [
    "rap_url = \"https://www.ranker.com/crowdranked-list/the-greatest-rappers-of-all-time\"\n",
    "rap_url2 = 'https://www.ranker.com/list/best-hip-hop-artists-in-2018/ranker-music'\n",
    "rap_url3 = 'https://www.ranker.com/list/best-rappers-2019/ranker-music'\n",
    "rap_url5 = \"https://www.ranker.com/crowdranked-list/best-_90s-rappers?ref=collections&l=855723&collectionId=88\"\n",
    "rap_url4 = \"https://www.ranker.com/list/best-rappers-2020/kareem-gantt?ref=collections&l=2750895&collectionId=88\"\n",
    "rap_urls = [rap_url, rap_url2, rap_url3, rap_url4, rap_url5]\n",
    "rappers = [] \n",
    "for url in rap_urls: \n",
    "    rappers += get_artist(url)\n",
    "\n",
    "remove = ['ranker', \"the greatest rappers of all time\",'the best rappers of 2019, ranked', \n",
    "          \"the best rappers of 2018, ranked\", \"the best rappers of 2020, ranked\", \n",
    "         \"the dopest rappers of the '90s\"]\n",
    "rappers = [x for x in rappers if x not in remove] \n",
    "rapper_list = list(set(rappers))\n",
    "print(rapper_list)\n",
    "print(len(rapper_list))\n",
    "genres['rap'] = rapper_list"
   ]
  },
  {
   "cell_type": "markdown",
   "metadata": {},
   "source": [
    "## Rock, Modern Rock, Indie Rock  --> Rock"
   ]
  },
  {
   "cell_type": "code",
   "execution_count": 5,
   "metadata": {},
   "outputs": [
    {
     "name": "stdout",
     "output_type": "stream",
     "text": [
      "['modest mouse', 'nirvana', 'queens of the stone age', 'joy division', 'vampire weekend', 'eagles', 'weezer', 'ac/dc', 'kings of leon', 'shinedown', 'papa roach', 'pixies', 'the kooks', 'the strokes', 'system of a down', 'arcade fire', 'of monsters and men', 'foo fighters', 'foster the people', 'the white stripes', 'the rolling stones', 'breaking benjamin', 'alt-j', 'band-maid', 'cage the elephant', 'the who', 'the black keys', 'pink floyd', 'jimi hendrix', 'led zeppelin', 'creedence clearwater revival', 'the beatles', 'linkin park', 'the smiths', 'oasis', 'florence and the machine', 'red hot chili peppers', 'black sabbath', 'greta van fleet', 'gorillaz', 'avenged sevenfold', 'pearl jam', 'green day', 'r.e.m.', 'eric clapton', 'the cure', 'lynyrd skynyrd', 'rise against', 'bastille', 'john lennon', 'three days grace', 'my chemical romance', 'tom petty and the heartbreakers', 'dire straits', 'evanescence', 'arctic monkeys', 'david bowie', 'the killers', 'queen', \"guns n' roses\", 'aerosmith', 'tame impala', 'elvis presley', 'van halen', 'two door cinema club', 'bon iver', 'muse', 'radiohead', 'simon and garfunkel', 'fleetwood mac']\n",
      "70\n"
     ]
    }
   ],
   "source": [
    "rock_url = 'https://www.ranker.com/crowdranked-list/the-best-rock-bands-of-all-time'\n",
    "rock_url2 = \"https://www.ranker.com/list/modern-rock-bands-and-musicians/reference\"\n",
    "rock_url3 = \"https://www.ranker.com/list/indie-bands-and-artists/reference\"\n",
    "\n",
    "rock_urls = [rock_url, rock_url2, rock_url3]\n",
    "rockers = [] \n",
    "for url in rock_urls: \n",
    "    rockers += get_artist(url)\n",
    "\n",
    "remove = ['ranker', 'the best modern rock bands/artists', 'the best rock bands of all time', \n",
    "          'the best indie bands & artists', 'the best indie bands & artists']\n",
    "rockers = [x for x in rockers if x not in remove] \n",
    "rocker_list = list(set(rockers))\n",
    "print(rocker_list)\n",
    "print(len(rocker_list))\n",
    "genres['rock'] = rocker_list"
   ]
  },
  {
   "cell_type": "markdown",
   "metadata": {},
   "source": [
    "## Metal "
   ]
  },
  {
   "cell_type": "code",
   "execution_count": 6,
   "metadata": {},
   "outputs": [
    {
     "name": "stdout",
     "output_type": "stream",
     "text": [
      "['iron maiden', 'metallica', 'black sabbath', 'judas priest', 'megadeth', 'pantera', 'slayer', 'avenged sevenfold', 'slipknot', 'motorhead', 'dio', 'disturbed', 'lamb of god', 'anthrax', 'led zeppelin', 'death', 'five finger death punch', 'rammstein', 'ozzy osbourne', 'queensryche', 'system of a down', 'rainbow', 'guns n roses', 'edguy', 'motley crue', 'nightwish', 'helloween', 'stratovarius', 'dying fetus', 'scorpions', 'deep purple', 'blind guardian', 'alice cooper', 'opeth', 'in this moment', 'rob zombie', 'gamma ray', 'dream theater', 'ac/dc', 'ghost', 'iced earth', 'mastodon', 'alice in chains', 'marilyn manson', 'sepultura', 'within temptation', 'papa roach', 'avantasia', 'symphony x', 'annihilator', 'black sabbath', 'iron maiden', 'pantera', 'led zeppelin', 'ozzy osbourne', 'judas priest', 'metallica', 'motörhead', 'dio', 'megadeth', 'alice cooper', 'system of a down', 'alice in chains', 'tool', 'slipknot', \"guns n' roses\", 'van halen', 'deep purple', 'rob zombie', 'anthrax', 'scorpions', 'sepultura', 'disturbed', 'mötley crüe', 'white zombie']\n",
      "75\n"
     ]
    }
   ],
   "source": [
    "url = 'https://www.thetoptens.com/top-heavy-metal-bands/'\n",
    "response = requests.get(url)\n",
    "soup = BeautifulSoup(response.text, 'html.parser')\n",
    "\n",
    "# Find all commenters\n",
    "commenters = []\n",
    "for commenter in soup.findAll('p'):\n",
    "    commenter_username = commenter.find('b')\n",
    "    if commenter_username:\n",
    "        commenters.append(commenter_username.get_text().lower().strip())\n",
    "\n",
    "# Toptens (Metal)\n",
    "metal_toptens = []\n",
    "for artist in soup.findAll('b')[1:]:\n",
    "    artist_name = artist.get_text().lower().strip()\n",
    "    if artist_name not in commenters:\n",
    "        if artist_name[0:3] != '1. ':\n",
    "            metal_toptens.append(artist_name)\n",
    "\n",
    "metal_url = \"https://www.ranker.com/crowdranked-list/best-heavy-metal-bands-that-i-know?ref=collections&l=336573&collectionId=1547\"\n",
    "metal_toptens += get_artist(metal_url)\n",
    "remove = ['ranker', 'the greatest heavy metal bands of all time']\n",
    "metal_toptens = [x for x in metal_toptens if x not in remove] \n",
    "print(metal_toptens)\n",
    "print(len(metal_toptens))\n",
    "genres['metal'] = metal_toptens\n"
   ]
  },
  {
   "cell_type": "markdown",
   "metadata": {},
   "source": [
    "## Country "
   ]
  },
  {
   "cell_type": "code",
   "execution_count": 7,
   "metadata": {},
   "outputs": [
    {
     "name": "stdout",
     "output_type": "stream",
     "text": [
      "['michael ray', 'kane brown', 'brothers osborne', 'reba mcentire', 'kelsea ballerini', 'midland', 'jordan davis', 'marty robbins', 'waylon jennings', 'conway twitty', 'the best new country artists', 'danielle bradbery', 'dolly parton', 'brett young', 'lanco', 'maren morris', 'don williams', 'carly pearce', 'loretta lynn', 'dwight yoakam', 'charley pride', 'george strait', 'chris stapleton', 'william michael morgan', 'jillian jacqueline', 'randy travis', 'hank williams, jr.', 'dylan scott', 'patsy cline', 'brooks & dunn', 'vince gill', 'johnny cash', 'cole swindell', 'hank williams', 'kip moore', 'old dominion', 'merle haggard', 'cody johnson', 'george jones', 'alan jackson', 'alabama', 'brad paisley', 'luke combs', 'chris janson', 'jon pardi', 'chris lane', 'lauren alaina', 'willie nelson', 'alison krauss', 'garth brooks', 'morgan evans']\n",
      "51\n"
     ]
    }
   ],
   "source": [
    "ctry_url = \"https://www.ranker.com/list/top-country-artists-of-all-time/samantha-dillinger\"\n",
    "ctry_url2 = 'https://www.ranker.com/list/best-new-country-artists/ranker-music'\n",
    "\n",
    "ctry_urls = [ctry_url, ctry_url2]\n",
    "country = [] \n",
    "for url in ctry_urls: \n",
    "    country += get_artist(url)\n",
    "\n",
    "remove = ['ranker', 'the top country artists of all time']\n",
    "country = [x for x in country if x not in remove] \n",
    "country_list = list(set(country))\n",
    "print(country_list)\n",
    "print(len(country_list))\n",
    "genres['country'] = country_list"
   ]
  },
  {
   "cell_type": "markdown",
   "metadata": {},
   "source": [
    "## Jazz "
   ]
  },
  {
   "cell_type": "code",
   "execution_count": 8,
   "metadata": {},
   "outputs": [
    {
     "name": "stdout",
     "output_type": "stream",
     "text": [
      "['norah jones', 'joe pass', 'larry carlton', 'shirley horn', 'dianne reeves', 'ray brown', 'sonny rollins', 'freddie hubbard', 'etta james', 'rosemary clooney', 'sarah vaughan', 'norman brown', 'dave koz', 'dinah washington', 'natalie cole', 'bessie smith', 'peter white', 'dave brubeck', 'louis armstrong', 'lester young', 'betty carter', 'jeff lorber', 'chris botti', 'amy winehouse', 'coleman hawkins', 'clark terry', 'the rippingtons', 'miles davis', 'billie holiday', 'lionel hampton', 'clifford brown', 'peggy lee', 'melody gardot', 'sade adu', 'lee ritenour', 'django reinhardt', 'earl klugh', 'spyro gyra', 'brian culbertson', 'gene krupa', 'david benoit', 'madeleine peyroux', 'paul hardcastle', 'boney james', 'abbey lincoln', 'art blakey', 'cassandra wilson', 'nancy wilson', 'kirk whalum', 'carmen mcrae', 'ella fitzgerald', 'cannonball adderley', \"anita o'day\", 'dexter gordon', 'dizzy gillespie', 'oscar peterson', 'buddy rich', 'charlie parker', 'art tatum', 'bob james', 'wes montgomery', 'al jarreau', 'anita baker', 'nina simone', 'artie shaw', 'fourplay', 'acoustic alchemy', 'diana krall', 'lena horne', 'david sanborn', 'grover washington, jr.', 'julie london', 'marc antoine']\n",
      "73\n"
     ]
    }
   ],
   "source": [
    "jazz_url = \"https://www.ranker.com/list/best-jazz-bands-and-artists/ranker-music?ref=collections&l=101462&collectionId=1428\"\n",
    "smooth_jazz = \"https://www.ranker.com/list/smooth-jazz-bands-and-musicians/ranker-music\"\n",
    "female_jazz = \"https://www.ranker.com/list/best-female-jazz-singers/rockboy?ref=collections&l=101377&collectionId=1461\"\n",
    "\n",
    "jazz_urls = [jazz_url, smooth_jazz, female_jazz]\n",
    "jazz = [] \n",
    "for url in jazz_urls: \n",
    "    jazz += get_artist(url)\n",
    "    \n",
    "remove = ['ranker', 'the very best jazz musicians & artists', \n",
    "          'make your voice heard: who are the best female jazz singers?', \n",
    "         'the best smooth jazz bands and artists of all time']\n",
    "jazz = [x for x in jazz if x not in remove] \n",
    "jazz_list = list(set(jazz))\n",
    "print(jazz_list)\n",
    "print(len(jazz_list))\n",
    "genres['jazz'] = jazz_list"
   ]
  },
  {
   "cell_type": "markdown",
   "metadata": {},
   "source": [
    "## Folk "
   ]
  },
  {
   "cell_type": "code",
   "execution_count": 9,
   "metadata": {},
   "outputs": [
    {
     "name": "stdout",
     "output_type": "stream",
     "text": [
      "['buffy sainte-marie', 'kris kristofferson', 'fairport convention', 'carly simon', 'stephen stills', 'the weavers', 'leonard cohen', 'john denver', 'woody guthrie', 'joni mitchell', 'donovan', 'john sebastian', 'joan baez', 'dave giummo', 'richard thompson', 'gordon lightfoot', 'the best folk bands/artists', 'linda ronstadt', 'janis ian', 'carole king', 'jim croce', 'cat stevens', 'neil young', 'james taylor', 'bob dylan', 'john prine']\n",
      "26\n"
     ]
    }
   ],
   "source": [
    "folk_url = \"https://www.ranker.com/list/folk-music-bands-and-musicians/ranker-music\"\n",
    "folk = get_artist(folk_url)\n",
    "remove = ['ranker']\n",
    "folk = [x for x in folk if x not in remove] \n",
    "folk_list = list(set(folk))\n",
    "print(folk_list)\n",
    "print(len(folk_list))\n",
    "genres['folk'] = folk_list"
   ]
  },
  {
   "cell_type": "markdown",
   "metadata": {},
   "source": [
    "## Pop "
   ]
  },
  {
   "cell_type": "code",
   "execution_count": 10,
   "metadata": {},
   "outputs": [
    {
     "name": "stdout",
     "output_type": "stream",
     "text": [
      "['justin timberlake', 'justin bieber', 'taylor swift', 'the black eyed peas', '3 doors down', 'britney spears', 'rihanna', 'matchbox twenty', 'kesha', 'avril lavigne', 'maroon 5', 'mariah carey', 'ed sheeran', 'ellie goulding', 'the weeknd', 'jason derulo', 'adele', 'nicki minaj', 'janet jackson', 'no doubt', 'backstreet boys', 'madonna', 'chris brown', 'selena gomez', 'sheryl crow', 'katy perry', 'alanis morissette', 'usher', 'jennifer lopez', 'p!nk', 'onerepublic', \"'n sync\", 'nickelback', 'eminem', 'celine dion', 'hootie & the blowfish', 'pitbull', 'nelly', 'kelly clarkson', 'christina aguilera', 'ne-yo', 'calvin harris', 'flo rida', 'beyonce', 'boyz ii men', 'lady gaga', 'enrique iglesias', \"destiny's child\", 'ariana grande', 'bruno mars']\n",
      "50\n"
     ]
    }
   ],
   "source": [
    "# Billboard (Pop)\n",
    "url = 'https://www.billboard.com/charts/greatest-of-all-time-pop-songs-artists'\n",
    "response = requests.get(url)\n",
    "soup = BeautifulSoup(response.text, 'html.parser')\n",
    "\n",
    "pop_billboard = []\n",
    "for artist in soup.findAll('a', {'href':re.compile('/music/')}):\n",
    "    artist = artist.get_text().replace('\\n', '')\n",
    "    pop_billboard.append(artist.lower().strip())\n",
    "\n",
    "pop = list(set(pop_billboard))\n",
    "print(pop)\n",
    "print(len(pop))\n",
    "genres['pop'] = list(set(pop_billboard))"
   ]
  },
  {
   "cell_type": "markdown",
   "metadata": {},
   "source": [
    "## R&B "
   ]
  },
  {
   "cell_type": "code",
   "execution_count": 11,
   "metadata": {},
   "outputs": [
    {
     "name": "stdout",
     "output_type": "stream",
     "text": [
      "['barry white', 'etta james', 'the temptations', 'ray charles', 'janet jackson', 'aaliyah', 'stevie wonder', 'michael jackson', 'usher', 'sam cooke', 'b.b. king', 'marvin gaye', 'whitney houston', 'james brown', 'aretha franklin', 'anita baker', 'boyz ii men', 'alicia keys', 'gladys knight', 'chuck berry', 'chaka khan', 'al green', 'four tops', 'beyoncé knowles', 'gladys knight & the pips']\n",
      "25\n"
     ]
    }
   ],
   "source": [
    "rb_url = \"https://www.ranker.com/list/best-rhythm-and-blues-bands-and-artists/ranker-music?ref=collections&l=1055563&collectionId=2872\"\n",
    "rb_url1 = \"https://www.ranker.com/list/best-rhythm-and-blues-artists-2019/music-lover\"\n",
    "rb_url2 = \"https://www.ranker.com/list/best-r-and-b-artists-and-bands/ranker-music?ref=collections&l=997413&collectionId=2872\"\n",
    "\n",
    "rb_urls = [rb_url, rb_url1, rb_url2]\n",
    "rb = [] \n",
    "for url in rb_urls:\n",
    "    rb += get_artist(rb_url)\n",
    "\n",
    "remove = ['ranker', 'the greatest r&b artists of all time']\n",
    "rb = [x for x in rb if x not in remove] \n",
    "rb_list = list(set(rb))\n",
    "print(rb_list)\n",
    "print(len(rb_list))\n",
    "genres['rb'] = rb_list"
   ]
  },
  {
   "cell_type": "markdown",
   "metadata": {},
   "source": [
    "## Soul "
   ]
  },
  {
   "cell_type": "code",
   "execution_count": 12,
   "metadata": {},
   "outputs": [
    {
     "name": "stdout",
     "output_type": "stream",
     "text": [
      "['bill withers', 'barry white', 'etta james', \"the o'jays\", 'tina turner', 'wilson pickett', 'the temptations', 'the best soul singers/groups of all time', 'ray charles', 'stevie wonder', 'michael jackson', 'luther vandross', 'sam cooke', 'marvin gaye', 'whitney houston', 'james brown', 'aretha franklin', 'donny hathaway', 'otis redding', 'smokey robinson', 'curtis mayfield', 'earth, wind & fire', 'jackie wilson', 'al green', 'the isley brothers', 'gladys knight & the pips']\n",
      "26\n"
     ]
    }
   ],
   "source": [
    "soul_url = \"https://www.ranker.com/list/soul-music-bands-and-musicians/reference?ref=collections&l=337012&collectionId=1909\"\n",
    "soul = [] \n",
    "soul = get_artist(soul_url)\n",
    "remove = ['ranker']\n",
    "soul = [x for x in soul if x not in remove] \n",
    "soul_list = list(set(soul))\n",
    "print(soul_list)\n",
    "print(len(soul_list))\n",
    "genres['soul'] = soul_list\n"
   ]
  },
  {
   "cell_type": "markdown",
   "metadata": {},
   "source": [
    "# Pulling Lyrics "
   ]
  },
  {
   "cell_type": "code",
   "execution_count": 13,
   "metadata": {},
   "outputs": [
    {
     "name": "stdout",
     "output_type": "stream",
     "text": [
      "['rap', 'rock', 'metal', 'country', 'jazz', 'folk', 'pop', 'rb', 'soul']\n"
     ]
    }
   ],
   "source": [
    "print(list(genres.keys()))"
   ]
  },
  {
   "cell_type": "code",
   "execution_count": 14,
   "metadata": {},
   "outputs": [],
   "source": [
    "client_secret = \"PyIOc0fpU1kTrUgGmxfWZJTzPXxo4nwJY68im8ijCNgC1X23A-HpB4N4ojME83sGeS7qEh0hBTKksUTs1Tn8Tg\"\n",
    "client_id = \"UxVTuW-k7r1aP_9-7LBhfCCHJAdkXhu-tQslckEDV5_P9ChNAXmRtRVwyhrxOc4k\"\n",
    "access_token = \"h7LnkbwF2kidbhXTUAA9HexEkCFMlnt05D8Zs2Y8H9FTEBvl1tra1fceYNtnAyhN\"\n",
    "\n",
    "import lyricsgenius as genius\n",
    "import json \n",
    "import time \n",
    "api = genius.Genius(\"h7LnkbwF2kidbhXTUAA9HexEkCFMlnt05D8Zs2Y8H9FTEBvl1tra1fceYNtnAyhN\")\n",
    "api.verbose = False # Turn off status messages\n",
    "api.remove_section_headers = True # Remove section headers (e.g. [Chorus]) from lyrics when searching\n",
    "api.skip_non_songs = False # Include hits thought to be non-songs (e.g. track lists)\n",
    "api.excluded_terms = [\"(Remix)\", \"(Live)\"] # Exclude songs with these words in their title"
   ]
  },
  {
   "cell_type": "code",
   "execution_count": 15,
   "metadata": {},
   "outputs": [],
   "source": [
    "rap_df = pd.DataFrame(columns=['artist', 'genre', 'title', 'lyrics'])\n",
    "rock_df = pd.DataFrame(columns=['artist', 'genre', 'title', 'lyrics'])\n",
    "country_df = pd.DataFrame(columns=['artist', 'genre', 'title', 'lyrics'])\n"
   ]
  },
  {
   "cell_type": "code",
   "execution_count": 16,
   "metadata": {},
   "outputs": [],
   "source": [
    "def get_lyrics(genre, artist, num_songs): \n",
    "    filename = str(artist) + \".json\"\n",
    "    while True: \n",
    "        try: \n",
    "            artist = api.search_artist(artist, max_songs=num_songs) \n",
    "            break \n",
    "        except: \n",
    "            pass \n",
    "    \n",
    "    if artist is None: \n",
    "        return \n",
    "    rows = [] \n",
    "    if artist.songs is not None: \n",
    "        print(\"# of songs:\" + str(len(artist.songs)))\n",
    "        for i in range(len(artist.songs)): \n",
    "            rows.append((str(artist.songs[i].artist), \n",
    "                         \"rap\", str(artist.songs[i].title ), \n",
    "                         str(artist.songs[i].lyrics)))\n",
    "\n",
    "    artist_df = pd.DataFrame(rows, columns =['artist', 'genre', 'title', 'lyrics'])\n",
    "    # setting it as global \n",
    "    global rap_df, rock_df, country_df, jazz_df, folk_df, rb_df, metal_df, pop_df, soul_df \n",
    "    if genre == \"rap\": \n",
    "        rap_df = rap_df.append(artist_df)\n",
    "    if genre == \"rock\": \n",
    "        rock_df = rock_df.append(artist_df)\n",
    "    if genre == \"country\":\n",
    "        country_df = country_df.append(artist_df)\n",
    "    if genre == \"jazz\":\n",
    "        jazz_df = jazz_df.append(artist_df)\n",
    "    if genre == \"folk\":\n",
    "        folk_df = folk_df.append(artist_df)\n",
    "    if genre == \"rb\": \n",
    "        rb_df = rb_df.append(artist_df)\n",
    "    if genre == \"metal\":\n",
    "        metal_df = metal_df.append(artist_df)\n",
    "    if genre == \"pop\":\n",
    "        pop_df = pop_df.append(artist_df)\n",
    "    if genre == \"soul\":\n",
    "        soul_df = soul_df.append(artist_df)\n",
    "    print(\"Saved \" +str(artist))\n",
    "    return "
   ]
  },
  {
   "cell_type": "code",
   "execution_count": 17,
   "metadata": {},
   "outputs": [
    {
     "name": "stdout",
     "output_type": "stream",
     "text": [
      "['ice cube', 'kodak black', 'migos', 'ynw melly', 'future', 'snoop dogg', 'lil uzi vert', 'method man and redman', 'dmx', 'young thug', '50 cent', 'swae lee', 'childish gambino', 'drake', 'lil tecca', 'polo g', 'royce da 5\\'9\"', 'meek mill', 'run–dmc', 'nle choppa', 'gunna', 'tupac', 'll cool j', 'kendrick lamar', 'j. cole', 'rakim', 'dr. dre', 'a tribe called quest', 'asap rocky', 'nate dogg', 'youngboy never broke again', 'roddy ricch', 'andré 3000', 'eazy-e', 'method man', 'mobb deep', 'eminem', 'bone thugs-n-harmony', 'chance the rapper', 'kid cudi', 'lil tjay the god', 'juice wrld', 'wu-tang clan', 'dababy', 'nas', 'joyner lucas', 'the notorious b.i.g.', 'lil tjay', 'lil wayne', 'cypress hill', '21 savage', 'joey bada$$', 'logic', 'lil skies', 'n.w.a', 'lil baby', 'rae sremmurd', 'a boogie wit da hoodie', 'offset', 'ski mask the slump god', 'post malone', 'trippie redd', 'outkast', 'big l', 'busta rhymes', 'travis scott', 'kanye west', 'xxxtentacion', 'tupac shakur']\n"
     ]
    }
   ],
   "source": [
    "rappers = genres[\"rap\"]\n",
    "print(rappers)"
   ]
  },
  {
   "cell_type": "code",
   "execution_count": 18,
   "metadata": {},
   "outputs": [],
   "source": [
    "def fetch_all_lyrics(genre): \n",
    "    print(\"GENRE: \" + str(genre))\n",
    "    artists = genres[genre]\n",
    "    print(\"there are \" + str(len(artists)) + \" artists\")\n",
    "    for art in artists: \n",
    "        get_lyrics(genre, art, 200)\n",
    "    \n",
    "#fetch_all_lyrics(\"rap\")\n",
    "#rap_df.to_csv(\"rappers.csv\")"
   ]
  },
  {
   "cell_type": "code",
   "execution_count": null,
   "metadata": {},
   "outputs": [],
   "source": [
    "# # rap, rock, metal, country, jazz, folk, pop, r&b, soul\n",
    "# fetch_all_lyrics(\"rock\")\n",
    "# rock_df.to_csv(\"rockers.csv\")"
   ]
  },
  {
   "cell_type": "code",
   "execution_count": null,
   "metadata": {},
   "outputs": [],
   "source": [
    "# fetch_all_lyrics(\"metal\")\n",
    "# metal_df.to_csv(\"metal.csv\")"
   ]
  },
  {
   "cell_type": "code",
   "execution_count": null,
   "metadata": {},
   "outputs": [],
   "source": [
    "# fetch_all_lyrics(\"country\")\n",
    "# country_df.to_csv(\"metal.csv\")"
   ]
  },
  {
   "cell_type": "code",
   "execution_count": null,
   "metadata": {},
   "outputs": [],
   "source": [
    "# jazz_df = pd.DataFrame(columns=['artist', 'genre', 'title', 'lyrics'])\n",
    "folk_df = pd.DataFrame(columns=['artist', 'genre', 'title', 'lyrics'])\n",
    "rb_df = pd.DataFrame(columns=['artist', 'genre', 'title', 'lyrics'])\n",
    "metal_df = pd.DataFrame(columns=['artist', 'genre', 'title', 'lyrics'])\n",
    "pop_df = pd.DataFrame(columns=['artist', 'genre', 'title', 'lyrics'])\n",
    "soul_df = pd.DataFrame(columns=['artist', 'genre', 'title', 'lyrics'])"
   ]
  },
  {
   "cell_type": "code",
   "execution_count": null,
   "metadata": {},
   "outputs": [],
   "source": [
    "# fetch_all_lyrics(\"jazz\")\n",
    "# jazz_df.to_csv(\"jazz.csv\")"
   ]
  },
  {
   "cell_type": "code",
   "execution_count": null,
   "metadata": {},
   "outputs": [
    {
     "name": "stdout",
     "output_type": "stream",
     "text": [
      "GENRE: folk\n",
      "there are 26 artists\n",
      "# of songs:109\n",
      "Saved Buffy Sainte-Marie, 109 songs\n",
      "# of songs:200\n",
      "Saved Kris Kristofferson, 200 songs\n",
      "# of songs:127\n",
      "Saved Fairport Convention, 127 songs\n",
      "# of songs:200\n",
      "Saved Carly Simon, 200 songs\n",
      "# of songs:119\n",
      "Saved Stephen Stills, 119 songs\n",
      "# of songs:59\n",
      "Saved The Weavers, 59 songs\n",
      "Timeout raised and caught:\n",
      "HTTPSConnectionPool(host='api.genius.com', port=443): Read timed out. (read timeout=5)\n",
      "# of songs:200\n",
      "Saved Leonard Cohen, 200 songs\n",
      "# of songs:200\n",
      "Saved John Denver, 200 songs\n",
      "# of songs:200\n",
      "Saved Woody Guthrie, 200 songs\n",
      "# of songs:200\n",
      "Saved Joni Mitchell, 200 songs\n",
      "Timeout raised and caught:\n",
      "HTTPSConnectionPool(host='api.genius.com', port=443): Read timed out. (read timeout=5)\n",
      "# of songs:200\n",
      "Saved Donovan, 200 songs\n",
      "# of songs:18\n",
      "Saved John Sebastian, 18 songs\n",
      "Timeout raised and caught:\n",
      "HTTPSConnectionPool(host='api.genius.com', port=443): Read timed out. (read timeout=5)\n",
      "# of songs:200\n",
      "Saved Joan Baez, 200 songs\n",
      "# of songs:200\n",
      "Saved Richard Thompson, 200 songs\n",
      "# of songs:200\n",
      "Saved Gordon Lightfoot, 200 songs\n",
      "# of songs:200\n",
      "Saved Linda Ronstadt, 200 songs\n",
      "# of songs:132\n",
      "Saved Janis Ian, 132 songs\n",
      "# of songs:200\n",
      "Saved Carole King, 200 songs\n",
      "# of songs:97\n",
      "Saved Jim Croce, 97 songs\n",
      "# of songs:200\n",
      "Saved Cat Stevens, 200 songs\n",
      "# of songs:200\n",
      "Saved Neil Young, 200 songs\n",
      "# of songs:200\n",
      "Saved James Taylor, 200 songs\n",
      "Timeout raised and caught:\n",
      "HTTPSConnectionPool(host='api.genius.com', port=443): Read timed out. (read timeout=5)\n",
      "# of songs:200\n",
      "Saved Bob Dylan, 200 songs\n",
      "# of songs:200\n",
      "Saved John Prine, 200 songs\n"
     ]
    }
   ],
   "source": [
    "fetch_all_lyrics(\"folk\")\n",
    "folk_df.to_csv(\"folk.csv\")"
   ]
  },
  {
   "cell_type": "code",
   "execution_count": null,
   "metadata": {},
   "outputs": [
    {
     "name": "stdout",
     "output_type": "stream",
     "text": [
      "GENRE: pop\n",
      "there are 50 artists\n",
      "# of songs:137\n",
      "Saved Justin Timberlake, 137 songs\n",
      "# of songs:200\n",
      "Saved Justin Bieber, 200 songs\n",
      "# of songs:200\n",
      "Saved Taylor Swift, 200 songs\n",
      "# of songs:167\n",
      "Saved The Black Eyed Peas, 167 songs\n",
      "# of songs:95\n",
      "Saved 3 Doors Down, 95 songs\n",
      "# of songs:200\n",
      "Saved Britney Spears, 200 songs\n",
      "# of songs:200\n",
      "Saved Rihanna, 200 songs\n",
      "# of songs:80\n",
      "Saved Matchbox Twenty, 80 songs\n",
      "Timeout raised and caught:\n",
      "HTTPSConnectionPool(host='api.genius.com', port=443): Read timed out. (read timeout=5)\n",
      "# of songs:200\n",
      "Saved Kesha, 200 songs\n",
      "Timeout raised and caught:\n",
      "HTTPSConnectionPool(host='api.genius.com', port=443): Read timed out. (read timeout=5)\n",
      "Timeout raised and caught:\n",
      "HTTPSConnectionPool(host='api.genius.com', port=443): Read timed out. (read timeout=5)\n",
      "# of songs:200\n",
      "Saved Avril Lavigne, 200 songs\n",
      "# of songs:196\n",
      "Saved Maroon 5, 196 songs\n",
      "# of songs:200\n",
      "Saved Mariah Carey, 200 songs\n",
      "# of songs:200\n",
      "Saved Ed Sheeran, 200 songs\n",
      "Timeout raised and caught:\n",
      "HTTPSConnectionPool(host='api.genius.com', port=443): Read timed out. (read timeout=5)\n",
      "Timeout raised and caught:\n",
      "HTTPSConnectionPool(host='api.genius.com', port=443): Read timed out. (read timeout=5)\n",
      "# of songs:200\n",
      "Saved Ellie Goulding, 200 songs\n",
      "# of songs:200\n",
      "Saved The Weeknd, 200 songs\n",
      "# of songs:165\n",
      "Saved Jason Derulo, 165 songs\n",
      "# of songs:81\n",
      "Saved Adele, 81 songs\n",
      "# of songs:200\n",
      "Saved Nicki Minaj, 200 songs\n",
      "# of songs:200\n",
      "Saved Janet Jackson, 200 songs\n",
      "# of songs:112\n",
      "Saved No Doubt, 112 songs\n",
      "Timeout raised and caught:\n",
      "HTTPSConnectionPool(host='api.genius.com', port=443): Read timed out. (read timeout=5)\n",
      "# of songs:200\n",
      "Saved Backstreet Boys, 200 songs\n",
      "# of songs:200\n",
      "Saved Madonna, 200 songs\n",
      "Timeout raised and caught:\n",
      "HTTPSConnectionPool(host='api.genius.com', port=443): Read timed out. (read timeout=5)\n",
      "Timeout raised and caught:\n",
      "HTTPSConnectionPool(host='api.genius.com', port=443): Read timed out. (read timeout=5)\n",
      "# of songs:200\n",
      "Saved Chris Brown, 200 songs\n",
      "# of songs:150\n",
      "Saved Selena Gomez, 150 songs\n",
      "# of songs:200\n",
      "Saved Sheryl Crow, 200 songs\n",
      "# of songs:200\n",
      "Saved Katy Perry, 200 songs\n",
      "# of songs:157\n",
      "Saved Alanis Morissette, 157 songs\n",
      "# of songs:200\n",
      "Saved Usher, 200 songs\n",
      "# of songs:200\n",
      "Saved Jennifer Lopez, 200 songs\n",
      "# of songs:200\n",
      "Saved P!nk, 200 songs\n",
      "# of songs:123\n",
      "Saved OneRepublic, 123 songs\n",
      "# of songs:101\n",
      "Saved *NSYNC, 101 songs\n",
      "# of songs:119\n",
      "Saved Nickelback, 119 songs\n",
      "# of songs:200\n",
      "Saved Eminem, 200 songs\n",
      "Timeout raised and caught:\n",
      "HTTPSConnectionPool(host='api.genius.com', port=443): Read timed out. (read timeout=5)\n",
      "# of songs:200\n",
      "Saved Céline Dion, 200 songs\n",
      "# of songs:105\n",
      "Saved Hootie & the Blowfish, 105 songs\n",
      "# of songs:200\n",
      "Saved Pitbull, 200 songs\n",
      "# of songs:200\n",
      "Saved Nelly, 200 songs\n",
      "# of songs:200\n",
      "Saved Kelly Clarkson, 200 songs\n",
      "# of songs:200\n",
      "Saved Christina Aguilera, 200 songs\n",
      "Timeout raised and caught:\n",
      "HTTPSConnectionPool(host='api.genius.com', port=443): Read timed out. (read timeout=5)\n",
      "Timeout raised and caught:\n",
      "HTTPSConnectionPool(host='api.genius.com', port=443): Read timed out. (read timeout=5)\n",
      "Timeout raised and caught:\n",
      "HTTPSConnectionPool(host='api.genius.com', port=443): Read timed out. (read timeout=5)\n",
      "# of songs:200\n",
      "Saved Ne-Yo, 200 songs\n",
      "Timeout raised and caught:\n",
      "HTTPSConnectionPool(host='api.genius.com', port=443): Read timed out. (read timeout=5)\n",
      "# of songs:160\n",
      "Saved Calvin Harris, 160 songs\n",
      "# of songs:123\n",
      "Saved Flo Rida, 123 songs\n",
      "# of songs:200\n",
      "Saved Beyoncé, 200 songs\n",
      "# of songs:200\n",
      "Saved Boyz II Men, 200 songs\n",
      "Timeout raised and caught:\n",
      "HTTPSConnectionPool(host='api.genius.com', port=443): Read timed out. (read timeout=5)\n",
      "# of songs:200\n",
      "Saved Lady Gaga, 200 songs\n",
      "# of songs:200\n",
      "Saved Enrique Iglesias, 200 songs\n",
      "# of songs:158\n",
      "Saved Destiny’s Child, 158 songs\n",
      "# of songs:200\n",
      "Saved Ariana Grande, 200 songs\n",
      "# of songs:116\n",
      "Saved Bruno Mars, 116 songs\n"
     ]
    }
   ],
   "source": [
    "fetch_all_lyrics(\"pop\")\n",
    "pop_df.to_csv(\"pop.csv\")"
   ]
  },
  {
   "cell_type": "code",
   "execution_count": null,
   "metadata": {},
   "outputs": [
    {
     "name": "stdout",
     "output_type": "stream",
     "text": [
      "GENRE: rb\n",
      "there are 25 artists\n",
      "# of songs:159\n",
      "Saved Barry White, 159 songs\n",
      "# of songs:200\n",
      "Saved Etta James, 200 songs\n",
      "# of songs:200\n",
      "Saved The Temptations, 200 songs\n",
      "# of songs:200\n",
      "Saved Ray Charles, 200 songs\n",
      "Timeout raised and caught:\n",
      "HTTPSConnectionPool(host='api.genius.com', port=443): Read timed out. (read timeout=5)\n",
      "# of songs:200\n",
      "Saved Janet Jackson, 200 songs\n",
      "# of songs:108\n",
      "Saved Aaliyah, 108 songs\n",
      "Timeout raised and caught:\n",
      "HTTPSConnectionPool(host='api.genius.com', port=443): Read timed out. (read timeout=5)\n",
      "Timeout raised and caught:\n",
      "HTTPSConnectionPool(host='api.genius.com', port=443): Read timed out. (read timeout=5)\n",
      "# of songs:200\n",
      "Saved Stevie Wonder, 200 songs\n",
      "# of songs:200\n",
      "Saved Michael Jackson, 200 songs\n",
      "Timeout raised and caught:\n",
      "HTTPSConnectionPool(host='api.genius.com', port=443): Read timed out. (read timeout=5)\n",
      "# of songs:200\n",
      "Saved Usher, 200 songs\n",
      "# of songs:200\n",
      "Saved Sam Cooke, 200 songs\n",
      "# of songs:200\n",
      "Saved B.B. King, 200 songs\n",
      "Timeout raised and caught:\n",
      "HTTPSConnectionPool(host='api.genius.com', port=443): Read timed out. (read timeout=5)\n",
      "# of songs:200\n",
      "Saved Marvin Gaye, 200 songs\n",
      "# of songs:161\n",
      "Saved Whitney Houston, 161 songs\n",
      "Timeout raised and caught:\n",
      "HTTPSConnectionPool(host='api.genius.com', port=443): Read timed out. (read timeout=5)\n",
      "Timeout raised and caught:\n",
      "HTTPSConnectionPool(host='api.genius.com', port=443): Read timed out. (read timeout=5)\n",
      "Timeout raised and caught:\n",
      "HTTPSConnectionPool(host='api.genius.com', port=443): Read timed out. (read timeout=5)\n",
      "# of songs:200\n",
      "Saved James Brown, 200 songs\n",
      "# of songs:200\n",
      "Saved Aretha Franklin, 200 songs\n",
      "# of songs:77\n",
      "Saved Anita Baker, 77 songs\n",
      "# of songs:200\n",
      "Saved Boyz II Men, 200 songs\n",
      "# of songs:200\n",
      "Saved Alicia Keys, 200 songs\n",
      "# of songs:64\n",
      "Saved Gladys Knight, 64 songs\n",
      "# of songs:200\n",
      "Saved Chuck Berry, 200 songs\n",
      "# of songs:169\n",
      "Saved Chaka Khan, 169 songs\n",
      "# of songs:200\n",
      "Saved Al Green, 200 songs\n",
      "# of songs:163\n",
      "Saved The Four Tops, 163 songs\n",
      "# of songs:200\n",
      "Saved Beyoncé, 200 songs\n",
      "# of songs:132\n",
      "Saved Gladys Knight & the Pips, 132 songs\n"
     ]
    }
   ],
   "source": [
    "fetch_all_lyrics(\"rb\")\n",
    "rb_df.to_csv(\"rb.csv\")"
   ]
  },
  {
   "cell_type": "code",
   "execution_count": null,
   "metadata": {},
   "outputs": [
    {
     "name": "stdout",
     "output_type": "stream",
     "text": [
      "GENRE: soul\n",
      "there are 26 artists\n"
     ]
    }
   ],
   "source": [
    "fetch_all_lyrics(\"soul\")\n",
    "soul_df.to_csv(\"soul.csv\")"
   ]
  },
  {
   "cell_type": "code",
   "execution_count": null,
   "metadata": {},
   "outputs": [],
   "source": [
    " "
   ]
  },
  {
   "cell_type": "code",
   "execution_count": null,
   "metadata": {},
   "outputs": [],
   "source": [
    "# other urls: \n",
    "# http://jdaytn.com/posts/download-blink-182-data/\n",
    "# https://github.com/johnwmillr/LyricsGenius\n",
    "# https://towardsdatascience.com/does-country-music-drink-more-than-other-genres-a21db901940b"
   ]
  },
  {
   "cell_type": "code",
   "execution_count": null,
   "metadata": {},
   "outputs": [],
   "source": []
  }
 ],
 "metadata": {
  "kernelspec": {
   "display_name": "Python 3",
   "language": "python",
   "name": "python3"
  },
  "language_info": {
   "codemirror_mode": {
    "name": "ipython",
    "version": 3
   },
   "file_extension": ".py",
   "mimetype": "text/x-python",
   "name": "python",
   "nbconvert_exporter": "python",
   "pygments_lexer": "ipython3",
   "version": "3.7.6"
  }
 },
 "nbformat": 4,
 "nbformat_minor": 2
}

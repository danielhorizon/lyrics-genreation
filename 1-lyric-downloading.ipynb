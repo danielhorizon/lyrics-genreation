{
 "cells": [
  {
   "cell_type": "code",
   "execution_count": 2,
   "metadata": {},
   "outputs": [],
   "source": [
    "from bs4 import BeautifulSoup\n",
    "\n",
    "import json\n",
    "import re\n",
    "\n",
    "import requests\n",
    "import numpy as np\n",
    "import pandas as pd"
   ]
  },
  {
   "cell_type": "code",
   "execution_count": 4,
   "metadata": {},
   "outputs": [],
   "source": [
    "genres = {}"
   ]
  },
  {
   "cell_type": "markdown",
   "metadata": {},
   "source": [
    "## Rap "
   ]
  },
  {
   "cell_type": "code",
   "execution_count": 3,
   "metadata": {},
   "outputs": [],
   "source": [
    "def get_artist(url): \n",
    "    url = url\n",
    "    response = requests.get(url)\n",
    "    soup = BeautifulSoup(response.text, 'html.parser')\n",
    "\n",
    "    ranker = []\n",
    "    for artist in soup.findAll('meta', {'itemprop':'name'}):\n",
    "        ranker.append(artist['content'].lower().strip())\n",
    "\n",
    "    return ranker "
   ]
  },
  {
   "cell_type": "code",
   "execution_count": 4,
   "metadata": {},
   "outputs": [
    {
     "name": "stdout",
     "output_type": "stream",
     "text": [
      "['lil tjay', 'kendrick lamar', 'lil tjay the god', 'run–dmc', 'childish gambino', 'ice cube', 'bone thugs-n-harmony', 'polo g', '50 cent', 'kodak black', 'dmx', 'big l', 'kanye west', 'swae lee', 'post malone', 'drake', 'gunna', 'mobb deep', 'a tribe called quest', 'll cool j', 'dababy', 'asap rocky', 'offset', 'busta rhymes', 'cypress hill', 'j. cole', 'migos', 'meek mill', 'young thug', 'tupac shakur', 'travis scott', 'snoop dogg', 'chance the rapper', 'rakim', 'lil skies', 'nle choppa', 'wu-tang clan', 'method man and redman', 'nas', 'tupac', 'outkast', '21 savage', 'roddy ricch', 'a boogie wit da hoodie', 'nate dogg', 'trippie redd', 'eazy-e', 'joey bada$$', 'dr. dre', 'eminem', 'the notorious b.i.g.', 'lil wayne', 'juice wrld', 'kid cudi', 'lil uzi vert', 'andré 3000', 'lil baby', 'rae sremmurd', 'ynw melly', 'youngboy never broke again', 'joyner lucas', 'logic', 'xxxtentacion', 'future', 'lil tecca', 'n.w.a', 'method man', 'ski mask the slump god']\n",
      "68\n"
     ]
    }
   ],
   "source": [
    "rap_url = \"https://www.ranker.com/crowdranked-list/the-greatest-rappers-of-all-time\"\n",
    "rap_url2 = 'https://www.ranker.com/list/best-hip-hop-artists-in-2018/ranker-music'\n",
    "rap_url3 = 'https://www.ranker.com/list/best-rappers-2019/ranker-music'\n",
    "rap_url5 = \"https://www.ranker.com/crowdranked-list/best-_90s-rappers?ref=collections&l=855723&collectionId=88\"\n",
    "rap_url4 = \"https://www.ranker.com/list/best-rappers-2020/kareem-gantt?ref=collections&l=2750895&collectionId=88\"\n",
    "rap_urls = [rap_url, rap_url2, rap_url3, rap_url4, rap_url5]\n",
    "rappers = [] \n",
    "for url in rap_urls: \n",
    "    rappers += get_artist(url)\n",
    "\n",
    "remove = ['ranker', \"the greatest rappers of all time\",'the best rappers of 2019, ranked', \n",
    "          \"the best rappers of 2018, ranked\", \"the best rappers of 2020, ranked\", \n",
    "         \"the dopest rappers of the '90s\"]\n",
    "rappers = [x for x in rappers if x not in remove] \n",
    "rapper_list = list(set(rappers))\n",
    "print(rapper_list)\n",
    "print(len(rapper_list))\n",
    "genres['rap'] = rapper_list"
   ]
  },
  {
   "cell_type": "markdown",
   "metadata": {},
   "source": [
    "## Rock, Modern Rock, Indie Rock  --> Rock"
   ]
  },
  {
   "cell_type": "code",
   "execution_count": 5,
   "metadata": {},
   "outputs": [
    {
     "name": "stdout",
     "output_type": "stream",
     "text": [
      "['fleetwood mac', 'greta van fleet', 'the killers', 'cage the elephant', 'joy division', 'breaking benjamin', 'the strokes', 'the beatles', 'bon iver', 'jimi hendrix', 'bastille', 'papa roach', 'eric clapton', 'elvis presley', 'black sabbath', 'david bowie', 'lynyrd skynyrd', 'green day', 'the rolling stones', 'simon and garfunkel', 'linkin park', 'radiohead', 'arcade fire', 'van halen', 'led zeppelin', 'ac/dc', 'tom petty and the heartbreakers', 'three days grace', 'nirvana', 'modest mouse', 'pearl jam', 'avenged sevenfold', 'creedence clearwater revival', 'the white stripes', 'tame impala', 'the smiths', 'the kooks', \"guns n' roses\", 'florence and the machine', 'the who', 'arctic monkeys', 'aerosmith', 'two door cinema club', 'oasis', 'foo fighters', 'dire straits', 'rise against', 'band-maid', 'kings of leon', 'of monsters and men', 'john lennon', 'foster the people', 'pixies', 'alt-j', 'the cure', 'my chemical romance', 'queens of the stone age', 'gorillaz', 'queen', 'r.e.m.', 'vampire weekend', 'muse', 'shinedown', 'system of a down', 'eagles', 'weezer', 'the black keys', 'evanescence', 'red hot chili peppers', 'pink floyd']\n",
      "70\n"
     ]
    }
   ],
   "source": [
    "rock_url = 'https://www.ranker.com/crowdranked-list/the-best-rock-bands-of-all-time'\n",
    "rock_url2 = \"https://www.ranker.com/list/modern-rock-bands-and-musicians/reference\"\n",
    "rock_url3 = \"https://www.ranker.com/list/indie-bands-and-artists/reference\"\n",
    "\n",
    "rock_urls = [rock_url, rock_url2, rock_url3]\n",
    "rockers = [] \n",
    "for url in rock_urls: \n",
    "    rockers += get_artist(url)\n",
    "\n",
    "remove = ['ranker', 'the best modern rock bands/artists', 'the best rock bands of all time', \n",
    "          'the best indie bands & artists', 'the best indie bands & artists']\n",
    "rockers = [x for x in rockers if x not in remove] \n",
    "rocker_list = list(set(rockers))\n",
    "print(rocker_list)\n",
    "print(len(rocker_list))\n",
    "genres['rock'] = rocker_list"
   ]
  },
  {
   "cell_type": "markdown",
   "metadata": {},
   "source": [
    "## Metal "
   ]
  },
  {
   "cell_type": "code",
   "execution_count": 12,
   "metadata": {},
   "outputs": [
    {
     "name": "stdout",
     "output_type": "stream",
     "text": [
      "['iron maiden', 'metallica', 'black sabbath', 'judas priest', 'megadeth', 'pantera', 'slayer', 'avenged sevenfold', 'slipknot', 'motorhead', 'dio', 'disturbed', 'lamb of god', 'anthrax', 'led zeppelin', 'guns n roses', 'ozzy osbourne', 'death', 'five finger death punch', 'queensryche', 'system of a down', 'motley crue', 'rainbow', 'rammstein', 'edguy', 'nightwish', 'helloween', 'ac/dc', 'stratovarius', 'dying fetus', 'scorpions', 'deep purple', 'van halen', 'blind guardian', 'alice cooper', 'opeth', 'rob zombie', 'in this moment', 'gamma ray', 'ghost', 'iced earth', 'mastodon', 'alice in chains', 'marilyn manson', 'sepultura', 'within temptation', 'papa roach', 'avantasia', 'symphony x', 'annihilator', 'black sabbath', 'iron maiden', 'pantera', 'led zeppelin', 'ozzy osbourne', 'judas priest', 'metallica', 'motörhead', 'dio', 'megadeth', 'system of a down', 'alice cooper', 'slipknot', 'alice in chains', 'tool', \"guns n' roses\", 'van halen', 'deep purple', 'rob zombie', 'anthrax', 'scorpions', 'sepultura', 'disturbed', 'mötley crüe', 'white zombie']\n",
      "75\n"
     ]
    }
   ],
   "source": [
    "url = 'https://www.thetoptens.com/top-heavy-metal-bands/'\n",
    "response = requests.get(url)\n",
    "soup = BeautifulSoup(response.text, 'html.parser')\n",
    "\n",
    "# Find all commenters\n",
    "commenters = []\n",
    "for commenter in soup.findAll('p'):\n",
    "    commenter_username = commenter.find('b')\n",
    "    if commenter_username:\n",
    "        commenters.append(commenter_username.get_text().lower().strip())\n",
    "\n",
    "# Toptens (Metal)\n",
    "metal_toptens = []\n",
    "for artist in soup.findAll('b')[1:]:\n",
    "    artist_name = artist.get_text().lower().strip()\n",
    "    if artist_name not in commenters:\n",
    "        if artist_name[0:3] != '1. ':\n",
    "            metal_toptens.append(artist_name)\n",
    "\n",
    "metal_url = \"https://www.ranker.com/crowdranked-list/best-heavy-metal-bands-that-i-know?ref=collections&l=336573&collectionId=1547\"\n",
    "metal_toptens += get_artist(metal_url)\n",
    "remove = ['ranker', 'the greatest heavy metal bands of all time']\n",
    "metal_toptens = [x for x in metal_toptens if x not in remove] \n",
    "print(metal_toptens)\n",
    "print(len(metal_toptens))\n",
    "genres['metal'] = metal_toptens\n"
   ]
  },
  {
   "cell_type": "markdown",
   "metadata": {},
   "source": [
    "## Country "
   ]
  },
  {
   "cell_type": "code",
   "execution_count": 5,
   "metadata": {
    "scrolled": true
   },
   "outputs": [
    {
     "name": "stdout",
     "output_type": "stream",
     "text": [
      "['brooks & dunn', 'patsy cline', 'michael ray', 'luke combs', 'kane brown', 'hank williams, jr.', 'morgan evans', 'cole swindell', 'william michael morgan', 'alison krauss', 'the best new country artists', 'reba mcentire', 'chris lane', 'tyler childers', 'chris stapleton', 'brothers osborne', 'brett young', 'brad paisley', 'hank williams', 'willie nelson', 'lanco', 'dolly parton', 'dwight yoakam', 'alabama', 'johnny cash', 'marty robbins', 'merle haggard', 'danielle bradbery', 'george strait', 'randy travis', 'jon pardi', 'george jones', 'don williams', 'old dominion', 'kelsea ballerini', 'midland', 'vince gill', 'carly pearce', 'waylon jennings', 'conway twitty', 'chris janson', 'loretta lynn', 'cody johnson', 'charley pride', 'lauren alaina', 'garth brooks', 'maren morris', 'dylan scott', 'ashley mcbryde', 'jordan davis', 'alan jackson']\n",
      "51\n"
     ]
    }
   ],
   "source": [
    "ctry_url = \"https://www.ranker.com/list/top-country-artists-of-all-time/samantha-dillinger\"\n",
    "ctry_url2 = 'https://www.ranker.com/list/best-new-country-artists/ranker-music'\n",
    "\n",
    "ctry_urls = [ctry_url, ctry_url2]\n",
    "country = [] \n",
    "for url in ctry_urls: \n",
    "    country += get_artist(url)\n",
    "\n",
    "remove = ['ranker', 'the top country artists of all time']\n",
    "country = [x for x in country if x not in remove] \n",
    "country_list = list(set(country))\n",
    "print(country_list)\n",
    "print(len(country_list))\n",
    "genres['country'] = country_list"
   ]
  },
  {
   "cell_type": "markdown",
   "metadata": {},
   "source": [
    "## Jazz "
   ]
  },
  {
   "cell_type": "code",
   "execution_count": 6,
   "metadata": {},
   "outputs": [
    {
     "name": "stdout",
     "output_type": "stream",
     "text": [
      "['norman brown', 'boney james', 'david sanborn', 'natalie cole', 'oscar peterson', 'anita baker', 'peggy lee', 'abbey lincoln', 'sade adu', 'dianne reeves', 'louis armstrong', 'lionel hampton', 'cassandra wilson', 'miles davis', 'sonny rollins', 'norah jones', 'ella fitzgerald', 'betty carter', 'rosemary clooney', 'joe pass', 'julie london', 'carmen mcrae', 'shirley horn', 'lester young', 'the rippingtons', 'clark terry', 'django reinhardt', 'madeleine peyroux', 'nina simone', 'amy winehouse', 'cannonball adderley', 'art blakey', 'jeff lorber', 'bessie smith', 'diana krall', 'spyro gyra', 'artie shaw', 'dave koz', 'freddie hubbard', 'paul hardcastle', 'al jarreau', 'clifford brown', 'brian culbertson', 'lee ritenour', 'dizzy gillespie', 'marc antoine', 'dexter gordon', 'kirk whalum', 'lena horne', 'chris botti', 'bob james', 'earl klugh', \"anita o'day\", 'david benoit', 'melody gardot', 'dave brubeck', 'fourplay', 'etta james', 'peter white', 'acoustic alchemy', 'larry carlton', 'art tatum', 'billie holiday', 'nancy wilson', 'sarah vaughan', 'wes montgomery', 'gene krupa', 'charlie parker', 'dinah washington', 'coleman hawkins', 'grover washington, jr.', 'ray brown', 'buddy rich']\n",
      "73\n"
     ]
    }
   ],
   "source": [
    "jazz_url = \"https://www.ranker.com/list/best-jazz-bands-and-artists/ranker-music?ref=collections&l=101462&collectionId=1428\"\n",
    "smooth_jazz = \"https://www.ranker.com/list/smooth-jazz-bands-and-musicians/ranker-music\"\n",
    "female_jazz = \"https://www.ranker.com/list/best-female-jazz-singers/rockboy?ref=collections&l=101377&collectionId=1461\"\n",
    "\n",
    "jazz_urls = [jazz_url, smooth_jazz, female_jazz]\n",
    "jazz = [] \n",
    "for url in jazz_urls: \n",
    "    jazz += get_artist(url)\n",
    "    \n",
    "remove = ['ranker', 'the very best jazz musicians & artists', \n",
    "          'make your voice heard: who are the best female jazz singers?', \n",
    "         'the best smooth jazz bands and artists of all time']\n",
    "jazz = [x for x in jazz if x not in remove] \n",
    "jazz_list = list(set(jazz))\n",
    "print(jazz_list)\n",
    "print(len(jazz_list))\n",
    "genres['jazz'] = jazz_list"
   ]
  },
  {
   "cell_type": "markdown",
   "metadata": {},
   "source": [
    "## Folk "
   ]
  },
  {
   "cell_type": "code",
   "execution_count": 7,
   "metadata": {},
   "outputs": [
    {
     "name": "stdout",
     "output_type": "stream",
     "text": [
      "['the best folk bands/artists', 'joni mitchell', 'john prine', 'bob dylan', 'gordon lightfoot', 'the weavers', 'john sebastian', 'donovan', 'fairport convention', 'linda ronstadt', 'kris kristofferson', 'buffy sainte-marie', 'leonard cohen', 'carole king', 'john denver', 'woody guthrie', 'jim croce', 'cat stevens', 'james taylor', 'janis ian', 'joan baez', 'stephen stills', 'lucinda williams', 'richard thompson', 'neil young', 'dave giummo']\n",
      "26\n"
     ]
    }
   ],
   "source": [
    "folk_url = \"https://www.ranker.com/list/folk-music-bands-and-musicians/ranker-music\"\n",
    "folk = get_artist(folk_url)\n",
    "remove = ['ranker']\n",
    "folk = [x for x in folk if x not in remove] \n",
    "folk_list = list(set(folk))\n",
    "print(folk_list)\n",
    "print(len(folk_list))\n",
    "genres['folk'] = folk_list"
   ]
  },
  {
   "cell_type": "markdown",
   "metadata": {},
   "source": [
    "## Pop "
   ]
  },
  {
   "cell_type": "code",
   "execution_count": 10,
   "metadata": {},
   "outputs": [
    {
     "name": "stdout",
     "output_type": "stream",
     "text": [
      "[\"destiny's child\", 'hootie & the blowfish', 'justin timberlake', 'nelly', 'bruno mars', 'maroon 5', 'jennifer lopez', 'flo rida', '3 doors down', 'ed sheeran', 'kesha', 'onerepublic', 'rihanna', 'taylor swift', 'nickelback', 'justin bieber', 'usher', 'calvin harris', 'p!nk', 'kelly clarkson', 'nicki minaj', 'no doubt', 'ariana grande', 'madonna', 'the weeknd', 'matchbox twenty', 'beyonce', 'ellie goulding', 'christina aguilera', 'backstreet boys', 'katy perry', 'jason derulo', 'the black eyed peas', 'mariah carey', 'avril lavigne', 'selena gomez', 'enrique iglesias', 'eminem', 'pitbull', 'adele', \"'n sync\", 'celine dion', 'janet jackson', 'ne-yo', 'britney spears', 'alanis morissette', 'boyz ii men', 'lady gaga', 'chris brown', 'sheryl crow']\n",
      "50\n"
     ]
    }
   ],
   "source": [
    "# Billboard (Pop)\n",
    "url = 'https://www.billboard.com/charts/greatest-of-all-time-pop-songs-artists'\n",
    "response = requests.get(url)\n",
    "soup = BeautifulSoup(response.text, 'html.parser')\n",
    "\n",
    "pop_billboard = []\n",
    "for artist in soup.findAll('a', {'href':re.compile('/music/')}):\n",
    "    artist = artist.get_text().replace('\\n', '')\n",
    "    pop_billboard.append(artist.lower().strip())\n",
    "\n",
    "pop = list(set(pop_billboard))\n",
    "print(pop)\n",
    "print(len(pop))\n",
    "genres['pop'] = list(set(pop_billboard))"
   ]
  },
  {
   "cell_type": "markdown",
   "metadata": {},
   "source": [
    "## R&B "
   ]
  },
  {
   "cell_type": "code",
   "execution_count": 11,
   "metadata": {},
   "outputs": [
    {
     "name": "stdout",
     "output_type": "stream",
     "text": [
      "['aretha franklin', 'gladys knight & the pips', 'al green', 'etta james', 'ray charles', 'stevie wonder', 'aaliyah', 'b.b. king', 'usher', 'whitney houston', 'barry white', 'chuck berry', 'anita baker', 'marvin gaye', 'the temptations', 'alicia keys', 'gladys knight', 'james brown', 'michael jackson', 'beyoncé knowles', 'sam cooke', 'janet jackson', 'four tops', 'boyz ii men', 'chaka khan']\n",
      "25\n"
     ]
    }
   ],
   "source": [
    "rb_url = \"https://www.ranker.com/list/best-rhythm-and-blues-bands-and-artists/ranker-music?ref=collections&l=1055563&collectionId=2872\"\n",
    "rb_url1 = \"https://www.ranker.com/list/best-rhythm-and-blues-artists-2019/music-lover\"\n",
    "rb_url2 = \"https://www.ranker.com/list/best-r-and-b-artists-and-bands/ranker-music?ref=collections&l=997413&collectionId=2872\"\n",
    "\n",
    "rb_urls = [rb_url, rb_url1, rb_url2]\n",
    "rb = [] \n",
    "for url in rb_urls:\n",
    "    rb += get_artist(rb_url)\n",
    "\n",
    "remove = ['ranker', 'the greatest r&b artists of all time']\n",
    "rb = [x for x in rb if x not in remove] \n",
    "rb_list = list(set(rb))\n",
    "print(rb_list)\n",
    "print(len(rb_list))\n",
    "genres['rb'] = rb_list"
   ]
  },
  {
   "cell_type": "markdown",
   "metadata": {},
   "source": [
    "## Soul "
   ]
  },
  {
   "cell_type": "code",
   "execution_count": 12,
   "metadata": {},
   "outputs": [
    {
     "name": "stdout",
     "output_type": "stream",
     "text": [
      "['aretha franklin', 'gladys knight & the pips', 'tina turner', 'bill withers', 'al green', 'otis redding', 'etta james', 'ray charles', 'stevie wonder', 'the best soul singers/groups of all time', 'curtis mayfield', 'smokey robinson', 'wilson pickett', 'whitney houston', 'barry white', 'marvin gaye', 'the temptations', 'jackie wilson', 'james brown', 'the isley brothers', 'michael jackson', 'sam cooke', 'luther vandross', 'earth, wind & fire', \"the o'jays\", 'donny hathaway']\n",
      "26\n"
     ]
    }
   ],
   "source": [
    "soul_url = \"https://www.ranker.com/list/soul-music-bands-and-musicians/reference?ref=collections&l=337012&collectionId=1909\"\n",
    "soul = [] \n",
    "soul = get_artist(soul_url)\n",
    "remove = ['ranker']\n",
    "soul = [x for x in soul if x not in remove] \n",
    "soul_list = list(set(soul))\n",
    "print(soul_list)\n",
    "print(len(soul_list))\n",
    "genres['soul'] = soul_list\n"
   ]
  },
  {
   "cell_type": "markdown",
   "metadata": {},
   "source": [
    "# Pulling Lyrics "
   ]
  },
  {
   "cell_type": "code",
   "execution_count": 7,
   "metadata": {},
   "outputs": [
    {
     "name": "stdout",
     "output_type": "stream",
     "text": [
      "['country', 'jazz']\n"
     ]
    }
   ],
   "source": [
    "print(list(genres.keys()))"
   ]
  },
  {
   "cell_type": "code",
   "execution_count": 8,
   "metadata": {},
   "outputs": [],
   "source": [
    "client_secret = \"PyIOc0fpU1kTrUgGmxfWZJTzPXxo4nwJY68im8ijCNgC1X23A-HpB4N4ojME83sGeS7qEh0hBTKksUTs1Tn8Tg\"\n",
    "client_id = \"UxVTuW-k7r1aP_9-7LBhfCCHJAdkXhu-tQslckEDV5_P9ChNAXmRtRVwyhrxOc4k\"\n",
    "access_token = \"h7LnkbwF2kidbhXTUAA9HexEkCFMlnt05D8Zs2Y8H9FTEBvl1tra1fceYNtnAyhN\"\n",
    "\n",
    "import lyricsgenius as genius\n",
    "import json \n",
    "import time \n",
    "api = genius.Genius(\"h7LnkbwF2kidbhXTUAA9HexEkCFMlnt05D8Zs2Y8H9FTEBvl1tra1fceYNtnAyhN\")\n",
    "api.verbose = False # Turn off status messages\n",
    "api.remove_section_headers = True # Remove section headers (e.g. [Chorus]) from lyrics when searching\n",
    "api.skip_non_songs = False # Include hits thought to be non-songs (e.g. track lists)\n",
    "api.excluded_terms = [\"(Remix)\", \"(Live)\"] # Exclude songs with these words in their title"
   ]
  },
  {
   "cell_type": "code",
   "execution_count": 15,
   "metadata": {},
   "outputs": [],
   "source": [
    "rap_df = pd.DataFrame(columns=['artist', 'genre', 'title', 'lyrics'])\n",
    "rock_df = pd.DataFrame(columns=['artist', 'genre', 'title', 'lyrics'])\n",
    "country_df = pd.DataFrame(columns=['artist', 'genre', 'title', 'lyrics'])\n"
   ]
  },
  {
   "cell_type": "code",
   "execution_count": 14,
   "metadata": {},
   "outputs": [],
   "source": [
    "metal_df = pd.DataFrame(columns=['artist', 'genre', 'title', 'lyrics'])\n"
   ]
  },
  {
   "cell_type": "code",
   "execution_count": 15,
   "metadata": {},
   "outputs": [],
   "source": [
    "def get_lyrics(genre, artist, num_songs): \n",
    "    filename = str(artist) + \".json\"\n",
    "    while True: \n",
    "        try: \n",
    "            artist = api.search_artist(artist, max_songs=num_songs) \n",
    "            break \n",
    "        except: \n",
    "            pass \n",
    "    \n",
    "    if artist is None: \n",
    "        return \n",
    "    rows = [] \n",
    "    if artist.songs is not None: \n",
    "        print(\"# of songs:\" + str(len(artist.songs)))\n",
    "        for i in range(len(artist.songs)): \n",
    "            rows.append((str(artist.songs[i].artist), \n",
    "                         \"rap\", str(artist.songs[i].title ), \n",
    "                         str(artist.songs[i].lyrics)))\n",
    "\n",
    "    artist_df = pd.DataFrame(rows, columns =['artist', 'genre', 'title', 'lyrics'])\n",
    "    # setting it as global \n",
    "    global rap_df, rock_df, country_df, jazz_df, folk_df, rb_df, metal_df, pop_df, soul_df \n",
    "    if genre == \"rap\": \n",
    "        rap_df = rap_df.append(artist_df)\n",
    "    if genre == \"rock\": \n",
    "        rock_df = rock_df.append(artist_df)\n",
    "    if genre == \"country\":\n",
    "        country_df = country_df.append(artist_df)\n",
    "    if genre == \"jazz\":\n",
    "        jazz_df = jazz_df.append(artist_df)\n",
    "    if genre == \"folk\":\n",
    "        folk_df = folk_df.append(artist_df)\n",
    "    if genre == \"rb\": \n",
    "        rb_df = rb_df.append(artist_df)\n",
    "    if genre == \"metal\":\n",
    "        metal_df = metal_df.append(artist_df)\n",
    "    if genre == \"pop\":\n",
    "        pop_df = pop_df.append(artist_df)\n",
    "    if genre == \"soul\":\n",
    "        soul_df = soul_df.append(artist_df)\n",
    "    print(\"Saved \" +str(artist))\n",
    "    return "
   ]
  },
  {
   "cell_type": "code",
   "execution_count": 16,
   "metadata": {},
   "outputs": [
    {
     "ename": "KeyError",
     "evalue": "'rap'",
     "output_type": "error",
     "traceback": [
      "\u001b[0;31m---------------------------------------------------------------------------\u001b[0m",
      "\u001b[0;31mKeyError\u001b[0m                                  Traceback (most recent call last)",
      "\u001b[0;32m<ipython-input-16-1c1346423c8d>\u001b[0m in \u001b[0;36m<module>\u001b[0;34m\u001b[0m\n\u001b[0;32m----> 1\u001b[0;31m \u001b[0mrappers\u001b[0m \u001b[0;34m=\u001b[0m \u001b[0mgenres\u001b[0m\u001b[0;34m[\u001b[0m\u001b[0;34m\"rap\"\u001b[0m\u001b[0;34m]\u001b[0m\u001b[0;34m\u001b[0m\u001b[0;34m\u001b[0m\u001b[0m\n\u001b[0m\u001b[1;32m      2\u001b[0m \u001b[0mprint\u001b[0m\u001b[0;34m(\u001b[0m\u001b[0mrappers\u001b[0m\u001b[0;34m)\u001b[0m\u001b[0;34m\u001b[0m\u001b[0;34m\u001b[0m\u001b[0m\n",
      "\u001b[0;31mKeyError\u001b[0m: 'rap'"
     ]
    }
   ],
   "source": [
    "rappers = genres[\"rap\"]\n",
    "print(rappers)"
   ]
  },
  {
   "cell_type": "code",
   "execution_count": 17,
   "metadata": {},
   "outputs": [],
   "source": [
    "def fetch_all_lyrics(genre): \n",
    "    print(\"GENRE: \" + str(genre))\n",
    "    artists = genres[genre]\n",
    "    print(\"there are \" + str(len(artists)) + \" artists\")\n",
    "    for art in artists: \n",
    "        get_lyrics(genre, art, 200)\n",
    "    \n",
    "#fetch_all_lyrics(\"rap\")\n",
    "#rap_df.to_csv(\"rappers.csv\")"
   ]
  },
  {
   "cell_type": "code",
   "execution_count": 18,
   "metadata": {},
   "outputs": [],
   "source": [
    "# # rap, rock, metal, country, jazz, folk, pop, r&b, soul\n",
    "# fetch_all_lyrics(\"rock\")\n",
    "# rock_df.to_csv(\"rockers.csv\")"
   ]
  },
  {
   "cell_type": "code",
   "execution_count": 19,
   "metadata": {},
   "outputs": [
    {
     "name": "stdout",
     "output_type": "stream",
     "text": [
      "GENRE: metal\n",
      "there are 75 artists\n",
      "# of songs:200\n",
      "Saved Iron Maiden, 200 songs\n",
      "Timeout raised and caught:\n",
      "HTTPSConnectionPool(host='api.genius.com', port=443): Read timed out. (read timeout=5)\n",
      "# of songs:200\n",
      "Saved Metallica, 200 songs\n",
      "# of songs:200\n",
      "Saved Black Sabbath, 200 songs\n",
      "# of songs:200\n",
      "Saved Judas Priest, 200 songs\n",
      "# of songs:200\n",
      "Saved Megadeth, 200 songs\n",
      "# of songs:139\n",
      "Saved Pantera, 139 songs\n",
      "# of songs:200\n",
      "Saved Slayer, 200 songs\n",
      "# of songs:146\n",
      "Saved Avenged Sevenfold, 146 songs\n",
      "# of songs:200\n",
      "Saved Slipknot, 200 songs\n",
      "# of songs:200\n",
      "Saved Motörhead, 200 songs\n",
      "# of songs:200\n",
      "Saved Céline Dion, 200 songs\n",
      "# of songs:144\n",
      "Saved Disturbed, 144 songs\n",
      "# of songs:134\n",
      "Saved Lamb of God, 134 songs\n",
      "# of songs:200\n",
      "Saved Anthrax, 200 songs\n",
      "# of songs:186\n",
      "Saved Led Zeppelin, 186 songs\n",
      "# of songs:186\n",
      "Saved Guns N’ Roses, 186 songs\n",
      "# of songs:200\n",
      "Saved Ozzy Osbourne, 200 songs\n",
      "# of songs:134\n",
      "Saved Death Grips, 134 songs\n",
      "# of songs:140\n",
      "Saved Five Finger Death Punch, 140 songs\n",
      "# of songs:200\n",
      "Saved Queensrÿche, 200 songs\n",
      "# of songs:117\n",
      "Saved System of a Down, 117 songs\n",
      "# of songs:188\n",
      "Saved Mötley Crüe, 188 songs\n",
      "# of songs:44\n",
      "Saved Rainbow Kitten Surprise, 44 songs\n",
      "# of songs:172\n",
      "Saved Rammstein, 172 songs\n",
      "# of songs:145\n",
      "Saved Edguy, 145 songs\n",
      "# of songs:166\n",
      "Saved Nightwish, 166 songs\n",
      "# of songs:200\n",
      "Saved Helloween, 200 songs\n",
      "# of songs:200\n",
      "Saved AC/DC, 200 songs\n",
      "# of songs:190\n",
      "Saved Stratovarius, 190 songs\n",
      "# of songs:89\n",
      "Saved Dying Fetus, 89 songs\n",
      "# of songs:200\n",
      "Saved Scorpions, 200 songs\n",
      "# of songs:200\n",
      "Saved Deep Purple, 200 songs\n",
      "# of songs:198\n",
      "Saved Van Halen, 198 songs\n",
      "# of songs:172\n",
      "Saved Blind Guardian, 172 songs\n",
      "# of songs:200\n",
      "Saved Alice Cooper, 200 songs\n",
      "# of songs:141\n",
      "Saved Opeth, 141 songs\n",
      "# of songs:119\n",
      "Saved Rob Zombie, 119 songs\n",
      "# of songs:111\n",
      "Saved In This Moment, 111 songs\n",
      "# of songs:158\n",
      "Saved Gamma Ray, 158 songs\n",
      "# of songs:192\n",
      "Saved Ghostemane, 192 songs\n",
      "# of songs:199\n",
      "Saved Iced Earth, 199 songs\n",
      "# of songs:151\n",
      "Saved Mastodon, 151 songs\n",
      "# of songs:135\n",
      "Saved Alice in Chains, 135 songs\n",
      "# of songs:200\n",
      "Saved Marilyn Manson, 200 songs\n",
      "# of songs:200\n",
      "Saved Sepultura, 200 songs\n",
      "# of songs:181\n",
      "Saved Within Temptation, 181 songs\n",
      "# of songs:200\n",
      "Saved Papa Roach, 200 songs\n",
      "# of songs:111\n",
      "Saved Avantasia, 111 songs\n",
      "# of songs:94\n",
      "Saved Symphony X, 94 songs\n",
      "# of songs:43\n",
      "Saved Infant Annihilator, 43 songs\n",
      "# of songs:200\n",
      "Saved Black Sabbath, 200 songs\n",
      "# of songs:200\n",
      "Saved Iron Maiden, 200 songs\n",
      "# of songs:139\n",
      "Saved Pantera, 139 songs\n",
      "# of songs:186\n",
      "Saved Led Zeppelin, 186 songs\n",
      "# of songs:200\n",
      "Saved Ozzy Osbourne, 200 songs\n",
      "# of songs:200\n",
      "Saved Judas Priest, 200 songs\n",
      "# of songs:200\n",
      "Saved Metallica, 200 songs\n",
      "# of songs:200\n",
      "Saved Motörhead, 200 songs\n",
      "# of songs:200\n",
      "Saved Céline Dion, 200 songs\n",
      "# of songs:200\n",
      "Saved Megadeth, 200 songs\n",
      "# of songs:117\n",
      "Saved System of a Down, 117 songs\n",
      "# of songs:200\n",
      "Saved Alice Cooper, 200 songs\n",
      "# of songs:200\n",
      "Saved Slipknot, 200 songs\n",
      "# of songs:135\n",
      "Saved Alice in Chains, 135 songs\n",
      "# of songs:78\n",
      "Saved Tool, 78 songs\n",
      "# of songs:186\n",
      "Saved Guns N’ Roses, 186 songs\n",
      "Timeout raised and caught:\n",
      "HTTPSConnectionPool(host='api.genius.com', port=443): Read timed out. (read timeout=5)\n",
      "# of songs:198\n",
      "Saved Van Halen, 198 songs\n",
      "# of songs:200\n",
      "Saved Deep Purple, 200 songs\n",
      "# of songs:119\n",
      "Saved Rob Zombie, 119 songs\n",
      "# of songs:200\n",
      "Saved Anthrax, 200 songs\n",
      "# of songs:200\n",
      "Saved Scorpions, 200 songs\n",
      "# of songs:200\n",
      "Saved Sepultura, 200 songs\n",
      "# of songs:144\n",
      "Saved Disturbed, 144 songs\n",
      "# of songs:188\n",
      "Saved Mötley Crüe, 188 songs\n",
      "# of songs:79\n",
      "Saved White Zombie, 79 songs\n"
     ]
    }
   ],
   "source": [
    "fetch_all_lyrics(\"metal\")\n",
    "metal_df.to_csv(\"metal.csv\")"
   ]
  },
  {
   "cell_type": "code",
   "execution_count": null,
   "metadata": {},
   "outputs": [
    {
     "name": "stdout",
     "output_type": "stream",
     "text": [
      "GENRE: country\n",
      "there are 51 artists\n",
      "# of songs:171\n",
      "Saved Brooks & Dunn, 171 songs\n",
      "# of songs:170\n",
      "Saved Patsy Cline, 170 songs\n",
      "# of songs:200\n",
      "Saved Tyga, 200 songs\n",
      "# of songs:50\n",
      "Saved Luke Combs, 50 songs\n",
      "# of songs:50\n",
      "Saved Kane Brown, 50 songs\n",
      "# of songs:200\n",
      "Saved Hank Williams Jr., 200 songs\n",
      "# of songs:14\n",
      "Saved Morgan Evans, 14 songs\n",
      "# of songs:67\n",
      "Saved Cole Swindell, 67 songs\n",
      "# of songs:18\n",
      "Saved William Michael Morgan, 18 songs\n",
      "# of songs:87\n",
      "Saved Alison Krauss, 87 songs\n",
      "# of songs:200\n",
      "Saved Reba McEntire, 200 songs\n",
      "# of songs:32\n",
      "Saved Chris Lane, 32 songs\n",
      "# of songs:66\n",
      "Saved Tyler Childers, 66 songs\n",
      "# of songs:46\n",
      "Saved Chris Stapleton, 46 songs\n",
      "# of songs:39\n",
      "Saved Brothers Osborne, 39 songs\n",
      "# of songs:50\n",
      "Saved Brett Young, 50 songs\n",
      "# of songs:200\n",
      "Saved Brad Paisley, 200 songs\n",
      "# of songs:200\n",
      "Saved Hank Williams, 200 songs\n",
      "# of songs:200\n",
      "Saved Willie Nelson, 200 songs\n",
      "# of songs:14\n",
      "Saved LANco, 14 songs\n",
      "# of songs:200\n",
      "Saved Dolly Parton, 200 songs\n",
      "# of songs:200\n",
      "Saved Dwight Yoakam, 200 songs\n",
      "# of songs:30\n",
      "Saved Alabama Shakes, 30 songs\n",
      "# of songs:200\n",
      "Saved Johnny Cash, 200 songs\n",
      "# of songs:200\n",
      "Saved Marty Robbins, 200 songs\n",
      "# of songs:200\n",
      "Saved Merle Haggard, 200 songs\n",
      "# of songs:50\n",
      "Saved Danielle Bradbery, 50 songs\n",
      "# of songs:200\n",
      "Saved George Strait, 200 songs\n",
      "Timeout raised and caught:\n",
      "HTTPSConnectionPool(host='api.genius.com', port=443): Read timed out. (read timeout=5)\n",
      "# of songs:200\n",
      "Saved Randy Travis, 200 songs\n",
      "# of songs:43\n",
      "Saved Jon Pardi, 43 songs\n",
      "# of songs:200\n",
      "Saved George Jones, 200 songs\n",
      "# of songs:200\n",
      "Saved Don Williams, 200 songs\n",
      "# of songs:41\n",
      "Saved Old Dominion, 41 songs\n",
      "# of songs:97\n",
      "Saved Kelsea Ballerini, 97 songs\n",
      "# of songs:35\n",
      "Saved Midland, 35 songs\n",
      "Timeout raised and caught:\n",
      "HTTPSConnectionPool(host='api.genius.com', port=443): Read timed out. (read timeout=5)\n",
      "# of songs:200\n",
      "Saved Vince Gill, 200 songs\n",
      "# of songs:25\n",
      "Saved Carly Pearce, 25 songs\n",
      "# of songs:200\n",
      "Saved Waylon Jennings, 200 songs\n",
      "# of songs:200\n",
      "Saved Conway Twitty, 200 songs\n",
      "# of songs:52\n",
      "Saved Chris Janson, 52 songs\n",
      "# of songs:200\n",
      "Saved Loretta Lynn, 200 songs\n",
      "# of songs:77\n",
      "Saved Cody Johnson, 77 songs\n",
      "# of songs:200\n",
      "Saved Charley Pride, 200 songs\n",
      "# of songs:54\n",
      "Saved Lauren Alaina, 54 songs\n",
      "# of songs:199\n",
      "Saved Garth Brooks, 199 songs\n",
      "# of songs:2\n",
      "Saved Zedd, Maren Morris & Grey, 2 songs\n",
      "# of songs:58\n",
      "Saved Dylan Scott, 58 songs\n",
      "# of songs:41\n",
      "Saved Ashley McBryde, 41 songs\n",
      "# of songs:15\n",
      "Saved Jordan Davis, 15 songs\n",
      "Timeout raised and caught:\n",
      "HTTPSConnectionPool(host='api.genius.com', port=443): Read timed out. (read timeout=5)\n"
     ]
    }
   ],
   "source": [
    "country_df = pd.DataFrame(columns=['artist', 'genre', 'title', 'lyrics'])\n",
    "fetch_all_lyrics(\"country\")\n",
    "country_df.to_csv(\"country.csv\")"
   ]
  },
  {
   "cell_type": "code",
   "execution_count": 22,
   "metadata": {},
   "outputs": [],
   "source": [
    "# jazz_df = pd.DataFrame(columns=['artist', 'genre', 'title', 'lyrics'])\n",
    "# folk_df = pd.DataFrame(columns=['artist', 'genre', 'title', 'lyrics'])\n",
    "# rb_df = pd.DataFrame(columns=['artist', 'genre', 'title', 'lyrics'])\n",
    "# metal_df = pd.DataFrame(columns=['artist', 'genre', 'title', 'lyrics'])\n",
    "# pop_df = pd.DataFrame(columns=['artist', 'genre', 'title', 'lyrics'])\n"
   ]
  },
  {
   "cell_type": "code",
   "execution_count": 23,
   "metadata": {},
   "outputs": [],
   "source": [
    "# fetch_all_lyrics(\"jazz\")\n",
    "# jazz_df.to_csv(\"jazz.csv\")"
   ]
  },
  {
   "cell_type": "code",
   "execution_count": 24,
   "metadata": {},
   "outputs": [],
   "source": [
    "# fetch_all_lyrics(\"folk\")\n",
    "# folk_df.to_csv(\"folk.csv\")"
   ]
  },
  {
   "cell_type": "code",
   "execution_count": 25,
   "metadata": {},
   "outputs": [],
   "source": [
    "# fetch_all_lyrics(\"pop\")\n",
    "# pop_df.to_csv(\"pop.csv\")"
   ]
  },
  {
   "cell_type": "code",
   "execution_count": 26,
   "metadata": {},
   "outputs": [],
   "source": [
    "# fetch_all_lyrics(\"rb\")\n",
    "# rb_df.to_csv(\"rb.csv\")"
   ]
  },
  {
   "cell_type": "code",
   "execution_count": 27,
   "metadata": {},
   "outputs": [
    {
     "name": "stdout",
     "output_type": "stream",
     "text": [
      "GENRE: soul\n",
      "there are 26 artists\n",
      "# of songs:200\n",
      "Saved Aretha Franklin, 200 songs\n",
      "# of songs:132\n",
      "Saved Gladys Knight & the Pips, 132 songs\n",
      "# of songs:189\n",
      "Saved Tina Turner, 189 songs\n",
      "# of songs:92\n",
      "Saved Bill Withers, 92 songs\n",
      "# of songs:200\n",
      "Saved Al Green, 200 songs\n",
      "# of songs:170\n",
      "Saved Otis Redding, 170 songs\n",
      "# of songs:200\n",
      "Saved Etta James, 200 songs\n",
      "# of songs:200\n",
      "Saved Ray Charles, 200 songs\n",
      "# of songs:200\n",
      "Saved Stevie Wonder, 200 songs\n",
      "# of songs:191\n",
      "Saved Curtis Mayfield, 191 songs\n",
      "# of songs:198\n",
      "Saved Smokey Robinson, 198 songs\n",
      "# of songs:98\n",
      "Saved Wilson Pickett, 98 songs\n",
      "# of songs:161\n",
      "Saved Whitney Houston, 161 songs\n",
      "# of songs:159\n",
      "Saved Barry White, 159 songs\n",
      "# of songs:200\n",
      "Saved Marvin Gaye, 200 songs\n",
      "# of songs:200\n",
      "Saved The Temptations, 200 songs\n",
      "# of songs:84\n",
      "Saved Jackie Wilson, 84 songs\n",
      "# of songs:200\n",
      "Saved James Brown, 200 songs\n",
      "# of songs:200\n",
      "Saved The Isley Brothers, 200 songs\n",
      "# of songs:200\n",
      "Saved Michael Jackson, 200 songs\n",
      "# of songs:200\n",
      "Saved Sam Cooke, 200 songs\n",
      "# of songs:197\n",
      "Saved Luther Vandross, 197 songs\n",
      "Timeout raised and caught:\n",
      "HTTPSConnectionPool(host='api.genius.com', port=443): Read timed out. (read timeout=5)\n",
      "# of songs:200\n",
      "Saved Earth, Wind & Fire, 200 songs\n",
      "# of songs:82\n",
      "Saved Josylvio, 82 songs\n",
      "# of songs:57\n",
      "Saved Donny Hathaway, 57 songs\n"
     ]
    }
   ],
   "source": [
    "soul_df = pd.DataFrame(columns=['artist', 'genre', 'title', 'lyrics'])\n",
    "fetch_all_lyrics(\"soul\")\n",
    "soul_df.to_csv(\"soul.csv\")"
   ]
  },
  {
   "cell_type": "code",
   "execution_count": null,
   "metadata": {},
   "outputs": [],
   "source": [
    " "
   ]
  },
  {
   "cell_type": "code",
   "execution_count": 28,
   "metadata": {},
   "outputs": [],
   "source": [
    "# other urls: \n",
    "# http://jdaytn.com/posts/download-blink-182-data/\n",
    "# https://github.com/johnwmillr/LyricsGenius\n",
    "# https://towardsdatascience.com/does-country-music-drink-more-than-other-genres-a21db901940b"
   ]
  },
  {
   "cell_type": "code",
   "execution_count": null,
   "metadata": {},
   "outputs": [],
   "source": []
  }
 ],
 "metadata": {
  "kernelspec": {
   "display_name": "Python 3",
   "language": "python",
   "name": "python3"
  },
  "language_info": {
   "codemirror_mode": {
    "name": "ipython",
    "version": 3
   },
   "file_extension": ".py",
   "mimetype": "text/x-python",
   "name": "python",
   "nbconvert_exporter": "python",
   "pygments_lexer": "ipython3",
   "version": "3.7.6"
  }
 },
 "nbformat": 4,
 "nbformat_minor": 2
}

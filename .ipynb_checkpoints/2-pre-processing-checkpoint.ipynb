{
 "cells": [
  {
   "cell_type": "code",
   "execution_count": 1,
   "metadata": {},
   "outputs": [],
   "source": [
    "import csv\n",
    "import numpy as np \n",
    "import pandas as pd "
   ]
  },
  {
   "cell_type": "markdown",
   "metadata": {},
   "source": [
    "## Genius Lyrics Cleaning "
   ]
  },
  {
   "cell_type": "code",
   "execution_count": 8,
   "metadata": {},
   "outputs": [
    {
     "name": "stdout",
     "output_type": "stream",
     "text": [
      "        artist  genre                    title  \\\n",
      "0  Iron Maiden  metal  The Number of the Beast   \n",
      "1  Iron Maiden  metal         Fear of the Dark   \n",
      "2  Iron Maiden  metal              The Trooper   \n",
      "3  Iron Maiden  metal     Hallowed Be Thy Name   \n",
      "4  Iron Maiden  metal         Run to the Hills   \n",
      "\n",
      "                                              lyrics  \n",
      "0  Woe to you, o'er Earth and Sea\\nFor the Devil ...  \n",
      "1  I am a man who walks alone\\nAnd when I'm walki...  \n",
      "2  You'll take my life but I'll take yours too\\nY...  \n",
      "3  I'm waiting in my cold cell, when the bell beg...  \n",
      "4  White man came across the sea\\nHe brought us p...  \n"
     ]
    }
   ],
   "source": [
    "metal = pd.read_csv(\"genius_data/metal.csv\", index_col=0)\n",
    "rap = pd.read_csv(\"genius_data/rappers.csv\", index_col=0)\n",
    "rock = pd.read_csv(\"genius_data/rockers.csv\", index_col=0)\n",
    "jazz = pd.read_csv(\"genius_data/jazz.csv\", index_col=0)\n",
    "folk = pd.read_csv(\"genius_data/folk.csv\", index_col=0)\n",
    "pop = pd.read_csv(\"genius_data/pop.csv\", index_col=0)\n",
    "rb = pd.read_csv(\"genius_data/rb.csv\", index_col=0)\n",
    "soul = pd.read_csv(\"genius_data/soul.csv\", index_col=0)\n",
    "country = pd.read_csv(\"genius_data/country.csv\", index_col=0)"
   ]
  },
  {
   "cell_type": "code",
   "execution_count": 6,
   "metadata": {},
   "outputs": [
    {
     "name": "stderr",
     "output_type": "stream",
     "text": [
      "/usr/local/lib/python3.7/site-packages/ipykernel_launcher.py:2: FutureWarning: Sorting because non-concatenation axis is not aligned. A future version\n",
      "of pandas will change to not sort by default.\n",
      "\n",
      "To accept the future behavior, pass 'sort=False'.\n",
      "\n",
      "To retain the current behavior and silence the warning, pass 'sort=True'.\n",
      "\n",
      "  \n"
     ]
    },
    {
     "data": {
      "text/html": [
       "<div>\n",
       "<style scoped>\n",
       "    .dataframe tbody tr th:only-of-type {\n",
       "        vertical-align: middle;\n",
       "    }\n",
       "\n",
       "    .dataframe tbody tr th {\n",
       "        vertical-align: top;\n",
       "    }\n",
       "\n",
       "    .dataframe thead th {\n",
       "        text-align: right;\n",
       "    }\n",
       "</style>\n",
       "<table border=\"1\" class=\"dataframe\">\n",
       "  <thead>\n",
       "    <tr style=\"text-align: right;\">\n",
       "      <th></th>\n",
       "      <th>Unnamed: 10</th>\n",
       "      <th>Unnamed: 11</th>\n",
       "      <th>Unnamed: 12</th>\n",
       "      <th>Unnamed: 13</th>\n",
       "      <th>Unnamed: 14</th>\n",
       "      <th>Unnamed: 15</th>\n",
       "      <th>Unnamed: 16</th>\n",
       "      <th>Unnamed: 17</th>\n",
       "      <th>Unnamed: 18</th>\n",
       "      <th>Unnamed: 19</th>\n",
       "      <th>...</th>\n",
       "      <th>Unnamed: 23</th>\n",
       "      <th>Unnamed: 5</th>\n",
       "      <th>Unnamed: 6</th>\n",
       "      <th>Unnamed: 7</th>\n",
       "      <th>Unnamed: 8</th>\n",
       "      <th>Unnamed: 9</th>\n",
       "      <th>artist</th>\n",
       "      <th>genre</th>\n",
       "      <th>lyrics</th>\n",
       "      <th>title</th>\n",
       "    </tr>\n",
       "  </thead>\n",
       "  <tbody>\n",
       "    <tr>\n",
       "      <th>0</th>\n",
       "      <td>NaN</td>\n",
       "      <td>NaN</td>\n",
       "      <td>NaN</td>\n",
       "      <td>NaN</td>\n",
       "      <td>NaN</td>\n",
       "      <td>NaN</td>\n",
       "      <td>NaN</td>\n",
       "      <td>NaN</td>\n",
       "      <td>NaN</td>\n",
       "      <td>NaN</td>\n",
       "      <td>...</td>\n",
       "      <td>NaN</td>\n",
       "      <td>NaN</td>\n",
       "      <td>NaN</td>\n",
       "      <td>NaN</td>\n",
       "      <td>NaN</td>\n",
       "      <td>NaN</td>\n",
       "      <td>Iron Maiden</td>\n",
       "      <td>metal</td>\n",
       "      <td>Woe to you, o'er Earth and Sea\\nFor the Devil ...</td>\n",
       "      <td>The Number of the Beast</td>\n",
       "    </tr>\n",
       "    <tr>\n",
       "      <th>1</th>\n",
       "      <td>NaN</td>\n",
       "      <td>NaN</td>\n",
       "      <td>NaN</td>\n",
       "      <td>NaN</td>\n",
       "      <td>NaN</td>\n",
       "      <td>NaN</td>\n",
       "      <td>NaN</td>\n",
       "      <td>NaN</td>\n",
       "      <td>NaN</td>\n",
       "      <td>NaN</td>\n",
       "      <td>...</td>\n",
       "      <td>NaN</td>\n",
       "      <td>NaN</td>\n",
       "      <td>NaN</td>\n",
       "      <td>NaN</td>\n",
       "      <td>NaN</td>\n",
       "      <td>NaN</td>\n",
       "      <td>Iron Maiden</td>\n",
       "      <td>metal</td>\n",
       "      <td>I am a man who walks alone\\nAnd when I'm walki...</td>\n",
       "      <td>Fear of the Dark</td>\n",
       "    </tr>\n",
       "    <tr>\n",
       "      <th>2</th>\n",
       "      <td>NaN</td>\n",
       "      <td>NaN</td>\n",
       "      <td>NaN</td>\n",
       "      <td>NaN</td>\n",
       "      <td>NaN</td>\n",
       "      <td>NaN</td>\n",
       "      <td>NaN</td>\n",
       "      <td>NaN</td>\n",
       "      <td>NaN</td>\n",
       "      <td>NaN</td>\n",
       "      <td>...</td>\n",
       "      <td>NaN</td>\n",
       "      <td>NaN</td>\n",
       "      <td>NaN</td>\n",
       "      <td>NaN</td>\n",
       "      <td>NaN</td>\n",
       "      <td>NaN</td>\n",
       "      <td>Iron Maiden</td>\n",
       "      <td>metal</td>\n",
       "      <td>You'll take my life but I'll take yours too\\nY...</td>\n",
       "      <td>The Trooper</td>\n",
       "    </tr>\n",
       "    <tr>\n",
       "      <th>3</th>\n",
       "      <td>NaN</td>\n",
       "      <td>NaN</td>\n",
       "      <td>NaN</td>\n",
       "      <td>NaN</td>\n",
       "      <td>NaN</td>\n",
       "      <td>NaN</td>\n",
       "      <td>NaN</td>\n",
       "      <td>NaN</td>\n",
       "      <td>NaN</td>\n",
       "      <td>NaN</td>\n",
       "      <td>...</td>\n",
       "      <td>NaN</td>\n",
       "      <td>NaN</td>\n",
       "      <td>NaN</td>\n",
       "      <td>NaN</td>\n",
       "      <td>NaN</td>\n",
       "      <td>NaN</td>\n",
       "      <td>Iron Maiden</td>\n",
       "      <td>metal</td>\n",
       "      <td>I'm waiting in my cold cell, when the bell beg...</td>\n",
       "      <td>Hallowed Be Thy Name</td>\n",
       "    </tr>\n",
       "    <tr>\n",
       "      <th>4</th>\n",
       "      <td>NaN</td>\n",
       "      <td>NaN</td>\n",
       "      <td>NaN</td>\n",
       "      <td>NaN</td>\n",
       "      <td>NaN</td>\n",
       "      <td>NaN</td>\n",
       "      <td>NaN</td>\n",
       "      <td>NaN</td>\n",
       "      <td>NaN</td>\n",
       "      <td>NaN</td>\n",
       "      <td>...</td>\n",
       "      <td>NaN</td>\n",
       "      <td>NaN</td>\n",
       "      <td>NaN</td>\n",
       "      <td>NaN</td>\n",
       "      <td>NaN</td>\n",
       "      <td>NaN</td>\n",
       "      <td>Iron Maiden</td>\n",
       "      <td>metal</td>\n",
       "      <td>White man came across the sea\\nHe brought us p...</td>\n",
       "      <td>Run to the Hills</td>\n",
       "    </tr>\n",
       "  </tbody>\n",
       "</table>\n",
       "<p>5 rows × 23 columns</p>\n",
       "</div>"
      ],
      "text/plain": [
       "  Unnamed: 10 Unnamed: 11 Unnamed: 12 Unnamed: 13 Unnamed: 14 Unnamed: 15  \\\n",
       "0         NaN         NaN         NaN         NaN         NaN         NaN   \n",
       "1         NaN         NaN         NaN         NaN         NaN         NaN   \n",
       "2         NaN         NaN         NaN         NaN         NaN         NaN   \n",
       "3         NaN         NaN         NaN         NaN         NaN         NaN   \n",
       "4         NaN         NaN         NaN         NaN         NaN         NaN   \n",
       "\n",
       "  Unnamed: 16 Unnamed: 17 Unnamed: 18 Unnamed: 19  ... Unnamed: 23 Unnamed: 5  \\\n",
       "0         NaN         NaN         NaN         NaN  ...         NaN        NaN   \n",
       "1         NaN         NaN         NaN         NaN  ...         NaN        NaN   \n",
       "2         NaN         NaN         NaN         NaN  ...         NaN        NaN   \n",
       "3         NaN         NaN         NaN         NaN  ...         NaN        NaN   \n",
       "4         NaN         NaN         NaN         NaN  ...         NaN        NaN   \n",
       "\n",
       "  Unnamed: 6 Unnamed: 7 Unnamed: 8 Unnamed: 9       artist  genre  \\\n",
       "0        NaN        NaN        NaN        NaN  Iron Maiden  metal   \n",
       "1        NaN        NaN        NaN        NaN  Iron Maiden  metal   \n",
       "2        NaN        NaN        NaN        NaN  Iron Maiden  metal   \n",
       "3        NaN        NaN        NaN        NaN  Iron Maiden  metal   \n",
       "4        NaN        NaN        NaN        NaN  Iron Maiden  metal   \n",
       "\n",
       "                                              lyrics                    title  \n",
       "0  Woe to you, o'er Earth and Sea\\nFor the Devil ...  The Number of the Beast  \n",
       "1  I am a man who walks alone\\nAnd when I'm walki...         Fear of the Dark  \n",
       "2  You'll take my life but I'll take yours too\\nY...              The Trooper  \n",
       "3  I'm waiting in my cold cell, when the bell beg...     Hallowed Be Thy Name  \n",
       "4  White man came across the sea\\nHe brought us p...         Run to the Hills  \n",
       "\n",
       "[5 rows x 23 columns]"
      ]
     },
     "execution_count": 6,
     "metadata": {},
     "output_type": "execute_result"
    }
   ],
   "source": [
    "frames = [metal, rap, rock, jazz, folk, pop, rb, soul, country]\n",
    "genius_df = pd.concat(frames)\n",
    "genius_df = genius_df.loc[:, ~genius_df.columns.str.contains('^Unnamed')]\n",
    "genius_df.to_csv(\"raw-genius-data.csv\")\n",
    "\n",
    "genius_df.head(5)"
   ]
  },
  {
   "cell_type": "code",
   "execution_count": null,
   "metadata": {},
   "outputs": [],
   "source": [
    "def clean_genius(genius_df): \n",
    "    #take out observations that have NaN for ‘genre’ or ‘lyrics’\n",
    "    subset = genius_df[['genre','lyrics']]\n",
    "    genius_df.dropna(subset=['genre', 'lyrics'], inplace=True)\n",
    "    \n",
    "    #replace new line with space\n",
    "    genius_df = genius_df.replace({'\\n': ' '}, regex=True)\n",
    "    \n",
    "    #get word count\n",
    "    genius_df['word_num'] = genius_df['lyrics'].str.split().str.len()\n",
    "    \n",
    "    #observe that there are lots of songs w/ 1 word\n",
    "    genius_df.sort_values(by = \"word_num\").head(100)\n",
    "    \n",
    "    #remove entries where only 1 word in song\n",
    "    genius_df['word_num'].astype('int32')\n",
    "    genius_df = genius_df[genius_df.word_num != 1]\n",
    "    \n",
    "    #anything with rap genius comments is way to long and includes comments\n",
    "    genius_df = genius_df[~genius_df['lyrics'].str.contains(\"RAP GENIUS\")]\n",
    "    \n",
    "    #notice that 124/130 of the songs with \"Lyrics are just some string saying how there are no lyrics\"\n",
    "    genius_df = genius_df[genius_df['word_num'] !=18]\n",
    "    \n",
    "    #anything less than 10 seems to be junk lyrics\n",
    "    genius_df = genius_df[genius_df['word_num'] > 10]\n",
    "\n"
   ]
  },
  {
   "cell_type": "code",
   "execution_count": null,
   "metadata": {},
   "outputs": [],
   "source": [
    "clean_genius.genre.unique()"
   ]
  },
  {
   "cell_type": "code",
   "execution_count": null,
   "metadata": {},
   "outputs": [],
   "source": [
    "clean_genius(genius_df)\n",
    "genius_df.head(5)"
   ]
  },
  {
   "cell_type": "markdown",
   "metadata": {},
   "source": [
    "## Metrolyrics Cleaning"
   ]
  },
  {
   "cell_type": "code",
   "execution_count": null,
   "metadata": {},
   "outputs": [],
   "source": [
    "metro = pd.read_csv(\"lyrics-metrolyrics.csv\")"
   ]
  },
  {
   "cell_type": "code",
   "execution_count": null,
   "metadata": {},
   "outputs": [],
   "source": [
    "def clean_metro(lyrics):\n",
    "    #replace new line with space\n",
    "    lyrics = lyrics.replace({'\\n': ' '}, regex=True)\n",
    "    \n",
    "    #get word count\n",
    "    lyrics['word_num'] = lyrics['lyrics'].str.split().str.len()\n",
    "\n",
    "    #Take out index\n",
    "    lyrics = lyrics.drop(columns = ['index'])\n",
    "\n",
    "    #See what values are present for years\n",
    "    column_values = lyrics[[\"year\"]].values.ravel()\n",
    "    unique_values =  pd.unique(column_values)\n",
    "                                    \n",
    "    #remove the dates that do not make any sense\n",
    "    bad_year = ['702', '112', '67']\n",
    "    lyrics = lyrics[~lyrics['year'].isin(bad_year)]\n",
    "\n",
    "    #See what values are present for genre\n",
    "    column_values = lyrics[[\"genre\"]].values.ravel()\n",
    "    unique_values =  pd.unique(column_values)\n",
    "\n",
    "    #get the counts of each \n",
    "    index = pd.Index(lyrics['genre'])\n",
    "    index.value_counts()\n",
    "                                    \n",
    "    #Remove all instrumental songs\n",
    "    lyrics = lyrics[~lyrics.lyrics.str.contains(\"instrumental\", na=False)]\n",
    "    lyrics = lyrics[~lyrics.lyrics.str.contains(\"INSTRUMENTAL\", na=False)]\n",
    "    lyrics = lyrics[~lyrics.lyrics.str.contains(\"[Instrumental]\", na=False)]"
   ]
  },
  {
   "cell_type": "code",
   "execution_count": null,
   "metadata": {},
   "outputs": [],
   "source": [
    "clean_metro(metro)\n",
    "del metro['index']\n",
    "del metro['year']\n",
    "metro.head(5)"
   ]
  },
  {
   "cell_type": "code",
   "execution_count": null,
   "metadata": {},
   "outputs": [],
   "source": [
    "metro.rename(columns = {\"song\": \"title\"}, inplace=True)\n",
    "# reordering columns \n",
    "metro = metro[['artist', 'genre', 'title', 'lyrics']]\n",
    "metro['title'] = metro['title'].str.replace('-',' ')\n",
    "metro.head(5)"
   ]
  },
  {
   "cell_type": "markdown",
   "metadata": {},
   "source": [
    "# Combining datasets into BIG"
   ]
  },
  {
   "cell_type": "code",
   "execution_count": null,
   "metadata": {},
   "outputs": [],
   "source": [
    "frames_1 = [metro, genius_df]\n",
    "master_df = pd.concat(frames_1)"
   ]
  },
  {
   "cell_type": "code",
   "execution_count": null,
   "metadata": {},
   "outputs": [],
   "source": [
    "master_df.shape\n",
    "master_df.to_csv(\"master-data.csv\")"
   ]
  },
  {
   "cell_type": "markdown",
   "metadata": {},
   "source": [
    "# Cleaning Non-English Lyrics out of Dataset"
   ]
  },
  {
   "cell_type": "code",
   "execution_count": null,
   "metadata": {},
   "outputs": [],
   "source": [
    "from langdetect import detect\n",
    "import pandas as pd \n",
    "import numpy as np "
   ]
  },
  {
   "cell_type": "code",
   "execution_count": null,
   "metadata": {},
   "outputs": [],
   "source": [
    "data = pd.read_csv(\"master-data.csv\")\n",
    "del data['Unnamed: 0']\n",
    "print(data.head())"
   ]
  },
  {
   "cell_type": "code",
   "execution_count": null,
   "metadata": {},
   "outputs": [],
   "source": [
    "# Get rid of all rows whose lyrics column is NaN\n",
    "data = data[data['lyrics'].notnull()]\n",
    "non_strings = 0\n",
    "bad_indices = []\n",
    "for index, value in data['lyrics'].items():\n",
    "    if type(value) != str:\n",
    "        non_strings = non_strings + 1\n",
    "        bad_indices.append(index)\n",
    "# print(data[type(data['lyrics']) != str].shape )\n",
    "print(non_strings)\n",
    "print(data.shape)\n",
    "print(len(bad_indices))"
   ]
  },
  {
   "cell_type": "code",
   "execution_count": null,
   "metadata": {},
   "outputs": [],
   "source": [
    "print(len(data['lyrics']))"
   ]
  },
  {
   "cell_type": "code",
   "execution_count": null,
   "metadata": {},
   "outputs": [],
   "source": [
    "def language_detector(string):\n",
    "    global i\n",
    "    try:\n",
    "        res = detect(string)\n",
    "    except:\n",
    "        res = \"undetectable\"\n",
    "    if i % 1000 == 0:\n",
    "        print(i)\n",
    "    i = i + 1\n",
    "    return res"
   ]
  },
  {
   "cell_type": "code",
   "execution_count": null,
   "metadata": {},
   "outputs": [],
   "source": [
    "i = 0\n",
    "data['language'] = data['lyrics'].apply(language_detector)\n",
    "data = data[data['language'] == \"en\"]\n",
    "data.to_csv(\"language-processed-data.csv\")"
   ]
  },
  {
   "cell_type": "markdown",
   "metadata": {},
   "source": [
    "# Turning into master CSV "
   ]
  },
  {
   "cell_type": "code",
   "execution_count": null,
   "metadata": {},
   "outputs": [],
   "source": [
    "data['t-lyric'] = data['title'] + \" @@@ \" + master_df['lyrics']\n",
    "data['t-lyric'] = data['t-lyric'].str.lower()\n",
    "\n",
    "data.head()"
   ]
  },
  {
   "cell_type": "code",
   "execution_count": null,
   "metadata": {},
   "outputs": [],
   "source": [
    "stopChars = [',','(',')','.','-','[',']','\"']\n",
    "# preprocessing the corpus by converting all letters to lowercase, \n",
    "# replacing blank lines with blank string and removing special characters\n",
    "def preprocessText(text):\n",
    "#     text = text.replace('\\n', ' ').replace('\\t','')\n",
    "    processedText = text.lower()\n",
    "    for char in stopChars:\n",
    "        processedText = processedText.replace(char,'')\n",
    "    return processedText\n",
    "\n",
    "# tokenization \n",
    "def corpusToList(corpus):\n",
    "    corpusList = [w for w in corpus.split(' ')] \n",
    "    corpusList = [i for i in corpusList if i] #removing empty strings from list\n",
    "    return corpusList"
   ]
  },
  {
   "cell_type": "code",
   "execution_count": null,
   "metadata": {},
   "outputs": [],
   "source": [
    "# Preprocess \n",
    "data['lyrics'] = data['lyrics'].apply(preprocessText)\n",
    "data['t-lyric'] = data['t-lyric'].apply(preprocessText)\n",
    "data.head(5)"
   ]
  },
  {
   "cell_type": "code",
   "execution_count": null,
   "metadata": {},
   "outputs": [],
   "source": [
    "# turning the italicized characters into regular "
   ]
  },
  {
   "cell_type": "code",
   "execution_count": null,
   "metadata": {},
   "outputs": [],
   "source": [
    "data['t-lyric'] = data['t-lyric'].apply(corpusToList)\n",
    "data.head(5)"
   ]
  },
  {
   "cell_type": "code",
   "execution_count": null,
   "metadata": {},
   "outputs": [],
   "source": [
    "data.to_csv(\"master-process-data.csv\")"
   ]
  },
  {
   "cell_type": "code",
   "execution_count": null,
   "metadata": {},
   "outputs": [],
   "source": []
  }
 ],
 "metadata": {
  "kernelspec": {
   "display_name": "Python 3",
   "language": "python",
   "name": "python3"
  },
  "language_info": {
   "codemirror_mode": {
    "name": "ipython",
    "version": 3
   },
   "file_extension": ".py",
   "mimetype": "text/x-python",
   "name": "python",
   "nbconvert_exporter": "python",
   "pygments_lexer": "ipython3",
   "version": "3.7.6"
  }
 },
 "nbformat": 4,
 "nbformat_minor": 2
}

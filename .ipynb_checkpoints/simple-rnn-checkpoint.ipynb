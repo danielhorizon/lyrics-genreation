{
 "cells": [
  {
   "cell_type": "code",
   "execution_count": 7,
   "metadata": {},
   "outputs": [],
   "source": [
    "import pandas as pd \n",
    "import numpy as np \n",
    "# https://github.com/petrosDemetrakopoulos/RNN-Beatles-lyrics-generator\n",
    "# https://github.com/starry91/Lyric-Generator#2-lyric-generator-based-on-word-level-rnn"
   ]
  },
  {
   "cell_type": "code",
   "execution_count": 8,
   "metadata": {},
   "outputs": [
    {
     "data": {
      "text/html": [
       "<div>\n",
       "<style scoped>\n",
       "    .dataframe tbody tr th:only-of-type {\n",
       "        vertical-align: middle;\n",
       "    }\n",
       "\n",
       "    .dataframe tbody tr th {\n",
       "        vertical-align: top;\n",
       "    }\n",
       "\n",
       "    .dataframe thead th {\n",
       "        text-align: right;\n",
       "    }\n",
       "</style>\n",
       "<table border=\"1\" class=\"dataframe\">\n",
       "  <thead>\n",
       "    <tr style=\"text-align: right;\">\n",
       "      <th></th>\n",
       "      <th>artist</th>\n",
       "      <th>genre</th>\n",
       "      <th>title</th>\n",
       "      <th>lyrics</th>\n",
       "    </tr>\n",
       "  </thead>\n",
       "  <tbody>\n",
       "    <tr>\n",
       "      <th>0</th>\n",
       "      <td>Migos</td>\n",
       "      <td>rap</td>\n",
       "      <td>Stir Fry</td>\n",
       "      <td>Woo, woo, woo, woo\\nWoo, woo, woo, woo\\n\\nDanc...</td>\n",
       "    </tr>\n",
       "    <tr>\n",
       "      <th>1</th>\n",
       "      <td>Snoop Dogg</td>\n",
       "      <td>rap</td>\n",
       "      <td>Drop It Like It‚Äôs Hot</td>\n",
       "      <td>Snoop\\nSnoop\\n\\nWhen the pimp's in the crib, m...</td>\n",
       "    </tr>\n",
       "    <tr>\n",
       "      <th>2</th>\n",
       "      <td>Drake</td>\n",
       "      <td>rap</td>\n",
       "      <td>Headlines</td>\n",
       "      <td>I might be too strung out on compliments\\nOver...</td>\n",
       "    </tr>\n",
       "    <tr>\n",
       "      <th>3</th>\n",
       "      <td>Lil Uzi Vert</td>\n",
       "      <td>rap</td>\n",
       "      <td>XO TOUR Llif3</td>\n",
       "      <td>Are you alright?\\nI'm alright, I'm quite alrig...</td>\n",
       "    </tr>\n",
       "    <tr>\n",
       "      <th>4</th>\n",
       "      <td>Lil Uzi Vert</td>\n",
       "      <td>rap</td>\n",
       "      <td>The Way Life Goes</td>\n",
       "      <td>That's true (That's true), that's right (That ...</td>\n",
       "    </tr>\n",
       "  </tbody>\n",
       "</table>\n",
       "</div>"
      ],
      "text/plain": [
       "         artist genre                    title  \\\n",
       "0         Migos   rap                 Stir Fry   \n",
       "1    Snoop Dogg   rap  Drop It Like It‚Äôs Hot   \n",
       "2         Drake   rap                Headlines   \n",
       "3  Lil Uzi Vert   rap            XO TOUR Llif3   \n",
       "4  Lil Uzi Vert   rap        The Way Life Goes   \n",
       "\n",
       "                                              lyrics  \n",
       "0  Woo, woo, woo, woo\\nWoo, woo, woo, woo\\n\\nDanc...  \n",
       "1  Snoop\\nSnoop\\n\\nWhen the pimp's in the crib, m...  \n",
       "2  I might be too strung out on compliments\\nOver...  \n",
       "3  Are you alright?\\nI'm alright, I'm quite alrig...  \n",
       "4  That's true (That's true), that's right (That ...  "
      ]
     },
     "execution_count": 8,
     "metadata": {},
     "output_type": "execute_result"
    }
   ],
   "source": [
    "data = pd.read_csv(\"sample-dataset.csv\")\n",
    "data.head()"
   ]
  },
  {
   "cell_type": "code",
   "execution_count": 9,
   "metadata": {},
   "outputs": [
    {
     "data": {
      "text/html": [
       "<div>\n",
       "<style scoped>\n",
       "    .dataframe tbody tr th:only-of-type {\n",
       "        vertical-align: middle;\n",
       "    }\n",
       "\n",
       "    .dataframe tbody tr th {\n",
       "        vertical-align: top;\n",
       "    }\n",
       "\n",
       "    .dataframe thead th {\n",
       "        text-align: right;\n",
       "    }\n",
       "</style>\n",
       "<table border=\"1\" class=\"dataframe\">\n",
       "  <thead>\n",
       "    <tr style=\"text-align: right;\">\n",
       "      <th></th>\n",
       "      <th>artist</th>\n",
       "      <th>genre</th>\n",
       "      <th>title</th>\n",
       "      <th>lyrics</th>\n",
       "      <th>t-lyric</th>\n",
       "    </tr>\n",
       "  </thead>\n",
       "  <tbody>\n",
       "    <tr>\n",
       "      <th>0</th>\n",
       "      <td>Migos</td>\n",
       "      <td>rap</td>\n",
       "      <td>Stir Fry</td>\n",
       "      <td>Woo, woo, woo, woo\\nWoo, woo, woo, woo\\n\\nDanc...</td>\n",
       "      <td>stir fry @@@ woo, woo, woo, woo\\nwoo, woo, woo...</td>\n",
       "    </tr>\n",
       "    <tr>\n",
       "      <th>1</th>\n",
       "      <td>Snoop Dogg</td>\n",
       "      <td>rap</td>\n",
       "      <td>Drop It Like It‚Äôs Hot</td>\n",
       "      <td>Snoop\\nSnoop\\n\\nWhen the pimp's in the crib, m...</td>\n",
       "      <td>drop it like it‚äôs hot @@@ snoop\\nsnoop\\n\\nwh...</td>\n",
       "    </tr>\n",
       "    <tr>\n",
       "      <th>2</th>\n",
       "      <td>Drake</td>\n",
       "      <td>rap</td>\n",
       "      <td>Headlines</td>\n",
       "      <td>I might be too strung out on compliments\\nOver...</td>\n",
       "      <td>headlines @@@ i might be too strung out on com...</td>\n",
       "    </tr>\n",
       "    <tr>\n",
       "      <th>3</th>\n",
       "      <td>Lil Uzi Vert</td>\n",
       "      <td>rap</td>\n",
       "      <td>XO TOUR Llif3</td>\n",
       "      <td>Are you alright?\\nI'm alright, I'm quite alrig...</td>\n",
       "      <td>xo tour llif3 @@@ are you alright?\\ni'm alrigh...</td>\n",
       "    </tr>\n",
       "    <tr>\n",
       "      <th>4</th>\n",
       "      <td>Lil Uzi Vert</td>\n",
       "      <td>rap</td>\n",
       "      <td>The Way Life Goes</td>\n",
       "      <td>That's true (That's true), that's right (That ...</td>\n",
       "      <td>the way life goes @@@ that's true (that's true...</td>\n",
       "    </tr>\n",
       "  </tbody>\n",
       "</table>\n",
       "</div>"
      ],
      "text/plain": [
       "         artist genre                    title  \\\n",
       "0         Migos   rap                 Stir Fry   \n",
       "1    Snoop Dogg   rap  Drop It Like It‚Äôs Hot   \n",
       "2         Drake   rap                Headlines   \n",
       "3  Lil Uzi Vert   rap            XO TOUR Llif3   \n",
       "4  Lil Uzi Vert   rap        The Way Life Goes   \n",
       "\n",
       "                                              lyrics  \\\n",
       "0  Woo, woo, woo, woo\\nWoo, woo, woo, woo\\n\\nDanc...   \n",
       "1  Snoop\\nSnoop\\n\\nWhen the pimp's in the crib, m...   \n",
       "2  I might be too strung out on compliments\\nOver...   \n",
       "3  Are you alright?\\nI'm alright, I'm quite alrig...   \n",
       "4  That's true (That's true), that's right (That ...   \n",
       "\n",
       "                                             t-lyric  \n",
       "0  stir fry @@@ woo, woo, woo, woo\\nwoo, woo, woo...  \n",
       "1  drop it like it‚äôs hot @@@ snoop\\nsnoop\\n\\nwh...  \n",
       "2  headlines @@@ i might be too strung out on com...  \n",
       "3  xo tour llif3 @@@ are you alright?\\ni'm alrigh...  \n",
       "4  the way life goes @@@ that's true (that's true...  "
      ]
     },
     "execution_count": 9,
     "metadata": {},
     "output_type": "execute_result"
    }
   ],
   "source": [
    "data['t-lyric'] = data['title'] + \" @@@ \" + data['lyrics']\n",
    "data['t-lyric'] = data['t-lyric'].str.lower()\n",
    "data.head()"
   ]
  },
  {
   "cell_type": "code",
   "execution_count": 10,
   "metadata": {},
   "outputs": [],
   "source": [
    "stopChars = [',','(',')','.','-','[',']','\"']\n",
    "# preprocessing the corpus by converting all letters to lowercase, \n",
    "# replacing blank lines with blank string and removing special characters\n",
    "def preprocessText(text):\n",
    "    text = text.replace('\\n', ' ').replace('\\t','')\n",
    "    processedText = text.lower()\n",
    "    for char in stopChars:\n",
    "        processedText = processedText.replace(char,'')\n",
    "    return processedText\n",
    "data['t-lyric'] = data['t-lyric'].apply(preprocessText)"
   ]
  },
  {
   "cell_type": "code",
   "execution_count": 11,
   "metadata": {},
   "outputs": [],
   "source": [
    "# tokenization \n",
    "def corpusToList(corpus):\n",
    "    corpusList = [w for w in corpus.split(' ')] \n",
    "    corpusList = [i for i in corpusList if i] #removing empty strings from list\n",
    "    return corpusList\n",
    "data['t-lyric'] = data['t-lyric'].apply(corpusToList)"
   ]
  },
  {
   "cell_type": "code",
   "execution_count": 12,
   "metadata": {},
   "outputs": [
    {
     "data": {
      "text/html": [
       "<div>\n",
       "<style scoped>\n",
       "    .dataframe tbody tr th:only-of-type {\n",
       "        vertical-align: middle;\n",
       "    }\n",
       "\n",
       "    .dataframe tbody tr th {\n",
       "        vertical-align: top;\n",
       "    }\n",
       "\n",
       "    .dataframe thead th {\n",
       "        text-align: right;\n",
       "    }\n",
       "</style>\n",
       "<table border=\"1\" class=\"dataframe\">\n",
       "  <thead>\n",
       "    <tr style=\"text-align: right;\">\n",
       "      <th></th>\n",
       "      <th>artist</th>\n",
       "      <th>genre</th>\n",
       "      <th>title</th>\n",
       "      <th>lyrics</th>\n",
       "      <th>t-lyric</th>\n",
       "    </tr>\n",
       "  </thead>\n",
       "  <tbody>\n",
       "    <tr>\n",
       "      <th>0</th>\n",
       "      <td>Migos</td>\n",
       "      <td>rap</td>\n",
       "      <td>Stir Fry</td>\n",
       "      <td>Woo, woo, woo, woo\\nWoo, woo, woo, woo\\n\\nDanc...</td>\n",
       "      <td>[stir, fry, @@@, woo, woo, woo, woo, woo, woo,...</td>\n",
       "    </tr>\n",
       "    <tr>\n",
       "      <th>1</th>\n",
       "      <td>Snoop Dogg</td>\n",
       "      <td>rap</td>\n",
       "      <td>Drop It Like It‚Äôs Hot</td>\n",
       "      <td>Snoop\\nSnoop\\n\\nWhen the pimp's in the crib, m...</td>\n",
       "      <td>[drop, it, like, it‚äôs, hot, @@@, snoop, snoo...</td>\n",
       "    </tr>\n",
       "    <tr>\n",
       "      <th>2</th>\n",
       "      <td>Drake</td>\n",
       "      <td>rap</td>\n",
       "      <td>Headlines</td>\n",
       "      <td>I might be too strung out on compliments\\nOver...</td>\n",
       "      <td>[headlines, @@@, i, might, be, too, strung, ou...</td>\n",
       "    </tr>\n",
       "    <tr>\n",
       "      <th>3</th>\n",
       "      <td>Lil Uzi Vert</td>\n",
       "      <td>rap</td>\n",
       "      <td>XO TOUR Llif3</td>\n",
       "      <td>Are you alright?\\nI'm alright, I'm quite alrig...</td>\n",
       "      <td>[xo, tour, llif3, @@@, are, you, alright?, i'm...</td>\n",
       "    </tr>\n",
       "    <tr>\n",
       "      <th>4</th>\n",
       "      <td>Lil Uzi Vert</td>\n",
       "      <td>rap</td>\n",
       "      <td>The Way Life Goes</td>\n",
       "      <td>That's true (That's true), that's right (That ...</td>\n",
       "      <td>[the, way, life, goes, @@@, that's, true, that...</td>\n",
       "    </tr>\n",
       "  </tbody>\n",
       "</table>\n",
       "</div>"
      ],
      "text/plain": [
       "         artist genre                    title  \\\n",
       "0         Migos   rap                 Stir Fry   \n",
       "1    Snoop Dogg   rap  Drop It Like It‚Äôs Hot   \n",
       "2         Drake   rap                Headlines   \n",
       "3  Lil Uzi Vert   rap            XO TOUR Llif3   \n",
       "4  Lil Uzi Vert   rap        The Way Life Goes   \n",
       "\n",
       "                                              lyrics  \\\n",
       "0  Woo, woo, woo, woo\\nWoo, woo, woo, woo\\n\\nDanc...   \n",
       "1  Snoop\\nSnoop\\n\\nWhen the pimp's in the crib, m...   \n",
       "2  I might be too strung out on compliments\\nOver...   \n",
       "3  Are you alright?\\nI'm alright, I'm quite alrig...   \n",
       "4  That's true (That's true), that's right (That ...   \n",
       "\n",
       "                                             t-lyric  \n",
       "0  [stir, fry, @@@, woo, woo, woo, woo, woo, woo,...  \n",
       "1  [drop, it, like, it‚äôs, hot, @@@, snoop, snoo...  \n",
       "2  [headlines, @@@, i, might, be, too, strung, ou...  \n",
       "3  [xo, tour, llif3, @@@, are, you, alright?, i'm...  \n",
       "4  [the, way, life, goes, @@@, that's, true, that...  "
      ]
     },
     "execution_count": 12,
     "metadata": {},
     "output_type": "execute_result"
    }
   ],
   "source": [
    "data.head()"
   ]
  },
  {
   "cell_type": "code",
   "execution_count": 13,
   "metadata": {},
   "outputs": [
    {
     "data": {
      "text/plain": [
       "<map at 0x12a404910>"
      ]
     },
     "execution_count": 13,
     "metadata": {},
     "output_type": "execute_result"
    }
   ],
   "source": [
    "# trim each word for leading or trailing spaces / tabs.\n",
    "map(str.strip, data['t-lyric']) # trim words"
   ]
  },
  {
   "cell_type": "code",
   "execution_count": 14,
   "metadata": {},
   "outputs": [
    {
     "data": {
      "text/html": [
       "<div>\n",
       "<style scoped>\n",
       "    .dataframe tbody tr th:only-of-type {\n",
       "        vertical-align: middle;\n",
       "    }\n",
       "\n",
       "    .dataframe tbody tr th {\n",
       "        vertical-align: top;\n",
       "    }\n",
       "\n",
       "    .dataframe thead th {\n",
       "        text-align: right;\n",
       "    }\n",
       "</style>\n",
       "<table border=\"1\" class=\"dataframe\">\n",
       "  <thead>\n",
       "    <tr style=\"text-align: right;\">\n",
       "      <th></th>\n",
       "      <th>artist</th>\n",
       "      <th>genre</th>\n",
       "      <th>title</th>\n",
       "      <th>lyrics</th>\n",
       "      <th>t-lyric</th>\n",
       "    </tr>\n",
       "  </thead>\n",
       "  <tbody>\n",
       "    <tr>\n",
       "      <th>0</th>\n",
       "      <td>Migos</td>\n",
       "      <td>rap</td>\n",
       "      <td>Stir Fry</td>\n",
       "      <td>Woo, woo, woo, woo\\nWoo, woo, woo, woo\\n\\nDanc...</td>\n",
       "      <td>[stir, fry, @@@, woo, woo, woo, woo, woo, woo,...</td>\n",
       "    </tr>\n",
       "    <tr>\n",
       "      <th>1</th>\n",
       "      <td>Snoop Dogg</td>\n",
       "      <td>rap</td>\n",
       "      <td>Drop It Like It‚Äôs Hot</td>\n",
       "      <td>Snoop\\nSnoop\\n\\nWhen the pimp's in the crib, m...</td>\n",
       "      <td>[drop, it, like, it‚äôs, hot, @@@, snoop, snoo...</td>\n",
       "    </tr>\n",
       "    <tr>\n",
       "      <th>2</th>\n",
       "      <td>Drake</td>\n",
       "      <td>rap</td>\n",
       "      <td>Headlines</td>\n",
       "      <td>I might be too strung out on compliments\\nOver...</td>\n",
       "      <td>[headlines, @@@, i, might, be, too, strung, ou...</td>\n",
       "    </tr>\n",
       "    <tr>\n",
       "      <th>3</th>\n",
       "      <td>Lil Uzi Vert</td>\n",
       "      <td>rap</td>\n",
       "      <td>XO TOUR Llif3</td>\n",
       "      <td>Are you alright?\\nI'm alright, I'm quite alrig...</td>\n",
       "      <td>[xo, tour, llif3, @@@, are, you, alright?, i'm...</td>\n",
       "    </tr>\n",
       "    <tr>\n",
       "      <th>4</th>\n",
       "      <td>Lil Uzi Vert</td>\n",
       "      <td>rap</td>\n",
       "      <td>The Way Life Goes</td>\n",
       "      <td>That's true (That's true), that's right (That ...</td>\n",
       "      <td>[the, way, life, goes, @@@, that's, true, that...</td>\n",
       "    </tr>\n",
       "  </tbody>\n",
       "</table>\n",
       "</div>"
      ],
      "text/plain": [
       "         artist genre                    title  \\\n",
       "0         Migos   rap                 Stir Fry   \n",
       "1    Snoop Dogg   rap  Drop It Like It‚Äôs Hot   \n",
       "2         Drake   rap                Headlines   \n",
       "3  Lil Uzi Vert   rap            XO TOUR Llif3   \n",
       "4  Lil Uzi Vert   rap        The Way Life Goes   \n",
       "\n",
       "                                              lyrics  \\\n",
       "0  Woo, woo, woo, woo\\nWoo, woo, woo, woo\\n\\nDanc...   \n",
       "1  Snoop\\nSnoop\\n\\nWhen the pimp's in the crib, m...   \n",
       "2  I might be too strung out on compliments\\nOver...   \n",
       "3  Are you alright?\\nI'm alright, I'm quite alrig...   \n",
       "4  That's true (That's true), that's right (That ...   \n",
       "\n",
       "                                             t-lyric  \n",
       "0  [stir, fry, @@@, woo, woo, woo, woo, woo, woo,...  \n",
       "1  [drop, it, like, it‚äôs, hot, @@@, snoop, snoo...  \n",
       "2  [headlines, @@@, i, might, be, too, strung, ou...  \n",
       "3  [xo, tour, llif3, @@@, are, you, alright?, i'm...  \n",
       "4  [the, way, life, goes, @@@, that's, true, that...  "
      ]
     },
     "execution_count": 14,
     "metadata": {},
     "output_type": "execute_result"
    }
   ],
   "source": [
    "data.head()"
   ]
  },
  {
   "cell_type": "code",
   "execution_count": 15,
   "metadata": {},
   "outputs": [
    {
     "name": "stdout",
     "output_type": "stream",
     "text": [
      "vocab length: 3166\n",
      "Unique words in corpus: 676\n"
     ]
    }
   ],
   "source": [
    "corpus_words = [x for sublist in data['t-lyric'] for x in sublist]\n",
    "vocab = sorted(set(corpus_words))\n",
    "print('vocab length:', len(corpus_words))\n",
    "print('Unique words in corpus: {}'.format(len(vocab)))"
   ]
  },
  {
   "cell_type": "code",
   "execution_count": 16,
   "metadata": {},
   "outputs": [],
   "source": [
    "# creating numeric map; representing words with numberes \n",
    "# map specific number to each specific word of our corpus, and vice versa \n",
    "word2idx = {u: i for i, u in enumerate(vocab)}\n",
    "idx2words = np.array(vocab)\n",
    "word_as_int = np.array([word2idx[c] for c in corpus_words])"
   ]
  },
  {
   "cell_type": "markdown",
   "metadata": {},
   "source": [
    "## Prediction"
   ]
  },
  {
   "cell_type": "markdown",
   "metadata": {},
   "source": [
    "- User inputs a song title, and how many words they want the song to be. \n",
    "- Network does, for example, 100 predictions, and in the training phrase we know what word we need to generate. \n",
    "- (genre, song title); have a marker that it's the end of the title "
   ]
  },
  {
   "cell_type": "code",
   "execution_count": 3,
   "metadata": {},
   "outputs": [],
   "source": [
    "from torch import nn\n",
    "from torch import optim\n",
    "from torchtext import data\n",
    "from torchtext.datasets import UDPOS\n",
    "from torch.autograd import Variable as V \n",
    "\n",
    "import torch\n",
    "import torch.nn as nn\n",
    "import argparse\n",
    "import time\n",
    "import reader"
   ]
  },
  {
   "cell_type": "code",
   "execution_count": 24,
   "metadata": {},
   "outputs": [],
   "source": [
    "class RNN(nn.Module):\n",
    "  # Simple RNN Language model \n",
    "    def __init__(self, embedding_size, num_steps, batch_size, hidden_size, vocab_size):\n",
    "        super(RNN, self).__init__()\n",
    "        \n",
    "        # parameters \n",
    "        self.embedding_size = embedding_size\n",
    "        self.num_steps = num_steps\n",
    "        self.batch_size = batch_size\n",
    "        self.vocab_size = vocab_size\n",
    "        \n",
    "        # passing through network \n",
    "        self._embedding = nn.Embedding(vocab_size, embedding_size)\n",
    "        self._rnn = nn.RNN(input_size=embedding_size, hidden_size=hidden_size)\n",
    "        self._linear = nn.Linear(in_features=hidden_size, out_features=vocab_size)\n",
    "        self.init_weights()\n",
    "        self.hidden = self.init_hidden(batch_size)\n",
    "        \n",
    "    def init_weights(self):\n",
    "        init_range = 0.1\n",
    "        self._embedding.weight.data.uniform_(-init_range, init_range)\n",
    "        self._linear.bias.data.fill_(0)\n",
    "        self._linear.weight.data.uniform_(-init_range, init_range)\n",
    " \n",
    "    def forward(self, inputs, hidden):\n",
    "        embedding = self._embedding(inputs)\n",
    "        rnn_output, self.hidden = self._rnn(embedding, hidden)\n",
    "        decoded = self._linear(rnn_output)\n",
    "        return decoded.view(rnn_output.size(0), rnn_output.size(1), decoded.size(1))\n",
    "    \n",
    "    def init_hidden(self, batch_size):\n",
    "        weight = next(self.parameters()).data\n",
    "        return (V(weight.new( batch_size ).zero_().cuda()),\n",
    "                V(weight.new( batch_size ).zero_()).cuda())\n",
    "    \n",
    "    # cannot retain the entire history, so reset during training \n",
    "    def reset_history(self):\n",
    "        self.hidden = tuple(V(v.data) for v in self.hidden)"
   ]
  },
  {
   "cell_type": "markdown",
   "metadata": {},
   "source": [
    "This part should be simple; we take in a sequence of word tokens, embed them, put them through the RNN, and then emit a probability distribution over the next word for each input word. We're saving the hidden state in the model object and adding a reset history method. "
   ]
  },
  {
   "cell_type": "code",
   "execution_count": 17,
   "metadata": {},
   "outputs": [],
   "source": [
    "# creating numeric map; representing words with numbers \n",
    "# map specific number to each specific word of our corpus, and vice versa \n",
    "word2idx = {u: i for i, u in enumerate(vocab)}\n",
    "idx2words = np.array(vocab)\n",
    "word_as_int = np.array([word2idx[c] for c in corpus_words])"
   ]
  },
  {
   "cell_type": "code",
   "execution_count": 23,
   "metadata": {},
   "outputs": [
    {
     "data": {
      "text/plain": [
       "array([537, 226,   7, ..., 386, 360, 274])"
      ]
     },
     "execution_count": 23,
     "metadata": {},
     "output_type": "execute_result"
    }
   ],
   "source": [
    "word_as_int"
   ]
  },
  {
   "cell_type": "markdown",
   "metadata": {},
   "source": [
    "# Set-up + Training"
   ]
  },
  {
   "cell_type": "code",
   "execution_count": 25,
   "metadata": {},
   "outputs": [],
   "source": [
    "embedding_size = 20\n",
    "num_steps = 5\n",
    "batch_size = 1\n",
    "hidden_size = 20\n",
    "vocab_size = len(vocab)"
   ]
  },
  {
   "cell_type": "code",
   "execution_count": 26,
   "metadata": {},
   "outputs": [
    {
     "ename": "AttributeError",
     "evalue": "'RNN' object has no attribute 'nlayers'",
     "output_type": "error",
     "traceback": [
      "\u001b[0;31m---------------------------------------------------------------------------\u001b[0m",
      "\u001b[0;31mAttributeError\u001b[0m                            Traceback (most recent call last)",
      "\u001b[0;32m<ipython-input-26-dce8a5cc4ec0>\u001b[0m in \u001b[0;36m<module>\u001b[0;34m\u001b[0m\n\u001b[0;32m----> 1\u001b[0;31m \u001b[0mmodel\u001b[0m \u001b[0;34m=\u001b[0m \u001b[0mRNN\u001b[0m\u001b[0;34m(\u001b[0m\u001b[0membedding_size\u001b[0m\u001b[0;34m,\u001b[0m \u001b[0mnum_steps\u001b[0m\u001b[0;34m,\u001b[0m \u001b[0mbatch_size\u001b[0m\u001b[0;34m,\u001b[0m \u001b[0mhidden_size\u001b[0m\u001b[0;34m,\u001b[0m \u001b[0mvocab_size\u001b[0m\u001b[0;34m)\u001b[0m\u001b[0;34m\u001b[0m\u001b[0;34m\u001b[0m\u001b[0m\n\u001b[0m\u001b[1;32m      2\u001b[0m \u001b[0mcriterion\u001b[0m \u001b[0;34m=\u001b[0m \u001b[0mnn\u001b[0m\u001b[0;34m.\u001b[0m\u001b[0mCrossEntropyLoss\u001b[0m\u001b[0;34m(\u001b[0m\u001b[0mignore_index\u001b[0m\u001b[0;34m=\u001b[0m\u001b[0;36m1\u001b[0m\u001b[0;34m)\u001b[0m\u001b[0;34m\u001b[0m\u001b[0;34m\u001b[0m\u001b[0m\n\u001b[1;32m      3\u001b[0m \u001b[0moptimizer\u001b[0m \u001b[0;34m=\u001b[0m \u001b[0moptim\u001b[0m\u001b[0;34m.\u001b[0m\u001b[0mAdam\u001b[0m\u001b[0;34m(\u001b[0m\u001b[0mmodel\u001b[0m\u001b[0;34m.\u001b[0m\u001b[0mparameters\u001b[0m\u001b[0;34m(\u001b[0m\u001b[0;34m)\u001b[0m\u001b[0;34m,\u001b[0m \u001b[0mlr\u001b[0m\u001b[0;34m=\u001b[0m\u001b[0;36m.01\u001b[0m\u001b[0;34m)\u001b[0m\u001b[0;34m\u001b[0m\u001b[0;34m\u001b[0m\u001b[0m\n",
      "\u001b[0;32m<ipython-input-24-a11db00a7828>\u001b[0m in \u001b[0;36m__init__\u001b[0;34m(self, embedding_size, num_steps, batch_size, hidden_size, vocab_size)\u001b[0m\n\u001b[1;32m     15\u001b[0m         \u001b[0mself\u001b[0m\u001b[0;34m.\u001b[0m\u001b[0m_linear\u001b[0m \u001b[0;34m=\u001b[0m \u001b[0mnn\u001b[0m\u001b[0;34m.\u001b[0m\u001b[0mLinear\u001b[0m\u001b[0;34m(\u001b[0m\u001b[0min_features\u001b[0m\u001b[0;34m=\u001b[0m\u001b[0mhidden_size\u001b[0m\u001b[0;34m,\u001b[0m \u001b[0mout_features\u001b[0m\u001b[0;34m=\u001b[0m\u001b[0mvocab_size\u001b[0m\u001b[0;34m)\u001b[0m\u001b[0;34m\u001b[0m\u001b[0;34m\u001b[0m\u001b[0m\n\u001b[1;32m     16\u001b[0m         \u001b[0mself\u001b[0m\u001b[0;34m.\u001b[0m\u001b[0minit_weights\u001b[0m\u001b[0;34m(\u001b[0m\u001b[0;34m)\u001b[0m\u001b[0;34m\u001b[0m\u001b[0;34m\u001b[0m\u001b[0m\n\u001b[0;32m---> 17\u001b[0;31m         \u001b[0mself\u001b[0m\u001b[0;34m.\u001b[0m\u001b[0mhidden\u001b[0m \u001b[0;34m=\u001b[0m \u001b[0mself\u001b[0m\u001b[0;34m.\u001b[0m\u001b[0minit_hidden\u001b[0m\u001b[0;34m(\u001b[0m\u001b[0mbatch_size\u001b[0m\u001b[0;34m)\u001b[0m\u001b[0;34m\u001b[0m\u001b[0;34m\u001b[0m\u001b[0m\n\u001b[0m\u001b[1;32m     18\u001b[0m \u001b[0;34m\u001b[0m\u001b[0m\n\u001b[1;32m     19\u001b[0m     \u001b[0;32mdef\u001b[0m \u001b[0minit_weights\u001b[0m\u001b[0;34m(\u001b[0m\u001b[0mself\u001b[0m\u001b[0;34m)\u001b[0m\u001b[0;34m:\u001b[0m\u001b[0;34m\u001b[0m\u001b[0;34m\u001b[0m\u001b[0m\n",
      "\u001b[0;32m<ipython-input-24-a11db00a7828>\u001b[0m in \u001b[0;36minit_hidden\u001b[0;34m(self, batch_size)\u001b[0m\n\u001b[1;32m     31\u001b[0m     \u001b[0;32mdef\u001b[0m \u001b[0minit_hidden\u001b[0m\u001b[0;34m(\u001b[0m\u001b[0mself\u001b[0m\u001b[0;34m,\u001b[0m \u001b[0mbatch_size\u001b[0m\u001b[0;34m)\u001b[0m\u001b[0;34m:\u001b[0m\u001b[0;34m\u001b[0m\u001b[0;34m\u001b[0m\u001b[0m\n\u001b[1;32m     32\u001b[0m         \u001b[0mweight\u001b[0m \u001b[0;34m=\u001b[0m \u001b[0mnext\u001b[0m\u001b[0;34m(\u001b[0m\u001b[0mself\u001b[0m\u001b[0;34m.\u001b[0m\u001b[0mparameters\u001b[0m\u001b[0;34m(\u001b[0m\u001b[0;34m)\u001b[0m\u001b[0;34m)\u001b[0m\u001b[0;34m.\u001b[0m\u001b[0mdata\u001b[0m\u001b[0;34m\u001b[0m\u001b[0;34m\u001b[0m\u001b[0m\n\u001b[0;32m---> 33\u001b[0;31m         return (V(weight.new(self.nlayers, batch_size, self.nhid).zero_().cuda()),\n\u001b[0m\u001b[1;32m     34\u001b[0m                 V(weight.new(self.nlayers, batch_size, self.nhid).zero_()).cuda())\n\u001b[1;32m     35\u001b[0m \u001b[0;34m\u001b[0m\u001b[0m\n",
      "\u001b[0;32m/usr/local/lib/python3.7/site-packages/torch/nn/modules/module.py\u001b[0m in \u001b[0;36m__getattr__\u001b[0;34m(self, name)\u001b[0m\n\u001b[1;32m    574\u001b[0m                 \u001b[0;32mreturn\u001b[0m \u001b[0mmodules\u001b[0m\u001b[0;34m[\u001b[0m\u001b[0mname\u001b[0m\u001b[0;34m]\u001b[0m\u001b[0;34m\u001b[0m\u001b[0;34m\u001b[0m\u001b[0m\n\u001b[1;32m    575\u001b[0m         raise AttributeError(\"'{}' object has no attribute '{}'\".format(\n\u001b[0;32m--> 576\u001b[0;31m             type(self).__name__, name))\n\u001b[0m\u001b[1;32m    577\u001b[0m \u001b[0;34m\u001b[0m\u001b[0m\n\u001b[1;32m    578\u001b[0m     \u001b[0;32mdef\u001b[0m \u001b[0m__setattr__\u001b[0m\u001b[0;34m(\u001b[0m\u001b[0mself\u001b[0m\u001b[0;34m,\u001b[0m \u001b[0mname\u001b[0m\u001b[0;34m,\u001b[0m \u001b[0mvalue\u001b[0m\u001b[0;34m)\u001b[0m\u001b[0;34m:\u001b[0m\u001b[0;34m\u001b[0m\u001b[0;34m\u001b[0m\u001b[0m\n",
      "\u001b[0;31mAttributeError\u001b[0m: 'RNN' object has no attribute 'nlayers'"
     ]
    }
   ],
   "source": [
    "model = RNN(embedding_size, num_steps, batch_size, hidden_size, vocab_size) \n",
    "criterion = nn.CrossEntropyLoss(ignore_index=1)\n",
    "optimizer = optim.Adam(model.parameters(), lr=.01)"
   ]
  },
  {
   "cell_type": "code",
   "execution_count": null,
   "metadata": {},
   "outputs": [],
   "source": []
  }
 ],
 "metadata": {
  "kernelspec": {
   "display_name": "Python 3",
   "language": "python",
   "name": "python3"
  },
  "language_info": {
   "codemirror_mode": {
    "name": "ipython",
    "version": 3
   },
   "file_extension": ".py",
   "mimetype": "text/x-python",
   "name": "python",
   "nbconvert_exporter": "python",
   "pygments_lexer": "ipython3",
   "version": "3.7.6"
  }
 },
 "nbformat": 4,
 "nbformat_minor": 2
}

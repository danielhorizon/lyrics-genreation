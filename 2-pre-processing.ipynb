{
 "cells": [
  {
   "cell_type": "code",
   "execution_count": 1,
   "metadata": {},
   "outputs": [],
   "source": [
    "import csv\n",
    "import numpy as np \n",
    "import pandas as pd "
   ]
  },
  {
   "cell_type": "markdown",
   "metadata": {},
   "source": [
    "## Genius Lyrics Cleaning "
   ]
  },
  {
   "cell_type": "code",
   "execution_count": 2,
   "metadata": {},
   "outputs": [],
   "source": [
    "metal = pd.read_csv(\"genius_data/metal.csv\", index_col=0)\n",
    "rap = pd.read_csv(\"genius_data/rappers.csv\", index_col=0)\n",
    "rock = pd.read_csv(\"genius_data/rockers.csv\", index_col=0)\n",
    "jazz = pd.read_csv(\"genius_data/jazz.csv\", index_col=0)\n",
    "folk = pd.read_csv(\"genius_data/folk.csv\", index_col=0)\n",
    "pop = pd.read_csv(\"genius_data/pop.csv\", index_col=0)\n",
    "rb = pd.read_csv(\"genius_data/rb.csv\", index_col=0)\n",
    "soul = pd.read_csv(\"genius_data/soul.csv\", index_col=0)\n",
    "country = pd.read_csv(\"genius_data/country.csv\", index_col=0)"
   ]
  },
  {
   "cell_type": "code",
   "execution_count": 3,
   "metadata": {},
   "outputs": [
    {
     "data": {
      "text/plain": [
       "array(['rap'], dtype=object)"
      ]
     },
     "execution_count": 3,
     "metadata": {},
     "output_type": "execute_result"
    }
   ],
   "source": [
    "rap.genre.unique()"
   ]
  },
  {
   "cell_type": "code",
   "execution_count": 4,
   "metadata": {},
   "outputs": [
    {
     "name": "stderr",
     "output_type": "stream",
     "text": [
      "/usr/local/lib/python3.7/site-packages/ipykernel_launcher.py:2: FutureWarning: Sorting because non-concatenation axis is not aligned. A future version\n",
      "of pandas will change to not sort by default.\n",
      "\n",
      "To accept the future behavior, pass 'sort=False'.\n",
      "\n",
      "To retain the current behavior and silence the warning, pass 'sort=True'.\n",
      "\n",
      "  \n"
     ]
    },
    {
     "data": {
      "text/html": [
       "<div>\n",
       "<style scoped>\n",
       "    .dataframe tbody tr th:only-of-type {\n",
       "        vertical-align: middle;\n",
       "    }\n",
       "\n",
       "    .dataframe tbody tr th {\n",
       "        vertical-align: top;\n",
       "    }\n",
       "\n",
       "    .dataframe thead th {\n",
       "        text-align: right;\n",
       "    }\n",
       "</style>\n",
       "<table border=\"1\" class=\"dataframe\">\n",
       "  <thead>\n",
       "    <tr style=\"text-align: right;\">\n",
       "      <th></th>\n",
       "      <th>artist</th>\n",
       "      <th>genre</th>\n",
       "      <th>lyrics</th>\n",
       "      <th>title</th>\n",
       "    </tr>\n",
       "  </thead>\n",
       "  <tbody>\n",
       "    <tr>\n",
       "      <th>0</th>\n",
       "      <td>Iron Maiden</td>\n",
       "      <td>metal</td>\n",
       "      <td>Woe to you, o'er Earth and Sea\\nFor the Devil ...</td>\n",
       "      <td>The Number of the Beast</td>\n",
       "    </tr>\n",
       "    <tr>\n",
       "      <th>1</th>\n",
       "      <td>Iron Maiden</td>\n",
       "      <td>metal</td>\n",
       "      <td>I am a man who walks alone\\nAnd when I'm walki...</td>\n",
       "      <td>Fear of the Dark</td>\n",
       "    </tr>\n",
       "    <tr>\n",
       "      <th>2</th>\n",
       "      <td>Iron Maiden</td>\n",
       "      <td>metal</td>\n",
       "      <td>You'll take my life but I'll take yours too\\nY...</td>\n",
       "      <td>The Trooper</td>\n",
       "    </tr>\n",
       "    <tr>\n",
       "      <th>3</th>\n",
       "      <td>Iron Maiden</td>\n",
       "      <td>metal</td>\n",
       "      <td>I'm waiting in my cold cell, when the bell beg...</td>\n",
       "      <td>Hallowed Be Thy Name</td>\n",
       "    </tr>\n",
       "    <tr>\n",
       "      <th>4</th>\n",
       "      <td>Iron Maiden</td>\n",
       "      <td>metal</td>\n",
       "      <td>White man came across the sea\\nHe brought us p...</td>\n",
       "      <td>Run to the Hills</td>\n",
       "    </tr>\n",
       "  </tbody>\n",
       "</table>\n",
       "</div>"
      ],
      "text/plain": [
       "        artist  genre                                             lyrics  \\\n",
       "0  Iron Maiden  metal  Woe to you, o'er Earth and Sea\\nFor the Devil ...   \n",
       "1  Iron Maiden  metal  I am a man who walks alone\\nAnd when I'm walki...   \n",
       "2  Iron Maiden  metal  You'll take my life but I'll take yours too\\nY...   \n",
       "3  Iron Maiden  metal  I'm waiting in my cold cell, when the bell beg...   \n",
       "4  Iron Maiden  metal  White man came across the sea\\nHe brought us p...   \n",
       "\n",
       "                     title  \n",
       "0  The Number of the Beast  \n",
       "1         Fear of the Dark  \n",
       "2              The Trooper  \n",
       "3     Hallowed Be Thy Name  \n",
       "4         Run to the Hills  "
      ]
     },
     "execution_count": 4,
     "metadata": {},
     "output_type": "execute_result"
    }
   ],
   "source": [
    "frames = [metal, rap, rock, jazz, folk, pop, rb, soul, country]\n",
    "genius_df = pd.concat(frames)\n",
    "genius_df = genius_df.loc[:, ~genius_df.columns.str.contains('^Unnamed')]\n",
    "genius_df.to_csv(\"raw-genius-data.csv\")\n",
    "\n",
    "genius_df.head(5)"
   ]
  },
  {
   "cell_type": "code",
   "execution_count": 5,
   "metadata": {},
   "outputs": [],
   "source": [
    "def clean_genius(genius_df): \n",
    "    #take out observations that have NaN for ‘genre’ or ‘lyrics’\n",
    "    subset = genius_df[['genre','lyrics']]\n",
    "    genius_df.dropna(subset=['genre', 'lyrics'], inplace=True)\n",
    "    \n",
    "    #replace new line with space\n",
    "#     genius_df = genius_df.replace({'\\n': ' '}, regex=True)\n",
    "    \n",
    "    #get word count\n",
    "    genius_df['word_num'] = genius_df['lyrics'].str.split().str.len()\n",
    "    \n",
    "    #observe that there are lots of songs w/ 1 word\n",
    "    genius_df.sort_values(by = \"word_num\").head(100)\n",
    "    \n",
    "    #remove entries where only 1 word in song\n",
    "    genius_df['word_num'].astype('int32')\n",
    "    genius_df = genius_df[genius_df.word_num != 1]\n",
    "    \n",
    "    #anything with rap genius comments is way to long and includes comments\n",
    "    genius_df = genius_df[~genius_df['lyrics'].str.contains(\"RAP GENIUS\")]\n",
    "    \n",
    "    #notice that 124/130 of the songs with \"Lyrics are just some string saying how there are no lyrics\"\n",
    "    genius_df = genius_df[genius_df['word_num'] !=18]\n",
    "    \n",
    "    #anything less than 10 seems to be junk lyrics\n",
    "    genius_df = genius_df[genius_df['word_num'] > 10]\n"
   ]
  },
  {
   "cell_type": "code",
   "execution_count": 6,
   "metadata": {},
   "outputs": [
    {
     "data": {
      "text/plain": [
       "array(['metal', 'rap', 'rock', 'jazz', 'folk', 'pop', 'rb', 'soul',\n",
       "       'country'], dtype=object)"
      ]
     },
     "execution_count": 6,
     "metadata": {},
     "output_type": "execute_result"
    }
   ],
   "source": [
    "genius_df.genre.unique()"
   ]
  },
  {
   "cell_type": "code",
   "execution_count": 7,
   "metadata": {},
   "outputs": [
    {
     "ename": "NameError",
     "evalue": "name 'cleaned' is not defined",
     "output_type": "error",
     "traceback": [
      "\u001b[0;31m---------------------------------------------------------------------------\u001b[0m",
      "\u001b[0;31mNameError\u001b[0m                                 Traceback (most recent call last)",
      "\u001b[0;32m<ipython-input-7-a05ea3805ba5>\u001b[0m in \u001b[0;36m<module>\u001b[0;34m\u001b[0m\n\u001b[1;32m      1\u001b[0m \u001b[0mclean_genius\u001b[0m\u001b[0;34m(\u001b[0m\u001b[0mgenius_df\u001b[0m\u001b[0;34m)\u001b[0m\u001b[0;34m\u001b[0m\u001b[0;34m\u001b[0m\u001b[0m\n\u001b[0;32m----> 2\u001b[0;31m \u001b[0mcleaned\u001b[0m\u001b[0;34m.\u001b[0m\u001b[0mhead\u001b[0m\u001b[0;34m(\u001b[0m\u001b[0;36m5\u001b[0m\u001b[0;34m)\u001b[0m\u001b[0;34m\u001b[0m\u001b[0;34m\u001b[0m\u001b[0m\n\u001b[0m",
      "\u001b[0;31mNameError\u001b[0m: name 'cleaned' is not defined"
     ]
    }
   ],
   "source": [
    "clean_genius(genius_df)"
   ]
  },
  {
   "cell_type": "code",
   "execution_count": 8,
   "metadata": {},
   "outputs": [],
   "source": [
    "genius_df.to_csv(\"cleaned_genius.csv\")"
   ]
  },
  {
   "cell_type": "markdown",
   "metadata": {},
   "source": [
    "## Metrolyrics Cleaning"
   ]
  },
  {
   "cell_type": "code",
   "execution_count": 9,
   "metadata": {},
   "outputs": [],
   "source": [
    "metro = pd.read_csv(\"lyrics-metrolyrics.csv\")"
   ]
  },
  {
   "cell_type": "code",
   "execution_count": 10,
   "metadata": {},
   "outputs": [],
   "source": [
    "def clean_metro(lyrics):\n",
    "    #replace new line with space\n",
    "    lyrics = lyrics.replace({'\\n': ' '}, regex=True)\n",
    "    \n",
    "    #get word count\n",
    "    lyrics['word_num'] = lyrics['lyrics'].str.split().str.len()\n",
    "\n",
    "    #Take out index\n",
    "    lyrics = lyrics.drop(columns = ['index'])\n",
    "\n",
    "    #See what values are present for years\n",
    "    column_values = lyrics[[\"year\"]].values.ravel()\n",
    "    unique_values =  pd.unique(column_values)\n",
    "                                    \n",
    "    #remove the dates that do not make any sense\n",
    "    bad_year = ['702', '112', '67']\n",
    "    lyrics = lyrics[~lyrics['year'].isin(bad_year)]\n",
    "\n",
    "    #See what values are present for genre\n",
    "    column_values = lyrics[[\"genre\"]].values.ravel()\n",
    "    unique_values =  pd.unique(column_values)\n",
    "\n",
    "    #get the counts of each \n",
    "    index = pd.Index(lyrics['genre'])\n",
    "    index.value_counts()\n",
    "                                    \n",
    "    #Remove all instrumental songs\n",
    "    lyrics = lyrics[~lyrics.lyrics.str.contains(\"instrumental\", na=False)]\n",
    "    lyrics = lyrics[~lyrics.lyrics.str.contains(\"INSTRUMENTAL\", na=False)]\n",
    "    lyrics = lyrics[~lyrics.lyrics.str.contains(\"[Instrumental]\", na=False)]"
   ]
  },
  {
   "cell_type": "code",
   "execution_count": 11,
   "metadata": {},
   "outputs": [
    {
     "data": {
      "text/html": [
       "<div>\n",
       "<style scoped>\n",
       "    .dataframe tbody tr th:only-of-type {\n",
       "        vertical-align: middle;\n",
       "    }\n",
       "\n",
       "    .dataframe tbody tr th {\n",
       "        vertical-align: top;\n",
       "    }\n",
       "\n",
       "    .dataframe thead th {\n",
       "        text-align: right;\n",
       "    }\n",
       "</style>\n",
       "<table border=\"1\" class=\"dataframe\">\n",
       "  <thead>\n",
       "    <tr style=\"text-align: right;\">\n",
       "      <th></th>\n",
       "      <th>song</th>\n",
       "      <th>artist</th>\n",
       "      <th>genre</th>\n",
       "      <th>lyrics</th>\n",
       "    </tr>\n",
       "  </thead>\n",
       "  <tbody>\n",
       "    <tr>\n",
       "      <th>0</th>\n",
       "      <td>ego-remix</td>\n",
       "      <td>beyonce-knowles</td>\n",
       "      <td>Pop</td>\n",
       "      <td>Oh baby, how you doing?\\nYou know I'm gonna cu...</td>\n",
       "    </tr>\n",
       "    <tr>\n",
       "      <th>1</th>\n",
       "      <td>then-tell-me</td>\n",
       "      <td>beyonce-knowles</td>\n",
       "      <td>Pop</td>\n",
       "      <td>playin' everything so easy,\\nit's like you see...</td>\n",
       "    </tr>\n",
       "    <tr>\n",
       "      <th>2</th>\n",
       "      <td>honesty</td>\n",
       "      <td>beyonce-knowles</td>\n",
       "      <td>Pop</td>\n",
       "      <td>If you search\\nFor tenderness\\nIt isn't hard t...</td>\n",
       "    </tr>\n",
       "    <tr>\n",
       "      <th>3</th>\n",
       "      <td>you-are-my-rock</td>\n",
       "      <td>beyonce-knowles</td>\n",
       "      <td>Pop</td>\n",
       "      <td>Oh oh oh I, oh oh oh I\\n[Verse 1:]\\nIf I wrote...</td>\n",
       "    </tr>\n",
       "    <tr>\n",
       "      <th>4</th>\n",
       "      <td>black-culture</td>\n",
       "      <td>beyonce-knowles</td>\n",
       "      <td>Pop</td>\n",
       "      <td>Party the people, the people the party it's po...</td>\n",
       "    </tr>\n",
       "  </tbody>\n",
       "</table>\n",
       "</div>"
      ],
      "text/plain": [
       "              song           artist genre  \\\n",
       "0        ego-remix  beyonce-knowles   Pop   \n",
       "1     then-tell-me  beyonce-knowles   Pop   \n",
       "2          honesty  beyonce-knowles   Pop   \n",
       "3  you-are-my-rock  beyonce-knowles   Pop   \n",
       "4    black-culture  beyonce-knowles   Pop   \n",
       "\n",
       "                                              lyrics  \n",
       "0  Oh baby, how you doing?\\nYou know I'm gonna cu...  \n",
       "1  playin' everything so easy,\\nit's like you see...  \n",
       "2  If you search\\nFor tenderness\\nIt isn't hard t...  \n",
       "3  Oh oh oh I, oh oh oh I\\n[Verse 1:]\\nIf I wrote...  \n",
       "4  Party the people, the people the party it's po...  "
      ]
     },
     "execution_count": 11,
     "metadata": {},
     "output_type": "execute_result"
    }
   ],
   "source": [
    "clean_metro(metro)\n",
    "del metro['index']\n",
    "del metro['year']\n",
    "metro.head(5)"
   ]
  },
  {
   "cell_type": "code",
   "execution_count": 12,
   "metadata": {},
   "outputs": [
    {
     "data": {
      "text/html": [
       "<div>\n",
       "<style scoped>\n",
       "    .dataframe tbody tr th:only-of-type {\n",
       "        vertical-align: middle;\n",
       "    }\n",
       "\n",
       "    .dataframe tbody tr th {\n",
       "        vertical-align: top;\n",
       "    }\n",
       "\n",
       "    .dataframe thead th {\n",
       "        text-align: right;\n",
       "    }\n",
       "</style>\n",
       "<table border=\"1\" class=\"dataframe\">\n",
       "  <thead>\n",
       "    <tr style=\"text-align: right;\">\n",
       "      <th></th>\n",
       "      <th>artist</th>\n",
       "      <th>genre</th>\n",
       "      <th>title</th>\n",
       "      <th>lyrics</th>\n",
       "    </tr>\n",
       "  </thead>\n",
       "  <tbody>\n",
       "    <tr>\n",
       "      <th>0</th>\n",
       "      <td>beyonce-knowles</td>\n",
       "      <td>Pop</td>\n",
       "      <td>ego remix</td>\n",
       "      <td>Oh baby, how you doing?\\nYou know I'm gonna cu...</td>\n",
       "    </tr>\n",
       "    <tr>\n",
       "      <th>1</th>\n",
       "      <td>beyonce-knowles</td>\n",
       "      <td>Pop</td>\n",
       "      <td>then tell me</td>\n",
       "      <td>playin' everything so easy,\\nit's like you see...</td>\n",
       "    </tr>\n",
       "    <tr>\n",
       "      <th>2</th>\n",
       "      <td>beyonce-knowles</td>\n",
       "      <td>Pop</td>\n",
       "      <td>honesty</td>\n",
       "      <td>If you search\\nFor tenderness\\nIt isn't hard t...</td>\n",
       "    </tr>\n",
       "    <tr>\n",
       "      <th>3</th>\n",
       "      <td>beyonce-knowles</td>\n",
       "      <td>Pop</td>\n",
       "      <td>you are my rock</td>\n",
       "      <td>Oh oh oh I, oh oh oh I\\n[Verse 1:]\\nIf I wrote...</td>\n",
       "    </tr>\n",
       "    <tr>\n",
       "      <th>4</th>\n",
       "      <td>beyonce-knowles</td>\n",
       "      <td>Pop</td>\n",
       "      <td>black culture</td>\n",
       "      <td>Party the people, the people the party it's po...</td>\n",
       "    </tr>\n",
       "  </tbody>\n",
       "</table>\n",
       "</div>"
      ],
      "text/plain": [
       "            artist genre            title  \\\n",
       "0  beyonce-knowles   Pop        ego remix   \n",
       "1  beyonce-knowles   Pop     then tell me   \n",
       "2  beyonce-knowles   Pop          honesty   \n",
       "3  beyonce-knowles   Pop  you are my rock   \n",
       "4  beyonce-knowles   Pop    black culture   \n",
       "\n",
       "                                              lyrics  \n",
       "0  Oh baby, how you doing?\\nYou know I'm gonna cu...  \n",
       "1  playin' everything so easy,\\nit's like you see...  \n",
       "2  If you search\\nFor tenderness\\nIt isn't hard t...  \n",
       "3  Oh oh oh I, oh oh oh I\\n[Verse 1:]\\nIf I wrote...  \n",
       "4  Party the people, the people the party it's po...  "
      ]
     },
     "execution_count": 12,
     "metadata": {},
     "output_type": "execute_result"
    }
   ],
   "source": [
    "metro.rename(columns = {\"song\": \"title\"}, inplace=True)\n",
    "# reordering columns \n",
    "metro = metro[['artist', 'genre', 'title', 'lyrics']]\n",
    "metro['title'] = metro['title'].str.replace('-',' ')\n",
    "metro.head(5)"
   ]
  },
  {
   "cell_type": "markdown",
   "metadata": {},
   "source": [
    "# Combining datasets into BIG"
   ]
  },
  {
   "cell_type": "code",
   "execution_count": 13,
   "metadata": {},
   "outputs": [
    {
     "name": "stderr",
     "output_type": "stream",
     "text": [
      "/usr/local/lib/python3.7/site-packages/ipykernel_launcher.py:2: FutureWarning: Sorting because non-concatenation axis is not aligned. A future version\n",
      "of pandas will change to not sort by default.\n",
      "\n",
      "To accept the future behavior, pass 'sort=False'.\n",
      "\n",
      "To retain the current behavior and silence the warning, pass 'sort=True'.\n",
      "\n",
      "  \n"
     ]
    }
   ],
   "source": [
    "frames_1 = [metro, genius_df]\n",
    "master_df = pd.concat(frames_1)"
   ]
  },
  {
   "cell_type": "code",
   "execution_count": 14,
   "metadata": {},
   "outputs": [],
   "source": [
    "master_df.shape\n",
    "master_df.to_csv(\"master-data.csv\")"
   ]
  },
  {
   "cell_type": "markdown",
   "metadata": {},
   "source": [
    "# Cleaning Non-English Lyrics out of Dataset"
   ]
  },
  {
   "cell_type": "code",
   "execution_count": 18,
   "metadata": {},
   "outputs": [],
   "source": [
    "from langdetect import detect\n",
    "import pandas as pd \n",
    "import numpy as np "
   ]
  },
  {
   "cell_type": "code",
   "execution_count": 19,
   "metadata": {},
   "outputs": [
    {
     "name": "stdout",
     "output_type": "stream",
     "text": [
      "            artist genre                                             lyrics  \\\n",
      "0  beyonce-knowles   Pop  Oh baby, how you doing?\\nYou know I'm gonna cu...   \n",
      "1  beyonce-knowles   Pop  playin' everything so easy,\\nit's like you see...   \n",
      "2  beyonce-knowles   Pop  If you search\\nFor tenderness\\nIt isn't hard t...   \n",
      "3  beyonce-knowles   Pop  Oh oh oh I, oh oh oh I\\n[Verse 1:]\\nIf I wrote...   \n",
      "4  beyonce-knowles   Pop  Party the people, the people the party it's po...   \n",
      "\n",
      "             title  word_num  \n",
      "0        ego remix       NaN  \n",
      "1     then tell me       NaN  \n",
      "2          honesty       NaN  \n",
      "3  you are my rock       NaN  \n",
      "4    black culture       NaN  \n"
     ]
    }
   ],
   "source": [
    "data = pd.read_csv(\"master-data.csv\")\n",
    "del data['Unnamed: 0']\n",
    "print(data.head())"
   ]
  },
  {
   "cell_type": "code",
   "execution_count": 20,
   "metadata": {},
   "outputs": [
    {
     "name": "stdout",
     "output_type": "stream",
     "text": [
      "0\n",
      "(327860, 5)\n",
      "0\n"
     ]
    }
   ],
   "source": [
    "# Get rid of all rows whose lyrics column is NaN\n",
    "data = data[data['lyrics'].notnull()]\n",
    "non_strings = 0\n",
    "bad_indices = []\n",
    "for index, value in data['lyrics'].items():\n",
    "    if type(value) != str:\n",
    "        non_strings = non_strings + 1\n",
    "        bad_indices.append(index)\n",
    "# print(data[type(data['lyrics']) != str].shape )\n",
    "print(non_strings)\n",
    "print(data.shape)\n",
    "print(len(bad_indices))"
   ]
  },
  {
   "cell_type": "code",
   "execution_count": 21,
   "metadata": {},
   "outputs": [
    {
     "name": "stdout",
     "output_type": "stream",
     "text": [
      "327860\n"
     ]
    }
   ],
   "source": [
    "print(len(data['lyrics']))"
   ]
  },
  {
   "cell_type": "code",
   "execution_count": 22,
   "metadata": {},
   "outputs": [],
   "source": [
    "def language_detector(string):\n",
    "    global i\n",
    "    try:\n",
    "        res = detect(string)\n",
    "    except:\n",
    "        res = \"undetectable\"\n",
    "    if i % 2000 == 0:\n",
    "        print(i)\n",
    "    i = i + 1\n",
    "    return res"
   ]
  },
  {
   "cell_type": "code",
   "execution_count": 23,
   "metadata": {},
   "outputs": [
    {
     "name": "stdout",
     "output_type": "stream",
     "text": [
      "0\n",
      "2000\n",
      "4000\n",
      "6000\n",
      "8000\n",
      "10000\n",
      "12000\n",
      "14000\n",
      "16000\n",
      "18000\n",
      "20000\n",
      "22000\n",
      "24000\n",
      "26000\n",
      "28000\n",
      "30000\n",
      "32000\n",
      "34000\n",
      "36000\n",
      "38000\n",
      "40000\n",
      "42000\n",
      "44000\n",
      "46000\n",
      "48000\n",
      "50000\n",
      "52000\n",
      "54000\n",
      "56000\n",
      "58000\n",
      "60000\n",
      "62000\n",
      "64000\n",
      "66000\n",
      "68000\n",
      "70000\n",
      "72000\n",
      "74000\n",
      "76000\n",
      "78000\n",
      "80000\n",
      "82000\n",
      "84000\n",
      "86000\n",
      "88000\n",
      "90000\n",
      "92000\n",
      "94000\n",
      "96000\n",
      "98000\n",
      "100000\n",
      "102000\n",
      "104000\n",
      "106000\n",
      "108000\n",
      "110000\n",
      "112000\n",
      "114000\n",
      "116000\n",
      "118000\n",
      "120000\n",
      "122000\n",
      "124000\n",
      "126000\n",
      "128000\n",
      "130000\n",
      "132000\n",
      "134000\n",
      "136000\n",
      "138000\n",
      "140000\n",
      "142000\n",
      "144000\n",
      "146000\n",
      "148000\n",
      "150000\n",
      "152000\n",
      "154000\n",
      "156000\n",
      "158000\n",
      "160000\n",
      "162000\n",
      "164000\n",
      "166000\n",
      "168000\n",
      "170000\n",
      "172000\n",
      "174000\n",
      "176000\n",
      "178000\n",
      "180000\n",
      "182000\n",
      "184000\n",
      "186000\n",
      "188000\n",
      "190000\n",
      "192000\n",
      "194000\n",
      "196000\n",
      "198000\n",
      "200000\n",
      "202000\n",
      "204000\n",
      "206000\n",
      "208000\n",
      "210000\n",
      "212000\n",
      "214000\n",
      "216000\n",
      "218000\n",
      "220000\n",
      "222000\n",
      "224000\n",
      "226000\n",
      "228000\n",
      "230000\n",
      "232000\n",
      "234000\n",
      "236000\n",
      "238000\n",
      "240000\n",
      "242000\n",
      "244000\n",
      "246000\n",
      "248000\n",
      "250000\n",
      "252000\n",
      "254000\n",
      "256000\n",
      "258000\n",
      "260000\n",
      "262000\n",
      "264000\n",
      "266000\n",
      "268000\n",
      "270000\n",
      "272000\n",
      "274000\n",
      "276000\n",
      "278000\n",
      "280000\n",
      "282000\n",
      "284000\n",
      "286000\n",
      "288000\n",
      "290000\n",
      "292000\n",
      "294000\n",
      "296000\n",
      "298000\n",
      "300000\n",
      "302000\n",
      "304000\n",
      "306000\n",
      "308000\n",
      "310000\n",
      "312000\n",
      "314000\n",
      "316000\n",
      "318000\n",
      "320000\n",
      "322000\n",
      "324000\n",
      "326000\n"
     ]
    }
   ],
   "source": [
    "i = 0\n",
    "data['language'] = data['lyrics'].apply(language_detector)\n",
    "data = data[data['language'] == \"en\"]\n",
    "data.to_csv(\"language-processed-data.csv\")"
   ]
  },
  {
   "cell_type": "code",
   "execution_count": null,
   "metadata": {},
   "outputs": [],
   "source": []
  }
 ],
 "metadata": {
  "kernelspec": {
   "display_name": "Python 3",
   "language": "python",
   "name": "python3"
  },
  "language_info": {
   "codemirror_mode": {
    "name": "ipython",
    "version": 3
   },
   "file_extension": ".py",
   "mimetype": "text/x-python",
   "name": "python",
   "nbconvert_exporter": "python",
   "pygments_lexer": "ipython3",
   "version": "3.7.6"
  }
 },
 "nbformat": 4,
 "nbformat_minor": 2
}

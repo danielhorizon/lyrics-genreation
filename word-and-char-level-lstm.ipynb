{
 "cells": [
  {
   "cell_type": "code",
   "execution_count": 1,
   "metadata": {},
   "outputs": [],
   "source": [
    "import pandas as pd \n",
    "import numpy as np\n",
    "from langdetect import detect\n",
    "# https://github.com/petrosDemetrakopoulos/RNN-Beatles-lyrics-generator\n",
    "# https://github.com/starry91/Lyric-Generator#2-lyric-generator-based-on-word-level-rnn"
   ]
  },
  {
   "cell_type": "code",
   "execution_count": 2,
   "metadata": {},
   "outputs": [],
   "source": [
    "#data = pd.read_csv(\"master-data.csv\")"
   ]
  },
  {
   "cell_type": "code",
   "execution_count": 3,
   "metadata": {},
   "outputs": [],
   "source": [
    "# Get rid of all rows whose lyrics column is NaN\n",
    "#data = data[data['lyrics'].notnull()]\n",
    "#non_strings = 0\n",
    "#bad_indices = []\n",
    "#for index, value in data['lyrics'].items():\n",
    " #   if type(value) != str:\n",
    "  #      non_strings = non_strings + 1\n",
    "   #     bad_indices.append(index)\n",
    "#data[type(data['lyrics']) != str].shape \n",
    "#print(non_strings)\n",
    "#print(data.shape)\n",
    "#print(len(bad_indices))"
   ]
  },
  {
   "cell_type": "code",
   "execution_count": 4,
   "metadata": {},
   "outputs": [],
   "source": [
    "#print(len(data['lyrics']))"
   ]
  },
  {
   "cell_type": "code",
   "execution_count": 5,
   "metadata": {},
   "outputs": [],
   "source": [
    "def language_detector(string):\n",
    "    global i\n",
    "    try:\n",
    "        res = detect(string)\n",
    "    except:\n",
    "        res = \"undetectable\"\n",
    "    if i % 1000 == 0:\n",
    "        print(i)\n",
    "    i = i + 1\n",
    "    return res"
   ]
  },
  {
   "cell_type": "code",
   "execution_count": 6,
   "metadata": {},
   "outputs": [],
   "source": [
    "#i = 0\n",
    "#data['language'] = data['lyrics'].apply(language_detector)"
   ]
  },
  {
   "cell_type": "code",
   "execution_count": 7,
   "metadata": {},
   "outputs": [],
   "source": [
    "#data = data[data['language'] == \"en\"]"
   ]
  },
  {
   "cell_type": "code",
   "execution_count": 8,
   "metadata": {},
   "outputs": [],
   "source": [
    "#data.to_csv(\"language-processed-data.csv\")"
   ]
  },
  {
   "cell_type": "code",
   "execution_count": 9,
   "metadata": {},
   "outputs": [],
   "source": [
    "data = pd.read_csv(\"language-processed-data.csv\")"
   ]
  },
  {
   "cell_type": "code",
   "execution_count": 10,
   "metadata": {},
   "outputs": [
    {
     "name": "stdout",
     "output_type": "stream",
     "text": [
      "(290515, 7)\n",
      "   Unnamed: 0  Unnamed: 0.1           artist genre            title  \\\n",
      "0           0             0  beyonce-knowles   Pop        ego remix   \n",
      "1           1             1  beyonce-knowles   Pop     then tell me   \n",
      "2           2             2  beyonce-knowles   Pop          honesty   \n",
      "3           3             3  beyonce-knowles   Pop  you are my rock   \n",
      "4           4             4  beyonce-knowles   Pop    black culture   \n",
      "\n",
      "                                              lyrics language  \n",
      "0  Oh baby, how you doing?\\nYou know I'm gonna cu...       en  \n",
      "1  playin' everything so easy,\\nit's like you see...       en  \n",
      "2  If you search\\nFor tenderness\\nIt isn't hard t...       en  \n",
      "3  Oh oh oh I, oh oh oh I\\n[Verse 1:]\\nIf I wrote...       en  \n",
      "4  Party the people, the people the party it's po...       en  \n"
     ]
    }
   ],
   "source": [
    "print(data.shape)\n",
    "print(data.head())"
   ]
  },
  {
   "cell_type": "markdown",
   "metadata": {},
   "source": [
    "## Prediction"
   ]
  },
  {
   "cell_type": "markdown",
   "metadata": {},
   "source": [
    "- User inputs a song title, and how many words they want the song to be. \n",
    "- Network does, for example, 100 predictions, and in the training phrase we know what word we need to generate. \n",
    "- (genre, song title); have a marker that it's the end of the title "
   ]
  },
  {
   "cell_type": "markdown",
   "metadata": {},
   "source": [
    "## Character Level LSTM"
   ]
  },
  {
   "cell_type": "markdown",
   "metadata": {},
   "source": [
    "Attempting a character level-RNN for a single genre\n",
    "https://www.kaggle.com/super13579/let-s-auto-write-the-deep-purple-lysics-pytorch"
   ]
  },
  {
   "cell_type": "code",
   "execution_count": 189,
   "metadata": {},
   "outputs": [
    {
     "name": "stdout",
     "output_type": "stream",
     "text": [
      "   Unnamed: 0  Unnamed: 0.1           artist genre            title  \\\n",
      "0           0             0  beyonce-knowles   Pop        ego remix   \n",
      "1           1             1  beyonce-knowles   Pop     then tell me   \n",
      "2           2             2  beyonce-knowles   Pop          honesty   \n",
      "3           3             3  beyonce-knowles   Pop  you are my rock   \n",
      "4           4             4  beyonce-knowles   Pop    black culture   \n",
      "\n",
      "                                              lyrics language  \n",
      "0  oh baby how you doing?\\nyou know i'm gonna cut...       en  \n",
      "1  playin' everything so easy\\nit's like you seem...       en  \n",
      "2  if you search\\nfor tenderness\\nit isn't hard t...       en  \n",
      "3  oh oh oh i oh oh oh i\\nverse 1:\\nif i wrote a ...       en  \n",
      "4  party the people the people the party it's pop...       en  \n"
     ]
    }
   ],
   "source": [
    "data1 = data\n",
    "data1['lyrics']= data1['lyrics'].apply(preprocessText)\n",
    "print(data1.head())"
   ]
  },
  {
   "cell_type": "code",
   "execution_count": 190,
   "metadata": {},
   "outputs": [
    {
     "data": {
      "text/plain": [
       "array(['Pop', 'Hip-Hop', 'Not Available', 'Rock', 'Metal', 'Other',\n",
       "       'Country', 'Jazz', 'Electronic', 'Folk', 'R&B', 'Indie', 'rap'],\n",
       "      dtype=object)"
      ]
     },
     "execution_count": 190,
     "metadata": {},
     "output_type": "execute_result"
    }
   ],
   "source": [
    "data1.genre.unique()"
   ]
  },
  {
   "cell_type": "code",
   "execution_count": 192,
   "metadata": {},
   "outputs": [],
   "source": [
    "data1 = data1[data1['genre'] == 'Country'].sample(100)"
   ]
  },
  {
   "cell_type": "code",
   "execution_count": 193,
   "metadata": {},
   "outputs": [
    {
     "data": {
      "text/plain": [
       "(100, 7)"
      ]
     },
     "execution_count": 193,
     "metadata": {},
     "output_type": "execute_result"
    }
   ],
   "source": [
    "data1.shape"
   ]
  },
  {
   "cell_type": "code",
   "execution_count": 194,
   "metadata": {},
   "outputs": [
    {
     "name": "stdout",
     "output_type": "stream",
     "text": [
      "corpus length: 89524\n"
     ]
    }
   ],
   "source": [
    "DP_text = data1['lyrics'].str.cat(sep='\\n').lower()\n",
    "print('corpus length:', len(DP_text))"
   ]
  },
  {
   "cell_type": "code",
   "execution_count": 195,
   "metadata": {},
   "outputs": [
    {
     "name": "stdout",
     "output_type": "stream",
     "text": [
      "['\\n', ' ', '!', '$', '&', \"'\", '/', '0', '1', '2', '3', '4', '5', '6', '7', '8', '9', ':', ';', '?', 'a', 'b', 'c', 'd', 'e', 'f', 'g', 'h', 'i', 'j', 'k', 'l', 'm', 'n', 'o', 'p', 'q', 'r', 's', 't', 'u', 'v', 'w', 'x', 'y', 'z', '\\x97', '¹', 'á']\n",
      "total chars: 49\n"
     ]
    }
   ],
   "source": [
    "# Counting characters appeared in all lyrics\n",
    "chars = sorted(list(set(DP_text)))\n",
    "print(chars)\n",
    "print('total chars:', len(chars))"
   ]
  },
  {
   "cell_type": "code",
   "execution_count": 196,
   "metadata": {},
   "outputs": [
    {
     "name": "stdout",
     "output_type": "stream",
     "text": [
      "{'\\n': 0, ' ': 1, '!': 2, '$': 3, '&': 4, \"'\": 5, '/': 6, '0': 7, '1': 8, '2': 9, '3': 10, '4': 11, '5': 12, '6': 13, '7': 14, '8': 15, '9': 16, ':': 17, ';': 18, '?': 19, 'a': 20, 'b': 21, 'c': 22, 'd': 23, 'e': 24, 'f': 25, 'g': 26, 'h': 27, 'i': 28, 'j': 29, 'k': 30, 'l': 31, 'm': 32, 'n': 33, 'o': 34, 'p': 35, 'q': 36, 'r': 37, 's': 38, 't': 39, 'u': 40, 'v': 41, 'w': 42, 'x': 43, 'y': 44, 'z': 45, '\\x97': 46, '¹': 47, 'á': 48}\n"
     ]
    }
   ],
   "source": [
    "# Create a dictionary of characters, see the index of characters.\n",
    "char_to_int = dict((c, i) for i, c in enumerate(chars))\n",
    "int_to_char = dict((i, c) for i, c in enumerate(chars))\n",
    "\n",
    "print(char_to_int)"
   ]
  },
  {
   "cell_type": "code",
   "execution_count": 197,
   "metadata": {},
   "outputs": [
    {
     "name": "stdout",
     "output_type": "stream",
     "text": [
      "Sentence Window\n",
      "['well i went down to a music city function\\nwhere i '\n",
      " 'ell i went down to a music city function\\nwhere i j'\n",
      " 'll i went down to a music city function\\nwhere i ju'\n",
      " 'l i went down to a music city function\\nwhere i jus'\n",
      " ' i went down to a music city function\\nwhere i just']\n",
      "Target characters\n",
      "['j' 'u' 's' 't' ' ']\n",
      "Number of sequences: 89474\n"
     ]
    }
   ],
   "source": [
    "seq_length = 50 # The sentence window size\n",
    "step = 1 # The steps between the windows\n",
    "sentences = []\n",
    "next_chars = []\n",
    "\n",
    "# Create Target and sentences window\n",
    "for i in range(0, len(DP_text) - seq_length, step):\n",
    "    # range from current index to sequence length charaters\n",
    "    sentences.append(DP_text[i: i + seq_length])  \n",
    "    next_chars.append(DP_text[i + seq_length]) # the next character\n",
    "    \n",
    "sentences = np.array(sentences)\n",
    "next_chars = np.array(next_chars)\n",
    "\n",
    "#Print Sentence Window and next charaters\n",
    "print('Sentence Window')\n",
    "print (sentences[:5])\n",
    "print('Target characters')\n",
    "print (next_chars[:5])\n",
    "print('Number of sequences:', len(sentences))"
   ]
  },
  {
   "cell_type": "code",
   "execution_count": 198,
   "metadata": {},
   "outputs": [],
   "source": [
    "# transferring the character to index \n",
    "def getdata(sentences, next_chars):\n",
    "    X = np.zeros((len(sentences),seq_length))\n",
    "    y = np.zeros((len(sentences)))\n",
    "    length = len(sentences)\n",
    "    index = 0\n",
    "    for i in range(len(sentences)):\n",
    "        sentence = sentences[i]\n",
    "        for t, char in enumerate(sentence):\n",
    "            X[i, t] = char_to_int[char]\n",
    "        y[i] = char_to_int[next_chars[i]]\n",
    "    return X, y"
   ]
  },
  {
   "cell_type": "code",
   "execution_count": 199,
   "metadata": {},
   "outputs": [
    {
     "name": "stdout",
     "output_type": "stream",
     "text": [
      "[[42. 24. 31. ...  1. 28.  1.]\n",
      " [24. 31. 31. ... 28.  1. 29.]\n",
      " [31. 31.  1. ...  1. 29. 40.]\n",
      " ...\n",
      " [20. 22. 30. ... 24. 39.  1.]\n",
      " [22. 30.  1. ... 39.  1. 34.]\n",
      " [30.  1. 39. ...  1. 34. 40.]]\n",
      "Shape of training_x: (89474, 50)\n",
      "Shape of training_y: (89474,)\n"
     ]
    }
   ],
   "source": [
    "train_x,train_y = getdata(sentences, next_chars)\n",
    "print(train_x)\n",
    "print('Shape of training_x:', train_x.shape)\n",
    "print('Shape of training_y:', train_y.shape)"
   ]
  },
  {
   "cell_type": "markdown",
   "metadata": {},
   "source": [
    "## Building out the model"
   ]
  },
  {
   "cell_type": "code",
   "execution_count": 200,
   "metadata": {},
   "outputs": [],
   "source": [
    "import torch\n",
    "import torch.nn as nn\n",
    "import torch.nn.functional as F\n",
    "import torch.optim as optim\n",
    "from torch.autograd import Variable\n",
    "\n",
    "class Simple_LSTM(nn.Module):\n",
    "    def __init__(self,n_vocab,hidden_dim, embedding_dim,dropout = 0.2):\n",
    "        super(Simple_LSTM, self).__init__()\n",
    "        \n",
    "        self.hidden_dim = hidden_dim\n",
    "        self.embedding_dim = embedding_dim\n",
    "        self.lstm = nn.LSTM(embedding_dim, hidden_dim,dropout = dropout,num_layers = 2)\n",
    "        self.embeddings = nn.Embedding(n_vocab, embedding_dim)\n",
    "        self.fc = nn.Linear(hidden_dim, n_vocab)\n",
    "    \n",
    "    def forward(self, seq_in):\n",
    "        # for LSTM, input should be (Sequnce_length,batchsize,hidden_layer), so we need to transpose the input\n",
    "        embedded = self.embeddings(seq_in.t()) \n",
    "        lstm_out, _ = self.lstm(embedded)\n",
    "        # Only need to keep the last character \n",
    "        ht=lstm_out[-1] \n",
    "        out = self.fc(ht)\n",
    "        return out"
   ]
  },
  {
   "cell_type": "code",
   "execution_count": 201,
   "metadata": {},
   "outputs": [],
   "source": [
    "X_train_tensor = torch.tensor(train_x, dtype=torch.long)\n",
    "Y_train_tensor = torch.tensor(train_y, dtype=torch.long)"
   ]
  },
  {
   "cell_type": "code",
   "execution_count": 202,
   "metadata": {},
   "outputs": [],
   "source": [
    "from torch.utils.data import Dataset, DataLoader\n",
    "train = torch.utils.data.TensorDataset(X_train_tensor,Y_train_tensor)\n",
    "train_loader = torch.utils.data.DataLoader(train, batch_size = 128)"
   ]
  },
  {
   "cell_type": "code",
   "execution_count": 203,
   "metadata": {},
   "outputs": [],
   "source": [
    "model = Simple_LSTM(len(chars),256,256)\n",
    "optimizer = torch.optim.Adam(model.parameters(), lr = 0.002) # Using Adam optimizer"
   ]
  },
  {
   "cell_type": "code",
   "execution_count": 204,
   "metadata": {},
   "outputs": [
    {
     "name": "stdout",
     "output_type": "stream",
     "text": [
      "Epoch:  0\n",
      "Epoch 1/10 \t loss=2.0619 \t time=370.39s\n",
      "Epoch:  1\n",
      "Epoch 2/10 \t loss=1.7457 \t time=388.17s\n",
      "Epoch:  2\n",
      "Epoch 3/10 \t loss=1.6262 \t time=387.47s\n",
      "Epoch:  3\n",
      "Epoch 4/10 \t loss=1.5476 \t time=381.92s\n",
      "Epoch:  4\n",
      "Epoch 5/10 \t loss=1.4833 \t time=386.91s\n",
      "Epoch:  5\n",
      "Epoch 6/10 \t loss=1.4280 \t time=399.57s\n",
      "Epoch:  6\n",
      "Epoch 7/10 \t loss=1.3794 \t time=392.13s\n",
      "Epoch:  7\n",
      "Epoch 8/10 \t loss=1.3392 \t time=386.38s\n",
      "Epoch:  8\n",
      "Epoch 9/10 \t loss=1.2955 \t time=394.54s\n",
      "Epoch:  9\n",
      "Epoch 10/10 \t loss=1.2566 \t time=395.78s\n",
      "All \t loss=1.5163 \t \n"
     ]
    }
   ],
   "source": [
    "import time # Add time counter\n",
    "avg_losses_f = []\n",
    "n_epochs=10\n",
    "\n",
    "for epoch in range(n_epochs):\n",
    "    print(\"Epoch: \", epoch)\n",
    "    start_time = time.time()\n",
    "    model.train()\n",
    "    loss_fn = torch.nn.CrossEntropyLoss()\n",
    "    avg_loss = 0.\n",
    "    for i, (x_batch, y_batch) in enumerate(train_loader):\n",
    "        y_pred = model(x_batch)\n",
    "        \n",
    "        loss = loss_fn(y_pred, y_batch)\n",
    "        optimizer.zero_grad()\n",
    "        loss.backward()\n",
    "        \n",
    "        optimizer.step()\n",
    "        avg_loss+= loss.item()/len(train_loader)\n",
    "        \n",
    "    elapsed_time = time.time() - start_time \n",
    "    print('Epoch {}/{} \\t loss={:.4f} \\t time={:.2f}s'.format(\n",
    "        epoch + 1, n_epochs, avg_loss, elapsed_time))\n",
    "    \n",
    "    avg_losses_f.append(avg_loss)    \n",
    "    \n",
    "print('All \\t loss={:.4f} \\t '.format(np.average(avg_losses_f)))"
   ]
  },
  {
   "cell_type": "code",
   "execution_count": 205,
   "metadata": {},
   "outputs": [
    {
     "data": {
      "image/png": "[encoded data removed]",
      "text/plain": [
       "<Figure size 432x288 with 1 Axes>"
      ]
     },
     "metadata": {
      "needs_background": "light"
     },
     "output_type": "display_data"
    }
   ],
   "source": [
    "import matplotlib.pyplot as plt\n",
    "\n",
    "plt.plot(avg_losses_f)\n",
    "plt.xlabel('Epoch')\n",
    "plt.ylabel('Loss value')\n",
    "plt.show()"
   ]
  },
  {
   "cell_type": "markdown",
   "metadata": {},
   "source": [
    "creating a function that can sample an index from a probability array \n"
   ]
  },
  {
   "cell_type": "code",
   "execution_count": 206,
   "metadata": {},
   "outputs": [],
   "source": [
    "def sample(preds, temperature=1.0):\n",
    "    preds = np.asarray(preds).astype('float64')\n",
    "    preds = np.log(preds) / temperature\n",
    "    exp_preds = np.exp(preds)\n",
    "    preds = exp_preds / np.sum(exp_preds)\n",
    "    probas = np.random.multinomial(1, preds, 1)\n",
    "    return np.argmax(probas)"
   ]
  },
  {
   "cell_type": "markdown",
   "metadata": {},
   "source": [
    "validate the model"
   ]
  },
  {
   "cell_type": "code",
   "execution_count": 207,
   "metadata": {},
   "outputs": [
    {
     "name": "stdout",
     "output_type": "stream",
     "text": [
      "i put the new forgis on the g\n",
      "i trap until the bloom stuck in love you\n",
      "i can be back the way\n",
      "i was little bells jingle bells jingle bells jingle bells jingle bells jingle bells jingle bells jingle bells jingle bells jingle bells jingle bells jingle bells jingle bells jingle bells jingle bells jingle bells jingle bells jingle bells jingle bells jingle bells jingle bells jingle bells jingle bells jingle bells jingle bells jingle bells jingle bells \n"
     ]
    }
   ],
   "source": [
    "# Define the start sentence\n",
    "# sentence = 'i read in the news\\nthat the average man\\nplease kis'\n",
    "sentence = 'i love the way you look at me \\n when the end of'\n",
    "variance = 0.25\n",
    "generated = ''\n",
    "original = sentence\n",
    "window = sentence\n",
    "\n",
    "for i in range(400):\n",
    "    x = np.zeros((1, seq_length))\n",
    "    for t, char in enumerate(window):\n",
    "        x[0, t] = char_to_int[char] # Change the sentence to index vector shape (1,50)\n",
    "        \n",
    "    x_in = Variable(torch.LongTensor(x))\n",
    "    pred = model(x_in)\n",
    "    pred = np.array(F.softmax(pred, dim=1).data[0].cpu())\n",
    "    next_index = sample(pred, variance)\n",
    "    next_char = int_to_char[next_index] # index to char\n",
    "\n",
    "    generated += next_char\n",
    "    window = window[1:] + next_char # Update Window for next char predict\n",
    "    \n",
    "print(original + generated)"
   ]
  },
  {
   "cell_type": "markdown",
   "metadata": {},
   "source": [
    "# Word Level LSTM"
   ]
  },
  {
   "cell_type": "code",
   "execution_count": 173,
   "metadata": {},
   "outputs": [
    {
     "name": "stdout",
     "output_type": "stream",
     "text": [
      "        Unnamed: 0  Unnamed: 0.1          artist    genre  \\\n",
      "34718        54000         54000      gary-allan  Country   \n",
      "49759        76703         76703  dierks-bentley  Country   \n",
      "196786      299852        299852     del-mccoury  Country   \n",
      "178688      271499        271499   blake-shelton  Country   \n",
      "228283      347184        347184   dwight-yoakam  Country   \n",
      "\n",
      "                                       title  \\\n",
      "34718   red lips blue eyes little white lies   \n",
      "49759                         breathe you in   \n",
      "196786                           blue darlin   \n",
      "178688                                buzzin   \n",
      "228283              heartaches by the number   \n",
      "\n",
      "                                                   lyrics language  \n",
      "34718   red lips blue eyes and little white lies\\noh d...       en  \n",
      "49759   i've never been the kind\\nto bear my heart and...       en  \n",
      "196786  i was a fool broke every rule blue darlin'\\nsa...       en  \n",
      "178688  work work work man that's all i ever do\\nbeen ...       en  \n",
      "228283  heartache number one was when you left me\\ni n...       en  \n",
      "(200, 7)\n"
     ]
    }
   ],
   "source": [
    "data1 = data\n",
    "data1 = data1[data1['genre'] == 'Country'].sample(1000)\n",
    "data1['lyrics']= data1['lyrics'].apply(preprocessText)\n",
    "print(data1.head())\n",
    "print(data1.shape)"
   ]
  },
  {
   "cell_type": "code",
   "execution_count": 174,
   "metadata": {},
   "outputs": [
    {
     "name": "stdout",
     "output_type": "stream",
     "text": [
      "corpus length: 41965\n"
     ]
    }
   ],
   "source": [
    "import re\n",
    "newlines = re.sub(\"\\n\", \" \\n \", data1['lyrics'].str.cat(sep='\\n').lower())\n",
    "exclamation = re.sub(\"!\", \" ! \", newlines)\n",
    "question = re.sub(\"!\", \" ! \", exclamation)\n",
    "DP_text = re.findall(r'\\S+|\\n', question)\n",
    "print('corpus length:', len(DP_text))"
   ]
  },
  {
   "cell_type": "code",
   "execution_count": 175,
   "metadata": {},
   "outputs": [
    {
     "name": "stdout",
     "output_type": "stream",
     "text": [
      "total words: 3416\n"
     ]
    }
   ],
   "source": [
    "# Counting characters appeared in all lyrics\n",
    "words = sorted(list(set(DP_text)))\n",
    "print('total words:', len(words))"
   ]
  },
  {
   "cell_type": "code",
   "execution_count": 176,
   "metadata": {},
   "outputs": [],
   "source": [
    "# Create a dictionary of characters, see the index of characters.\n",
    "char_to_int = dict((c, i) for i, c in enumerate(words))\n",
    "int_to_char = dict((i, c) for i, c in enumerate(words))"
   ]
  },
  {
   "cell_type": "code",
   "execution_count": 177,
   "metadata": {},
   "outputs": [
    {
     "name": "stdout",
     "output_type": "stream",
     "text": [
      "Sentence Window\n",
      "[['red' 'lips' 'blue' 'eyes' 'and' 'little' 'white' 'lies' '\\n' 'oh']\n",
      " ['lips' 'blue' 'eyes' 'and' 'little' 'white' 'lies' '\\n' 'oh' \"darlin'\"]\n",
      " ['blue' 'eyes' 'and' 'little' 'white' 'lies' '\\n' 'oh' \"darlin'\" \"i'm\"]\n",
      " ['eyes' 'and' 'little' 'white' 'lies' '\\n' 'oh' \"darlin'\" \"i'm\" 'a']\n",
      " ['and' 'little' 'white' 'lies' '\\n' 'oh' \"darlin'\" \"i'm\" 'a' 'fool']]\n",
      "Target characters\n",
      "[\"darlin'\" \"i'm\" 'a' 'fool' 'for']\n",
      "Number of sequences: 41955\n"
     ]
    }
   ],
   "source": [
    "seq_length = 10 # The sentence window size\n",
    "step = 1 # The steps between the windows\n",
    "sentences = []\n",
    "next_chars = []\n",
    "\n",
    "# Create Target and sentences window\n",
    "for i in range(0, len(DP_text) - seq_length, step):\n",
    "    # range from current index to sequence length charaters\n",
    "    sentences.append(DP_text[i: i + seq_length])  \n",
    "    next_chars.append(DP_text[i + seq_length]) # the next character\n",
    "    \n",
    "sentences = np.array(sentences)\n",
    "next_chars = np.array(next_chars)\n",
    "\n",
    "#Print Sentence Window and next charaters\n",
    "print('Sentence Window')\n",
    "print (sentences[:5])\n",
    "print('Target characters')\n",
    "print (next_chars[:5])\n",
    "print('Number of sequences:', len(sentences))"
   ]
  },
  {
   "cell_type": "code",
   "execution_count": 178,
   "metadata": {},
   "outputs": [],
   "source": [
    "# transferring the character to index \n",
    "def getdata(sentences, next_chars):\n",
    "    X = np.zeros((len(sentences),seq_length))\n",
    "    y = np.zeros((len(sentences)))\n",
    "    length = len(sentences)\n",
    "    index = 0\n",
    "    for i in range(len(sentences)):\n",
    "        sentence = sentences[i]\n",
    "        for t, char in enumerate(sentence):\n",
    "            X[i, t] = char_to_int[char]\n",
    "        y[i] = char_to_int[next_chars[i]]\n",
    "    return X, y"
   ]
  },
  {
   "cell_type": "code",
   "execution_count": 179,
   "metadata": {},
   "outputs": [
    {
     "name": "stdout",
     "output_type": "stream",
     "text": [
      "[[2297. 1657.  302. ... 1637.    0. 1995.]\n",
      " [1657.  302.  939. ...    0. 1995.  711.]\n",
      " [ 302.  939.  108. ... 1995.  711. 1446.]\n",
      " ...\n",
      " [1968. 3256. 2935. ... 3409. 1827. 2760.]\n",
      " [3256. 2935.  115. ... 1827. 2760. 2007.]\n",
      " [2935.  115.  115. ... 2760. 2007. 3409.]]\n",
      "Shape of training_x: (41955, 10)\n",
      "Shape of training_y: (41955,)\n"
     ]
    }
   ],
   "source": [
    "train_x,train_y = getdata(sentences, next_chars)\n",
    "print(train_x)\n",
    "print('Shape of training_x:', train_x.shape)\n",
    "print('Shape of training_y:', train_y.shape)"
   ]
  },
  {
   "cell_type": "code",
   "execution_count": 180,
   "metadata": {},
   "outputs": [],
   "source": [
    "import torch\n",
    "import torch.nn as nn\n",
    "import torch.nn.functional as F\n",
    "import torch.optim as optim\n",
    "from torch.autograd import Variable\n",
    "\n",
    "class Simple_LSTM(nn.Module):\n",
    "    def __init__(self,n_vocab,hidden_dim, embedding_dim,dropout = 0.2):\n",
    "        super(Simple_LSTM, self).__init__()\n",
    "        \n",
    "        self.hidden_dim = hidden_dim\n",
    "        self.embedding_dim = embedding_dim\n",
    "        self.lstm = nn.LSTM(embedding_dim, hidden_dim,dropout = dropout,num_layers = 2)\n",
    "        self.embeddings = nn.Embedding(n_vocab, embedding_dim)\n",
    "        self.fc = nn.Linear(hidden_dim, n_vocab)\n",
    "    \n",
    "    def forward(self, seq_in):\n",
    "        # for LSTM, input should be (Sequnce_length,batchsize,hidden_layer), so we need to transpose the input\n",
    "        embedded = self.embeddings(seq_in.t()) \n",
    "        lstm_out, _ = self.lstm(embedded)\n",
    "        # Only need to keep the last character \n",
    "        ht=lstm_out[-1] \n",
    "        out = self.fc(ht)\n",
    "        return out"
   ]
  },
  {
   "cell_type": "code",
   "execution_count": 181,
   "metadata": {},
   "outputs": [
    {
     "name": "stdout",
     "output_type": "stream",
     "text": [
      "Shape of training_x: torch.Size([41955, 10])\n",
      "Shape of training_y: torch.Size([41955])\n"
     ]
    }
   ],
   "source": [
    "X_train_tensor = torch.tensor(train_x, dtype=torch.long)\n",
    "Y_train_tensor = torch.tensor(train_y, dtype=torch.long)\n",
    "print('Shape of training_x:', X_train_tensor.shape)\n",
    "print('Shape of training_y:', Y_train_tensor.shape)"
   ]
  },
  {
   "cell_type": "code",
   "execution_count": 182,
   "metadata": {},
   "outputs": [],
   "source": [
    "from torch.utils.data import Dataset, DataLoader\n",
    "train = torch.utils.data.TensorDataset(X_train_tensor,Y_train_tensor)\n",
    "train_loader = torch.utils.data.DataLoader(train, batch_size = 128)"
   ]
  },
  {
   "cell_type": "code",
   "execution_count": 183,
   "metadata": {},
   "outputs": [],
   "source": [
    "model = Simple_LSTM(len(words),256,256)\n",
    "optimizer = torch.optim.Adam(model.parameters(), lr = 0.002) # Using Adam optimizer"
   ]
  },
  {
   "cell_type": "code",
   "execution_count": 184,
   "metadata": {},
   "outputs": [
    {
     "name": "stdout",
     "output_type": "stream",
     "text": [
      "Epoch:  0\n",
      "Epoch 1/30 \t loss=6.0139 \t time=42.96s\n",
      "Epoch:  1\n",
      "Epoch 2/30 \t loss=5.4188 \t time=43.45s\n",
      "Epoch:  2\n",
      "Epoch 3/30 \t loss=5.0359 \t time=45.12s\n",
      "Epoch:  3\n",
      "Epoch 4/30 \t loss=4.6644 \t time=44.71s\n",
      "Epoch:  4\n",
      "Epoch 5/30 \t loss=4.3228 \t time=43.96s\n",
      "Epoch:  5\n",
      "Epoch 6/30 \t loss=4.0040 \t time=44.74s\n",
      "Epoch:  6\n",
      "Epoch 7/30 \t loss=3.7435 \t time=44.47s\n",
      "Epoch:  7\n",
      "Epoch 8/30 \t loss=3.5237 \t time=45.03s\n",
      "Epoch:  8\n",
      "Epoch 9/30 \t loss=3.3254 \t time=44.79s\n",
      "Epoch:  9\n",
      "Epoch 10/30 \t loss=3.0551 \t time=45.51s\n",
      "Epoch:  10\n",
      "Epoch 11/30 \t loss=2.8179 \t time=45.56s\n",
      "Epoch:  11\n",
      "Epoch 12/30 \t loss=2.5704 \t time=46.11s\n",
      "Epoch:  12\n",
      "Epoch 13/30 \t loss=2.3102 \t time=45.18s\n",
      "Epoch:  13\n",
      "Epoch 14/30 \t loss=2.0775 \t time=42.21s\n",
      "Epoch:  14\n",
      "Epoch 15/30 \t loss=1.8780 \t time=41.97s\n",
      "Epoch:  15\n",
      "Epoch 16/30 \t loss=1.7266 \t time=41.70s\n",
      "Epoch:  16\n",
      "Epoch 17/30 \t loss=1.6032 \t time=41.97s\n",
      "Epoch:  17\n",
      "Epoch 18/30 \t loss=1.4649 \t time=42.46s\n",
      "Epoch:  18\n",
      "Epoch 19/30 \t loss=1.3454 \t time=42.58s\n",
      "Epoch:  19\n",
      "Epoch 20/30 \t loss=1.2401 \t time=42.76s\n",
      "Epoch:  20\n",
      "Epoch 21/30 \t loss=1.1441 \t time=42.92s\n",
      "Epoch:  21\n",
      "Epoch 22/30 \t loss=1.0677 \t time=42.95s\n",
      "Epoch:  22\n",
      "Epoch 23/30 \t loss=1.0208 \t time=43.27s\n",
      "Epoch:  23\n",
      "Epoch 24/30 \t loss=0.9682 \t time=43.18s\n",
      "Epoch:  24\n",
      "Epoch 25/30 \t loss=0.9360 \t time=43.81s\n",
      "Epoch:  25\n",
      "Epoch 26/30 \t loss=0.8479 \t time=44.40s\n",
      "Epoch:  26\n",
      "Epoch 27/30 \t loss=0.7652 \t time=43.64s\n",
      "Epoch:  27\n",
      "Epoch 28/30 \t loss=0.7192 \t time=46.75s\n",
      "Epoch:  28\n",
      "Epoch 29/30 \t loss=0.6705 \t time=45.79s\n",
      "Epoch:  29\n",
      "Epoch 30/30 \t loss=0.6178 \t time=45.04s\n",
      "All \t loss=2.3633 \t \n"
     ]
    }
   ],
   "source": [
    "import time # Add time counter\n",
    "avg_losses_f = []\n",
    "n_epochs=30\n",
    "\n",
    "for epoch in range(n_epochs):\n",
    "    print(\"Epoch: \", epoch)\n",
    "    start_time = time.time()\n",
    "    model.train()\n",
    "    loss_fn = torch.nn.CrossEntropyLoss()\n",
    "    avg_loss = 0.\n",
    "    for i, (x_batch, y_batch) in enumerate(train_loader):\n",
    "        y_pred = model(x_batch)\n",
    "        \n",
    "        loss = loss_fn(y_pred, y_batch)\n",
    "        optimizer.zero_grad()\n",
    "        loss.backward()\n",
    "        \n",
    "        optimizer.step()\n",
    "        avg_loss+= loss.item()/len(train_loader)\n",
    "        \n",
    "    elapsed_time = time.time() - start_time \n",
    "    print('Epoch {}/{} \\t loss={:.4f} \\t time={:.2f}s'.format(\n",
    "        epoch + 1, n_epochs, avg_loss, elapsed_time))\n",
    "    \n",
    "    avg_losses_f.append(avg_loss)    \n",
    "    \n",
    "print('All \\t loss={:.4f} \\t '.format(np.average(avg_losses_f)))"
   ]
  },
  {
   "cell_type": "code",
   "execution_count": 185,
   "metadata": {},
   "outputs": [
    {
     "data": {
      "image/png": "[encoded data removed]",
      "text/plain": [
       "<Figure size 432x288 with 1 Axes>"
      ]
     },
     "metadata": {
      "needs_background": "light"
     },
     "output_type": "display_data"
    }
   ],
   "source": [
    "import matplotlib.pyplot as plt\n",
    "\n",
    "plt.plot(avg_losses_f)\n",
    "plt.xlabel('Epoch')\n",
    "plt.ylabel('Loss value')\n",
    "plt.show()"
   ]
  },
  {
   "cell_type": "code",
   "execution_count": 186,
   "metadata": {},
   "outputs": [],
   "source": [
    "def sample(preds, temperature=1.0):\n",
    "    preds = np.asarray(preds).astype('float64')\n",
    "    preds = np.log(preds) / temperature\n",
    "    exp_preds = np.exp(preds)\n",
    "    preds = exp_preds / np.sum(exp_preds)\n",
    "    probas = np.random.multinomial(1, preds, 1)\n",
    "    return np.argmax(probas)"
   ]
  },
  {
   "cell_type": "code",
   "execution_count": 188,
   "metadata": {},
   "outputs": [
    {
     "name": "stdout",
     "output_type": "stream",
     "text": [
      "i remember dad walking out that door \n",
      " but i know the power of a song when you would have to try \n",
      " he's not someone from the scene \n",
      " but from the crowd let me rest and dream awhile say be home \n",
      " and shows my lady down the moon \n",
      " he took her off the block take \n",
      " put a little love in your heart each and every love you say \n",
      " id walk in home \n",
      " chorus \n",
      " now just just love that goodbye old friend farewell it took \n",
      " but when you hold me when you punch that way \n",
      " when i know the power of a song \n",
      " when a song hits you right \n",
      " poured my soul into stories of day \n",
      " when i truck on your tombstone \n",
      " one thing that i would \n",
      " do my happiness for me \n",
      " next good love makes you leave \n",
      " raise some hell or hit your knees \n",
      " all i love you and i know why i said \n",
      " i wanna know \n",
      " if i could have you back again \n",
      " time when i don't want \n",
      " goodbye old friend farewell it seems \n",
      " we'll dance again in my dreams \n",
      " goodbye old friend farewell it seems \n",
      " we'll dance again in my dreams \n",
      " goodbye old friend farewell it seems \n",
      " we'll dance again in my dreams \n",
      " goodbye old friend farewell it seems \n",
      " we'll dance again in my dreams \n",
      " goodbye old friend farewell it seems \n",
      " we'll dance again in my dreams \n",
      " goodbye old friend farewell it seems \n",
      " we'll dance again in my dreams \n",
      " goodbye old rig has touched me to go \n",
      " nobody else can you know \n",
      " so please let me rest and more my name and i was on \n",
      " i don't want the money i just want any until the time \n",
      " my head sings and the constellation \n",
      " from now on the year drumbeat \n",
      " the sound of a million dreams \n",
      " straight up strong and steady \n",
      " hard falls i don't take any \n",
      " red lips you'll be leaving \n",
      " goodbye old friend farewell it seems \n",
      " we'll dance again in my dreams \n",
      " goodbye old friend farewell it seems \n",
      " we'll dance again in my dreams \n",
      " goodbye old friend farewell it seems \n",
      " we'll dance again in my dreams \n",
      " goodbye old friend farewell it seems \n",
      " we'll dance again in\n"
     ]
    }
   ],
   "source": [
    "# Define the start sentence\n",
    "# sentence = 'i read in the news\\nthat the average man\\nplease kis'\n",
    "sentence = [\"i\", \"remember\", \"dad\", \"walking\", \"out\", \"that\", \"door\", \"\\n\", \"but\", \"i\"]\n",
    "variance = .5\n",
    "generated = []\n",
    "original = sentence\n",
    "window = sentence\n",
    "\n",
    "for i in range(400):\n",
    "    x = np.zeros((1, seq_length))\n",
    "    for t, char in enumerate(window):\n",
    "        x[0, t] = char_to_int[char] # Change the sentence to index vector shape (1,50)\n",
    "        \n",
    "    x_in = Variable(torch.LongTensor(x))\n",
    "    pred = model(x_in)\n",
    "    pred = np.array(F.softmax(pred, dim=1).data[0].cpu())\n",
    "    next_index = sample(pred, variance)\n",
    "    next_char = int_to_char[next_index] # index to char\n",
    "\n",
    "    generated = generated + [next_char]\n",
    "    window = window[1:] + [next_char] # Update Window for next char predict\n",
    "    \n",
    "print(\" \".join(original + generated))"
   ]
  },
  {
   "cell_type": "code",
   "execution_count": null,
   "metadata": {},
   "outputs": [],
   "source": []
  }
 ],
 "metadata": {
  "kernelspec": {
   "display_name": "Python 3",
   "language": "python",
   "name": "python3"
  },
  "language_info": {
   "codemirror_mode": {
    "name": "ipython",
    "version": 3
   },
   "file_extension": ".py",
   "mimetype": "text/x-python",
   "name": "python",
   "nbconvert_exporter": "python",
   "pygments_lexer": "ipython3",
   "version": "3.7.4"
  }
 },
 "nbformat": 4,
 "nbformat_minor": 2
}

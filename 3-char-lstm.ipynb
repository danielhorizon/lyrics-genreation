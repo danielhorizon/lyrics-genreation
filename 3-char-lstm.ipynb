{
 "cells": [
  {
   "cell_type": "code",
   "execution_count": 1,
   "metadata": {},
   "outputs": [],
   "source": [
    "import pandas as pd \n",
    "import numpy as np \n",
    "# https://github.com/petrosDemetrakopoulos/RNN-Beatles-lyrics-generator\n",
    "# https://github.com/starry91/Lyric-Generator#2-lyric-generator-based-on-word-level-rnn"
   ]
  },
  {
   "cell_type": "markdown",
   "metadata": {},
   "source": [
    "Training our LSTM (word-level) for the rap genre. "
   ]
  },
  {
   "cell_type": "code",
   "execution_count": 2,
   "metadata": {},
   "outputs": [
    {
     "data": {
      "text/html": [
       "<div>\n",
       "<style scoped>\n",
       "    .dataframe tbody tr th:only-of-type {\n",
       "        vertical-align: middle;\n",
       "    }\n",
       "\n",
       "    .dataframe tbody tr th {\n",
       "        vertical-align: top;\n",
       "    }\n",
       "\n",
       "    .dataframe thead th {\n",
       "        text-align: right;\n",
       "    }\n",
       "</style>\n",
       "<table border=\"1\" class=\"dataframe\">\n",
       "  <thead>\n",
       "    <tr style=\"text-align: right;\">\n",
       "      <th></th>\n",
       "      <th>artist</th>\n",
       "      <th>genre</th>\n",
       "      <th>title</th>\n",
       "      <th>lyrics</th>\n",
       "      <th>t-lyric</th>\n",
       "    </tr>\n",
       "  </thead>\n",
       "  <tbody>\n",
       "    <tr>\n",
       "      <th>0</th>\n",
       "      <td>beyonce-knowles</td>\n",
       "      <td>Pop</td>\n",
       "      <td>ego remix</td>\n",
       "      <td>oh baby how you doing?\\nyou know i'm gonna cut...</td>\n",
       "      <td>['ego', 'remix', '@@@', 'oh', 'baby', 'how', '...</td>\n",
       "    </tr>\n",
       "    <tr>\n",
       "      <th>1</th>\n",
       "      <td>beyonce-knowles</td>\n",
       "      <td>Pop</td>\n",
       "      <td>then tell me</td>\n",
       "      <td>playin' everything so easy\\nit's like you seem...</td>\n",
       "      <td>['then', 'tell', 'me', '@@@', \"playin'\", 'ever...</td>\n",
       "    </tr>\n",
       "    <tr>\n",
       "      <th>2</th>\n",
       "      <td>beyonce-knowles</td>\n",
       "      <td>Pop</td>\n",
       "      <td>honesty</td>\n",
       "      <td>if you search\\nfor tenderness\\nit isn't hard t...</td>\n",
       "      <td>['honesty', '@@@', 'if', 'you', 'search\\nfor',...</td>\n",
       "    </tr>\n",
       "    <tr>\n",
       "      <th>3</th>\n",
       "      <td>beyonce-knowles</td>\n",
       "      <td>Pop</td>\n",
       "      <td>you are my rock</td>\n",
       "      <td>oh oh oh i oh oh oh i\\nverse 1:\\nif i wrote a ...</td>\n",
       "      <td>['you', 'are', 'my', 'rock', '@@@', 'oh', 'oh'...</td>\n",
       "    </tr>\n",
       "    <tr>\n",
       "      <th>4</th>\n",
       "      <td>beyonce-knowles</td>\n",
       "      <td>Pop</td>\n",
       "      <td>black culture</td>\n",
       "      <td>party the people the people the party it's pop...</td>\n",
       "      <td>['black', 'culture', '@@@', 'party', 'the', 'p...</td>\n",
       "    </tr>\n",
       "  </tbody>\n",
       "</table>\n",
       "</div>"
      ],
      "text/plain": [
       "            artist genre            title  \\\n",
       "0  beyonce-knowles   Pop        ego remix   \n",
       "1  beyonce-knowles   Pop     then tell me   \n",
       "2  beyonce-knowles   Pop          honesty   \n",
       "3  beyonce-knowles   Pop  you are my rock   \n",
       "4  beyonce-knowles   Pop    black culture   \n",
       "\n",
       "                                              lyrics  \\\n",
       "0  oh baby how you doing?\\nyou know i'm gonna cut...   \n",
       "1  playin' everything so easy\\nit's like you seem...   \n",
       "2  if you search\\nfor tenderness\\nit isn't hard t...   \n",
       "3  oh oh oh i oh oh oh i\\nverse 1:\\nif i wrote a ...   \n",
       "4  party the people the people the party it's pop...   \n",
       "\n",
       "                                             t-lyric  \n",
       "0  ['ego', 'remix', '@@@', 'oh', 'baby', 'how', '...  \n",
       "1  ['then', 'tell', 'me', '@@@', \"playin'\", 'ever...  \n",
       "2  ['honesty', '@@@', 'if', 'you', 'search\\nfor',...  \n",
       "3  ['you', 'are', 'my', 'rock', '@@@', 'oh', 'oh'...  \n",
       "4  ['black', 'culture', '@@@', 'party', 'the', 'p...  "
      ]
     },
     "execution_count": 2,
     "metadata": {},
     "output_type": "execute_result"
    }
   ],
   "source": [
    "data = pd.read_csv(\"master-process-data.csv\")\n",
    "del data['Unnamed: 0']\n",
    "data.head()"
   ]
  },
  {
   "cell_type": "code",
   "execution_count": 3,
   "metadata": {},
   "outputs": [
    {
     "data": {
      "text/html": [
       "<div>\n",
       "<style scoped>\n",
       "    .dataframe tbody tr th:only-of-type {\n",
       "        vertical-align: middle;\n",
       "    }\n",
       "\n",
       "    .dataframe tbody tr th {\n",
       "        vertical-align: top;\n",
       "    }\n",
       "\n",
       "    .dataframe thead th {\n",
       "        text-align: right;\n",
       "    }\n",
       "</style>\n",
       "<table border=\"1\" class=\"dataframe\">\n",
       "  <thead>\n",
       "    <tr style=\"text-align: right;\">\n",
       "      <th></th>\n",
       "      <th>artist</th>\n",
       "      <th>genre</th>\n",
       "      <th>title</th>\n",
       "      <th>lyrics</th>\n",
       "      <th>t-lyric</th>\n",
       "    </tr>\n",
       "  </thead>\n",
       "  <tbody>\n",
       "    <tr>\n",
       "      <th>0</th>\n",
       "      <td>beyonce-knowles</td>\n",
       "      <td>Pop</td>\n",
       "      <td>ego remix</td>\n",
       "      <td>oh baby how you doing?\\nyou know i'm gonna cut...</td>\n",
       "      <td>ego remix @@@ oh baby how you doing?\\nyou know...</td>\n",
       "    </tr>\n",
       "    <tr>\n",
       "      <th>1</th>\n",
       "      <td>beyonce-knowles</td>\n",
       "      <td>Pop</td>\n",
       "      <td>then tell me</td>\n",
       "      <td>playin' everything so easy\\nit's like you seem...</td>\n",
       "      <td>then tell me @@@ playin' everything so easy\\ni...</td>\n",
       "    </tr>\n",
       "    <tr>\n",
       "      <th>2</th>\n",
       "      <td>beyonce-knowles</td>\n",
       "      <td>Pop</td>\n",
       "      <td>honesty</td>\n",
       "      <td>if you search\\nfor tenderness\\nit isn't hard t...</td>\n",
       "      <td>honesty @@@ if you search\\nfor tenderness\\nit ...</td>\n",
       "    </tr>\n",
       "    <tr>\n",
       "      <th>3</th>\n",
       "      <td>beyonce-knowles</td>\n",
       "      <td>Pop</td>\n",
       "      <td>you are my rock</td>\n",
       "      <td>oh oh oh i oh oh oh i\\nverse 1:\\nif i wrote a ...</td>\n",
       "      <td>you are my rock @@@ oh oh oh i oh oh oh i\\nver...</td>\n",
       "    </tr>\n",
       "    <tr>\n",
       "      <th>4</th>\n",
       "      <td>beyonce-knowles</td>\n",
       "      <td>Pop</td>\n",
       "      <td>black culture</td>\n",
       "      <td>party the people the people the party it's pop...</td>\n",
       "      <td>black culture @@@ party the people the people ...</td>\n",
       "    </tr>\n",
       "  </tbody>\n",
       "</table>\n",
       "</div>"
      ],
      "text/plain": [
       "            artist genre            title  \\\n",
       "0  beyonce-knowles   Pop        ego remix   \n",
       "1  beyonce-knowles   Pop     then tell me   \n",
       "2  beyonce-knowles   Pop          honesty   \n",
       "3  beyonce-knowles   Pop  you are my rock   \n",
       "4  beyonce-knowles   Pop    black culture   \n",
       "\n",
       "                                              lyrics  \\\n",
       "0  oh baby how you doing?\\nyou know i'm gonna cut...   \n",
       "1  playin' everything so easy\\nit's like you seem...   \n",
       "2  if you search\\nfor tenderness\\nit isn't hard t...   \n",
       "3  oh oh oh i oh oh oh i\\nverse 1:\\nif i wrote a ...   \n",
       "4  party the people the people the party it's pop...   \n",
       "\n",
       "                                             t-lyric  \n",
       "0  ego remix @@@ oh baby how you doing?\\nyou know...  \n",
       "1  then tell me @@@ playin' everything so easy\\ni...  \n",
       "2  honesty @@@ if you search\\nfor tenderness\\nit ...  \n",
       "3  you are my rock @@@ oh oh oh i oh oh oh i\\nver...  \n",
       "4  black culture @@@ party the people the people ...  "
      ]
     },
     "execution_count": 3,
     "metadata": {},
     "output_type": "execute_result"
    }
   ],
   "source": [
    "data['t-lyric'] = data['title'] + \" @@@ \" + data['lyrics']\n",
    "data['t-lyric'] = data['t-lyric'].str.lower()\n",
    "data.head()"
   ]
  },
  {
   "cell_type": "code",
   "execution_count": 4,
   "metadata": {},
   "outputs": [],
   "source": [
    "stopChars = [',','(',')','.','-','[',']','\"']\n",
    "# preprocessing the corpus by converting all letters to lowercase, \n",
    "# replacing blank lines with blank string and removing special characters\n",
    "def preprocessText(text):\n",
    "#     text = text.replace('\\n', ' ').replace('\\t','')\n",
    "    processedText = text.lower()\n",
    "    for char in stopChars:\n",
    "        processedText = processedText.replace(char,'')\n",
    "    return processedText\n",
    "data['t-lyric'] = data['t-lyric'].astype(str)\n",
    "data['t-lyric'] = data['t-lyric'].apply(preprocessText)"
   ]
  },
  {
   "cell_type": "code",
   "execution_count": 5,
   "metadata": {},
   "outputs": [],
   "source": [
    "# tokenization \n",
    "def corpusToList(corpus):\n",
    "    corpusList = [w for w in corpus.split(' ')] \n",
    "    corpusList = [i for i in corpusList if i] #removing empty strings from list\n",
    "    return corpusList\n",
    "data['t-lyric'] = data['t-lyric'].apply(corpusToList)"
   ]
  },
  {
   "cell_type": "code",
   "execution_count": 6,
   "metadata": {},
   "outputs": [
    {
     "data": {
      "text/html": [
       "<div>\n",
       "<style scoped>\n",
       "    .dataframe tbody tr th:only-of-type {\n",
       "        vertical-align: middle;\n",
       "    }\n",
       "\n",
       "    .dataframe tbody tr th {\n",
       "        vertical-align: top;\n",
       "    }\n",
       "\n",
       "    .dataframe thead th {\n",
       "        text-align: right;\n",
       "    }\n",
       "</style>\n",
       "<table border=\"1\" class=\"dataframe\">\n",
       "  <thead>\n",
       "    <tr style=\"text-align: right;\">\n",
       "      <th></th>\n",
       "      <th>artist</th>\n",
       "      <th>genre</th>\n",
       "      <th>title</th>\n",
       "      <th>lyrics</th>\n",
       "      <th>t-lyric</th>\n",
       "    </tr>\n",
       "  </thead>\n",
       "  <tbody>\n",
       "    <tr>\n",
       "      <th>0</th>\n",
       "      <td>beyonce-knowles</td>\n",
       "      <td>Pop</td>\n",
       "      <td>ego remix</td>\n",
       "      <td>oh baby how you doing?\\nyou know i'm gonna cut...</td>\n",
       "      <td>[ego, remix, @@@, oh, baby, how, you, doing?\\n...</td>\n",
       "    </tr>\n",
       "    <tr>\n",
       "      <th>1</th>\n",
       "      <td>beyonce-knowles</td>\n",
       "      <td>Pop</td>\n",
       "      <td>then tell me</td>\n",
       "      <td>playin' everything so easy\\nit's like you seem...</td>\n",
       "      <td>[then, tell, me, @@@, playin', everything, so,...</td>\n",
       "    </tr>\n",
       "    <tr>\n",
       "      <th>2</th>\n",
       "      <td>beyonce-knowles</td>\n",
       "      <td>Pop</td>\n",
       "      <td>honesty</td>\n",
       "      <td>if you search\\nfor tenderness\\nit isn't hard t...</td>\n",
       "      <td>[honesty, @@@, if, you, search\\nfor, tendernes...</td>\n",
       "    </tr>\n",
       "    <tr>\n",
       "      <th>3</th>\n",
       "      <td>beyonce-knowles</td>\n",
       "      <td>Pop</td>\n",
       "      <td>you are my rock</td>\n",
       "      <td>oh oh oh i oh oh oh i\\nverse 1:\\nif i wrote a ...</td>\n",
       "      <td>[you, are, my, rock, @@@, oh, oh, oh, i, oh, o...</td>\n",
       "    </tr>\n",
       "    <tr>\n",
       "      <th>4</th>\n",
       "      <td>beyonce-knowles</td>\n",
       "      <td>Pop</td>\n",
       "      <td>black culture</td>\n",
       "      <td>party the people the people the party it's pop...</td>\n",
       "      <td>[black, culture, @@@, party, the, people, the,...</td>\n",
       "    </tr>\n",
       "  </tbody>\n",
       "</table>\n",
       "</div>"
      ],
      "text/plain": [
       "            artist genre            title  \\\n",
       "0  beyonce-knowles   Pop        ego remix   \n",
       "1  beyonce-knowles   Pop     then tell me   \n",
       "2  beyonce-knowles   Pop          honesty   \n",
       "3  beyonce-knowles   Pop  you are my rock   \n",
       "4  beyonce-knowles   Pop    black culture   \n",
       "\n",
       "                                              lyrics  \\\n",
       "0  oh baby how you doing?\\nyou know i'm gonna cut...   \n",
       "1  playin' everything so easy\\nit's like you seem...   \n",
       "2  if you search\\nfor tenderness\\nit isn't hard t...   \n",
       "3  oh oh oh i oh oh oh i\\nverse 1:\\nif i wrote a ...   \n",
       "4  party the people the people the party it's pop...   \n",
       "\n",
       "                                             t-lyric  \n",
       "0  [ego, remix, @@@, oh, baby, how, you, doing?\\n...  \n",
       "1  [then, tell, me, @@@, playin', everything, so,...  \n",
       "2  [honesty, @@@, if, you, search\\nfor, tendernes...  \n",
       "3  [you, are, my, rock, @@@, oh, oh, oh, i, oh, o...  \n",
       "4  [black, culture, @@@, party, the, people, the,...  "
      ]
     },
     "execution_count": 6,
     "metadata": {},
     "output_type": "execute_result"
    }
   ],
   "source": [
    "data.head()"
   ]
  },
  {
   "cell_type": "code",
   "execution_count": 7,
   "metadata": {},
   "outputs": [
    {
     "data": {
      "text/plain": [
       "<map at 0x21876ad10>"
      ]
     },
     "execution_count": 7,
     "metadata": {},
     "output_type": "execute_result"
    }
   ],
   "source": [
    "# trim each word for leading or trailing spaces / tabs.\n",
    "map(str.strip, data['t-lyric']) # trim words"
   ]
  },
  {
   "cell_type": "code",
   "execution_count": 8,
   "metadata": {},
   "outputs": [
    {
     "data": {
      "text/html": [
       "<div>\n",
       "<style scoped>\n",
       "    .dataframe tbody tr th:only-of-type {\n",
       "        vertical-align: middle;\n",
       "    }\n",
       "\n",
       "    .dataframe tbody tr th {\n",
       "        vertical-align: top;\n",
       "    }\n",
       "\n",
       "    .dataframe thead th {\n",
       "        text-align: right;\n",
       "    }\n",
       "</style>\n",
       "<table border=\"1\" class=\"dataframe\">\n",
       "  <thead>\n",
       "    <tr style=\"text-align: right;\">\n",
       "      <th></th>\n",
       "      <th>artist</th>\n",
       "      <th>genre</th>\n",
       "      <th>title</th>\n",
       "      <th>lyrics</th>\n",
       "      <th>t-lyric</th>\n",
       "    </tr>\n",
       "  </thead>\n",
       "  <tbody>\n",
       "    <tr>\n",
       "      <th>0</th>\n",
       "      <td>beyonce-knowles</td>\n",
       "      <td>Pop</td>\n",
       "      <td>ego remix</td>\n",
       "      <td>oh baby how you doing?\\nyou know i'm gonna cut...</td>\n",
       "      <td>[ego, remix, @@@, oh, baby, how, you, doing?\\n...</td>\n",
       "    </tr>\n",
       "    <tr>\n",
       "      <th>1</th>\n",
       "      <td>beyonce-knowles</td>\n",
       "      <td>Pop</td>\n",
       "      <td>then tell me</td>\n",
       "      <td>playin' everything so easy\\nit's like you seem...</td>\n",
       "      <td>[then, tell, me, @@@, playin', everything, so,...</td>\n",
       "    </tr>\n",
       "    <tr>\n",
       "      <th>2</th>\n",
       "      <td>beyonce-knowles</td>\n",
       "      <td>Pop</td>\n",
       "      <td>honesty</td>\n",
       "      <td>if you search\\nfor tenderness\\nit isn't hard t...</td>\n",
       "      <td>[honesty, @@@, if, you, search\\nfor, tendernes...</td>\n",
       "    </tr>\n",
       "    <tr>\n",
       "      <th>3</th>\n",
       "      <td>beyonce-knowles</td>\n",
       "      <td>Pop</td>\n",
       "      <td>you are my rock</td>\n",
       "      <td>oh oh oh i oh oh oh i\\nverse 1:\\nif i wrote a ...</td>\n",
       "      <td>[you, are, my, rock, @@@, oh, oh, oh, i, oh, o...</td>\n",
       "    </tr>\n",
       "    <tr>\n",
       "      <th>4</th>\n",
       "      <td>beyonce-knowles</td>\n",
       "      <td>Pop</td>\n",
       "      <td>black culture</td>\n",
       "      <td>party the people the people the party it's pop...</td>\n",
       "      <td>[black, culture, @@@, party, the, people, the,...</td>\n",
       "    </tr>\n",
       "  </tbody>\n",
       "</table>\n",
       "</div>"
      ],
      "text/plain": [
       "            artist genre            title  \\\n",
       "0  beyonce-knowles   Pop        ego remix   \n",
       "1  beyonce-knowles   Pop     then tell me   \n",
       "2  beyonce-knowles   Pop          honesty   \n",
       "3  beyonce-knowles   Pop  you are my rock   \n",
       "4  beyonce-knowles   Pop    black culture   \n",
       "\n",
       "                                              lyrics  \\\n",
       "0  oh baby how you doing?\\nyou know i'm gonna cut...   \n",
       "1  playin' everything so easy\\nit's like you seem...   \n",
       "2  if you search\\nfor tenderness\\nit isn't hard t...   \n",
       "3  oh oh oh i oh oh oh i\\nverse 1:\\nif i wrote a ...   \n",
       "4  party the people the people the party it's pop...   \n",
       "\n",
       "                                             t-lyric  \n",
       "0  [ego, remix, @@@, oh, baby, how, you, doing?\\n...  \n",
       "1  [then, tell, me, @@@, playin', everything, so,...  \n",
       "2  [honesty, @@@, if, you, search\\nfor, tendernes...  \n",
       "3  [you, are, my, rock, @@@, oh, oh, oh, i, oh, o...  \n",
       "4  [black, culture, @@@, party, the, people, the,...  "
      ]
     },
     "execution_count": 8,
     "metadata": {},
     "output_type": "execute_result"
    }
   ],
   "source": [
    "data.head()"
   ]
  },
  {
   "cell_type": "code",
   "execution_count": 9,
   "metadata": {},
   "outputs": [
    {
     "name": "stdout",
     "output_type": "stream",
     "text": [
      "vocab length: 67263415\n",
      "Unique words in corpus: 3274867\n"
     ]
    }
   ],
   "source": [
    "corpus_words = [x for sublist in data['t-lyric'] for x in sublist]\n",
    "vocab = sorted(set(corpus_words))\n",
    "print('vocab length:', len(corpus_words))\n",
    "print('Unique words in corpus: {}'.format(len(vocab)))"
   ]
  },
  {
   "cell_type": "code",
   "execution_count": 10,
   "metadata": {},
   "outputs": [],
   "source": [
    "# creating numeric map; representing words with numberes \n",
    "# map specific number to each specific word of our corpus, and vice versa \n",
    "word2idx = {u: i for i, u in enumerate(vocab)}\n",
    "idx2words = np.array(vocab)\n",
    "word_as_int = np.array([word2idx[c] for c in corpus_words])"
   ]
  },
  {
   "cell_type": "markdown",
   "metadata": {},
   "source": [
    "## Prediction"
   ]
  },
  {
   "cell_type": "markdown",
   "metadata": {},
   "source": [
    "- User inputs a song title, and how many words they want the song to be. \n",
    "- Network does, for example, 100 predictions, and in the training phrase we know what word we need to generate. \n",
    "- (genre, song title); have a marker that it's the end of the title "
   ]
  },
  {
   "cell_type": "markdown",
   "metadata": {},
   "source": [
    "## Character Level LSTM"
   ]
  },
  {
   "cell_type": "markdown",
   "metadata": {},
   "source": [
    "Attempting a character level-RNN for a single genre\n",
    "https://www.kaggle.com/super13579/let-s-auto-write-the-deep-purple-lysics-pytorch"
   ]
  },
  {
   "cell_type": "code",
   "execution_count": 11,
   "metadata": {},
   "outputs": [
    {
     "name": "stdout",
     "output_type": "stream",
     "text": [
      "   Unnamed: 0           artist genre            title  \\\n",
      "0           0  beyonce-knowles   Pop        ego remix   \n",
      "1           1  beyonce-knowles   Pop     then tell me   \n",
      "2           2  beyonce-knowles   Pop          honesty   \n",
      "3           3  beyonce-knowles   Pop  you are my rock   \n",
      "4           4  beyonce-knowles   Pop    black culture   \n",
      "\n",
      "                                              lyrics  \\\n",
      "0  oh baby how you doing?\\nyou know i'm gonna cut...   \n",
      "1  playin' everything so easy\\nit's like you seem...   \n",
      "2  if you search\\nfor tenderness\\nit isn't hard t...   \n",
      "3  oh oh oh i oh oh oh i\\nverse 1:\\nif i wrote a ...   \n",
      "4  party the people the people the party it's pop...   \n",
      "\n",
      "                                             t-lyric  \n",
      "0  ['ego', 'remix', '@@@', 'oh', 'baby', 'how', '...  \n",
      "1  ['then', 'tell', 'me', '@@@', \"playin'\", 'ever...  \n",
      "2  ['honesty', '@@@', 'if', 'you', 'search\\nfor',...  \n",
      "3  ['you', 'are', 'my', 'rock', '@@@', 'oh', 'oh'...  \n",
      "4  ['black', 'culture', '@@@', 'party', 'the', 'p...  \n"
     ]
    }
   ],
   "source": [
    "data1 = pd.read_csv(\"master-process-data.csv\")\n",
    "data1['lyrics'] = data1['lyrics'].astype(str)\n",
    "data1['lyrics']= data1['lyrics'].apply(preprocessText)\n",
    "data1['t-lyric'] = data1['t-lyric'].astype(str)\n",
    "print(data1.head())"
   ]
  },
  {
   "cell_type": "code",
   "execution_count": 12,
   "metadata": {},
   "outputs": [],
   "source": [
    "data1.head()\n",
    "del data1['Unnamed: 0']"
   ]
  },
  {
   "cell_type": "code",
   "execution_count": 13,
   "metadata": {},
   "outputs": [
    {
     "name": "stdout",
     "output_type": "stream",
     "text": [
      "corpus length: 382842506\n"
     ]
    }
   ],
   "source": [
    "DP_text = data1['lyrics'].str.cat(sep='\\n').lower()\n",
    "print('corpus length:', len(DP_text))"
   ]
  },
  {
   "cell_type": "code",
   "execution_count": 14,
   "metadata": {},
   "outputs": [
    {
     "name": "stdout",
     "output_type": "stream",
     "text": [
      "['\\x01', '\\x02', '\\x03', '\\x04', '\\x05', '\\x06', '\\x07', '\\x08', '\\t', '\\n', '\\x0b', '\\x0c', '\\r', '\\x0e', '\\x0f', '\\x10', '\\x11', '\\x12', '\\x13', '\\x14', '\\x15', '\\x16', '\\x17', '\\x18', '\\x19', '\\x1a', '\\x1b', '\\x1c', '\\x1d', '\\x1e', '\\x1f', ' ', '!', '#', '$', '%', '&', \"'\", '*', '+', '/', '0', '1', '2', '3', '4', '5', '6', '7', '8', '9', ':', ';', '<', '=', '>', '?', '@', '\\\\', '^', '_', '`', 'a', 'b', 'c', 'd', 'e', 'f', 'g', 'h', 'i', 'j', 'k', 'l', 'm', 'n', 'o', 'p', 'q', 'r', 's', 't', 'u', 'v', 'w', 'x', 'y', 'z', '{', '|', '}', '~', '\\x7f', '\\x80', '\\x81', '\\x82', '\\x83', '\\x84', '\\x85', '\\x86', '\\x87', '\\x88', '\\x89', '\\x8a', '\\x8b', '\\x8c', '\\x8d', '\\x8e', '\\x8f', '\\x90', '\\x91', '\\x92', '\\x93', '\\x94', '\\x95', '\\x96', '\\x97', '\\x98', '\\x99', '\\x9a', '\\x9b', '\\x9c', '\\x9d', '\\x9e', '\\x9f', '\\xa0', '¡', '¢', '£', '¤', '¥', '¦', '§', '¨', '©', 'ª', '«', '¬', '\\xad', '®', '¯', '°', '±', '²', '³', '´', 'µ', '¶', '·', '¸', '¹', 'º', '»', '¼', '½', '¾', '¿', '×', 'ß', 'à', 'á', 'â', 'ã', 'ä', 'å', 'æ', 'ç', 'è', 'é', 'ê', 'ë', 'ì', 'í', 'î', 'ï', 'ð', 'ñ', 'ò', 'ó', 'ô', 'õ', 'ö', 'ø', 'ù', 'ú', 'û', 'ü', 'ý', 'þ', 'ā', 'ă', 'ą', 'ć', 'č', 'ē', 'ė', 'ę', 'ě', 'ğ', 'ģ', 'ī', 'į', 'ı', 'ł', 'ń', 'ņ', 'ō', 'ő', 'œ', 'ř', 'ś', 'ş', 'š', 'ū', 'ų', 'ź', 'ż', 'ž', 'ǎ', 'ǐ', 'ǔ', 'ɔ', 'ɛ', 'ɲ', 'ʻ', 'ʼ', 'ˆ', '˜', '́', '̇', 'ι', 'а', 'б', 'в', 'г', 'д', 'е', 'ж', 'з', 'и', 'й', 'к', 'л', 'м', 'н', 'о', 'п', 'р', 'с', 'т', 'у', 'ф', 'х', 'ц', 'ч', 'ш', 'щ', 'ы', 'ь', 'э', 'ю', 'я', 'ё', 'ґ', 'א', 'ב', 'ג', 'ד', 'ה', 'ו', 'ז', 'ח', 'ט', 'י', 'ך', 'כ', 'ל', 'ם', 'מ', 'ן', 'נ', 'ס', 'ע', 'ף', 'פ', 'צ', 'ק', 'ר', 'ש', 'ת', '،', 'أ', 'ئ', 'ا', 'ب', 'ة', 'ت', 'ث', 'ج', 'ح', 'خ', 'د', 'ذ', 'ر', 'ز', 'س', 'ش', 'ص', 'ض', 'ط', 'ظ', 'ع', 'غ', 'ف', 'ق', 'ك', 'ل', 'م', 'ن', 'ه', 'و', 'ى', 'ي', 'ِ', 'پ', 'چ', 'ک', 'گ', 'ۀ', 'ی', 'ँ', 'आ', 'ए', 'क', 'ग', 'ज', 'त', 'द', 'ध', 'न', 'प', 'ब', 'म', 'य', 'र', 'व', 'श', 'ह', 'ा', 'ि', 'ी', 'ू', 'े', 'ै', 'ो', '्', 'ḥ', 'ṗ', '\\u2005', '\\u200a', '\\u200b', '\\u200c', '\\u200e', '‒', '–', '—', '―', '‘', '’', '‚', '“', '”', '„', '‡', '•', '…', '\\u2028', '‰', '′', '‼', '\\u205f', '\\u2060', '₂', '€', '℗', '™', '↗', '∆', '−', '∞', '∧', '≠', '▽', '♫', '⚄', '\\u3000', '、', '。', '々', '「', '」', 'ぁ', 'あ', 'い', 'う', 'ぇ', 'え', 'お', 'か', 'が', 'き', 'ぎ', 'く', 'ぐ', 'け', 'げ', 'こ', 'ご', 'さ', 'ざ', 'し', 'じ', 'す', 'ず', 'せ', 'ぜ', 'そ', 'ぞ', 'た', 'だ', 'ち', 'っ', 'つ', 'づ', 'て', 'で', 'と', 'ど', 'な', 'に', 'ぬ', 'ね', 'の', 'は', 'ば', 'ひ', 'び', 'ぴ', 'ふ', 'ぶ', 'へ', 'べ', 'ほ', 'ぼ', 'ぽ', 'ま', 'み', 'む', 'め', 'も', 'ゃ', 'や', 'ゆ', 'ょ', 'よ', 'ら', 'り', 'る', 'れ', 'ろ', 'わ', 'を', 'ん', 'ァ', 'ア', 'ィ', 'イ', 'ウ', 'ェ', 'エ', 'オ', 'カ', 'ガ', 'キ', 'ク', 'グ', 'ケ', 'ゲ', 'コ', 'ゴ', 'サ', 'ザ', 'シ', 'ジ', 'ス', 'ズ', 'セ', 'ソ', 'タ', 'ダ', 'チ', 'ッ', 'ツ', 'テ', 'デ', 'ト', 'ド', 'ナ', 'ニ', 'ネ', 'ノ', 'ハ', 'バ', 'パ', 'ヒ', 'ビ', 'ピ', 'フ', 'ブ', 'プ', 'ベ', 'ペ', 'ホ', 'ボ', 'ポ', 'マ', 'ミ', 'ム', 'メ', 'モ', 'ャ', 'ヤ', 'ユ', 'ョ', 'ヨ', 'ラ', 'リ', 'ル', 'レ', 'ロ', 'ワ', 'ン', 'ー', '一', '万', '丈', '上', '下', '不', '与', '世', '丘', '並', '个', '中', '串', '丸', '主', '丽', '乏', '乗', '也', '乱', '了', '予', '事', '二', '些', '交', '产', '亮', '人', '什', '今', '仕', '他', '付', '代', '以', '们', '伏', '会', '伝', '伸', '似', '伽', '位', '住', '体', '何', '余', '作', '你', '使', '來', '例', '依', '価', '侵', '係', '保', '信', '俯', '個', '們', '倒', '倣', '値', '倶', '偉', '做', '停', '側', '偶', '偽', '傘', '備', '傷', '像', '僕', '億', '儘', '償', '優', '元', '兆', '先', '光', '兔', '入', '全', '八', '共', '其', '典', '内', '円', '军', '冠', '冷', '准', '凌', '処', '凪', '出', '分', '切', '列', '初', '別', '利', '到', '制', '刹', '刺', '刻', '削', '前', '剥', '剰', '割', '創', '加', '动', '助', '勇', '動', '勘', '勝', '募', '勢', '匂', '包', '化', '千', '午', '協', '単', '危', '去', '参', '又', '友', '取', '受', '口', '句', '只', '叫', '召', '可', '史', '右', '叶', '合', '吊', '同', '名', '吐', '向', '吗', '君', '否', '听', '吸', '吹', '告', '呟', '周', '呪', '味', '呼', '命', '和', '咲', '哀', '員', '唄', '唇', '唯', '問', '善', '喜', '喪', '單', '嘆', '嘘', '嘲', '噛', '器', '囁', '囚', '四', '回', '囲', '図', '国', '圈', '在', '地', '坦', '型', '埋', '執', '堅', '堕', '堪', '場', '塗', '塞', '境', '増', '壁', '壊', '士', '声', '备', '変', '夕', '外', '多', '夜', '夠', '夢', '大', '天', '太', '夫', '失', '头', '奇', '奈', '奏', '契', '奥', '奪', '奮', '女', '奴', '她', '好', '妄', '妖', '妨', '始', '姑', '委', '姿', '娘', '媚', '嫌', '嬉', '子', '孔', '存', '孤', '宇', '守', '安', '完', '宙', '定', '宛', '宝', '実', '宣', '害', '家', '宿', '寄', '密', '富', '察', '實', '対', '封', '射', '尋', '小', '少', '尖', '就', '尽', '局', '居', '屈', '届', '展', '層', '山', '島', '崩', '嵌', '嵐', '巡', '巨', '差', '己', '巻', '希', '帐', '帰', '帶', '常', '帽', '平', '年', '幸', '幻', '幼', '広', '序', '底', '度', '廻', '弃', '引', '张', '弱', '張', '強', '弾', '当', '形', '彩', '影', '彷', '彼', '待', '後', '従', '得', '御', '徨', '微', '心', '必', '忘', '忙', '応', '快', '怎', '怕', '怖', '思', '怠', '急', '性', '怪', '恋', '恐', '恭', '息', '悔', '悟', '悩', '悪', '悲', '情', '惑', '想', '意', '愛', '感', '愿', '態', '慢', '憂', '憎', '憶', '成', '我', '戒', '战', '戦', '戴', '戸', '戻', '房', '所', '扉', '手', '才', '打', '払', '找', '把', '抑', '投', '抗', '折', '抛', '抜', '抦', '抯', '抱', '抵', '押', '招', '拜', '拾', '拿', '持', '指', '挫', '振', '捧', '捨', '捻', '排', '掠', '探', '掲', '掴', '掻', '描', '揚', '握', '揺', '撃', '擽', '攫', '支', '攻', '放', '敏', '救', '教', '散', '数', '敵', '敷', '文', '斐', '斗', '断', '新', '方', '旁', '旗', '日', '昇', '明', '星', '映', '春', '昧', '昨', '是', '時', '晚', '普', '景', '暈', '暗', '暮', '曇', '曖', '曝', '曲', '更', '書', '替', '最', '會', '月', '有', '朋', '服', '望', '朝', '期', '未', '末', '本', '朽', '束', '条', '来', '枕', '枠', '枯', '染', '柔', '栄', '桜', '森', '棲', '楽', '構', '様', '模', '樣', '横', '次', '欢', '欲', '歌', '歡', '止', '正', '此', '歩', '歪', '歯', '歴', '死', '残', '殖', '殺', '殻', '毅', '毎', '每', '毒', '比', '気', '水', '永', '求', '汗', '汚', '汲', '決', '沒', '沢', '沫', '沸', '油', '法', '泡', '波', '泣', '泳', '泼', '洗', '活', '流', '浄', '浮', '海', '浸', '消', '涙', '淡', '深', '混', '添', '渇', '減', '渡', '渦', '測', '満', '準', '溢', '溶', '溺', '漂', '漕', '漫', '潜', '潰', '澄', '激', '灯', '炎', '点', '為', '無', '焦', '然', '焼', '煌', '照', '熊', '熱', '燃', '爆', '牛', '牧', '物', '犬', '状', '狂', '狗', '狙', '独', '猴', '猶', '獄', '率', '玉', '珊', '現', '球', '理', '瑚', '甘', '甜', '生', '用', '由', '甲', '男', '画', '界', '留', '略', '番', '異', '疑', '疼', '疾', '病', '痒', '痛', '癒', '癖', '発', '發', '白', '百', '的', '皮', '盗', '目', '直', '相', '盾', '看', '真', '眠', '眩', '眼', '着', '睛', '瞑', '瞬', '瞳', '瞼', '矛', '知', '短', '砂', '砕', '破', '確', '磨', '礁', '示', '社', '祈', '祝', '神', '禁', '福', '私', '科', '秒', '秘', '秤', '秩', '移', '程', '積', '空', '突', '窓', '立', '站', '笑', '符', '笨', '第', '筈', '等', '答', '箱', '簡', '籠', '粉', '粋', '粹', '糧', '約', '紅', '純', '紙', '紛', '素', '紡', '細', '終', '結', '絡', '給', '絶', '經', '続', '綺', '綻', '緒', '線', '締', '緩', '縋', '繁', '繋', '繕', '繞', '繰', '纏', '红', '细', '罠', '罫', '置', '羅', '羊', '美', '羨', '義', '習', '老', '考', '者', '耳', '聞', '聡', '聴', '肌', '背', '胞', '胸', '能', '脆', '脚', '脱', '脳', '脸', '腫', '膨', '臆', '自', '致', '興', '舐', '舞', '船', '良', '色', '艶', '节', '花', '芸', '芽', '苦', '英', '草', '荒', '華', '落', '葉', '著', '葛', '蒼', '蓋', '蕾', '藤', '蘇', '虎', '虜', '虹', '蛇', '蠢', '血', '行', '術', '街', '衝', '衣', '表', '衰', '裁', '裂', '裏', '裳', '裸', '褪', '要', '見', '視', '覗', '覚', '解', '触', '言', '計', '記', '訪', '許', '訳', '証', '評', '詞', '試', '詮', '詰', '話', '誇', '語', '誤', '読', '誰', '調', '論', '諦', '謝', '識', '警', '議', '譲', '讃', '讓', '让', '象', '豪', '豬', '貌', '貓', '負', '財', '貧', '貫', '貴', '賭', '賺', '賽', '贅', '财', '赤', '走', '起', '超', '越', '足', '跑', '距', '跟', '跡', '跪', '路', '踊', '踏', '蹴', '躇', '躊', '躍', '身', '車', '軌', '転', '軸', '較', '輝', '輪', '轻', '辛', '边', '込', '辿', '过', '迎', '近', '返', '还', '远', '迷', '追', '退', '送', '逃', '逆', '透', '途', '這', '通', '速', '造', '逢', '連', '進', '逸', '遂', '遅', '遊', '運', '遍', '過', '道', '達', '違', '遙', '遠', '遥', '遮', '選', '還', '那', '邪', '部', '都', '配', '酸', '醒', '重', '金', '針', '錆', '錢', '鍵', '鏡', '鐘', '長', '閃', '閉', '開', '間', '関', '闇', '防', '阳', '降', '限', '険', '陽', '隔', '隙', '障', '隠', '雄', '集', '雑', '雞', '離', '難', '雨', '雪', '雰', '雲', '零', '雷', '需', '震', '霊', '霞', '霧', '青', '静', '非', '面', '革', '鞭', '音', '響', '頂', '頃', '順', '頭', '頷', '題', '顔', '願', '風', '飛', '食', '飲', '飴', '飽', '飾', '香', '馬', '駄', '駆', '駈', '騰', '體', '高', '鬱', '魅', '魔', '魚', '鮮', '鳥', '鳴', '鹿', '麗', '麼', '麽', '黙', '點', '鼓', '鼠', '龍', '가', '각', '감', '거', '건', '걸', '게', '결', '경', '계', '고', '공', '교', '구', '국', '굳', '권', '그', '기', '까', '꾸', '끔', '끝', '나', '난', '날', '내', '냥', '너', '넌', '널', '넘', '네', '년', '놀', '놔', '누', '는', '다', '대', '던', '덤', '데', '도', '돈', '돼', '되', '두', '둘', '뒤', '드', '든', '들', '때', '라', '랑', '래', '러', '럼', '려', '력', '로', '를', '리', '만', '많', '말', '망', '머', '멋', '면', '멸', '모', '목', '못', '묻', '물', '미', '밑', '발', '백', '버', '벌', '범', '베', '병', '보', '봐', '봤', '부', '비', '사', '상', '생', '서', '세', '소', '속', '스', '신', '실', '아', '안', '알', '어', '언', '에', '엔', '연', '온', '올', '왔', '왜', '요', '우', '울', '워', '위', '은', '의', '이', '일', '임', '입', '있', '잊', '자', '작', '잘', '장', '저', '적', '절', '정', '제', '져', '조', '좀', '주', '줄', '지', '직', '진', '집', '짜', '쳐', '초', '총', '코', '타', '턱', '테', '토', '품', '하', '할', '항', '해', '허', '호', '화', '회', '흡', '히', '\\ue3ac', '\\ufeff', '！', '（', '）', '，', '１', '？', '￼', '�', '𝘋', '𝘍', '𝘎', '𝘐', '𝘑', '𝘖', '𝘗', '𝘞', '𝘠', '𝘢', '𝘣', '𝘤', '𝘥', '𝘦', '𝘧', '𝘨', '𝘩', '𝘪', '𝘫', '𝘬', '𝘭', '𝘮', '𝘯', '𝘰', '𝘳', '𝘴', '𝘵', '𝘶', '𝘷', '𝘸', '𝘹', '𝘺', '𝙎', '𝙔', '𝙖', '𝙘', '𝙙', '𝙚', '𝙜', '𝙝', '𝙞', '𝙠', '𝙡', '𝙣', '𝙤', '𝙧', '𝙨', '𝙩', '𝙪', '𝙮', '🌹']\n",
      "total chars: 1770\n"
     ]
    }
   ],
   "source": [
    "# Counting characters appeared in all lyrics\n",
    "chars = sorted(list(set(DP_text)))\n",
    "print(chars)\n",
    "print('total chars:', len(chars))"
   ]
  },
  {
   "cell_type": "code",
   "execution_count": 15,
   "metadata": {},
   "outputs": [],
   "source": [
    "want = ['a', 'b', 'c', 'd', 'e', 'f', 'g', 'h', 'i', 'j', 'k', 'l','m', 'n', 'o', 'p', 'q', 'r', 's', 't', 'u', 'v', \n",
    "       'w', 'x', 'y', 'z', ',', '.', '\\n', '!', '?']\n",
    "chars = [x for x in want] \n"
   ]
  },
  {
   "cell_type": "code",
   "execution_count": 16,
   "metadata": {},
   "outputs": [
    {
     "name": "stdout",
     "output_type": "stream",
     "text": [
      "{'a': 0, 'b': 1, 'c': 2, 'd': 3, 'e': 4, 'f': 5, 'g': 6, 'h': 7, 'i': 8, 'j': 9, 'k': 10, 'l': 11, 'm': 12, 'n': 13, 'o': 14, 'p': 15, 'q': 16, 'r': 17, 's': 18, 't': 19, 'u': 20, 'v': 21, 'w': 22, 'x': 23, 'y': 24, 'z': 25, ',': 26, '.': 27, '\\n': 28, '!': 29, '?': 30}\n"
     ]
    }
   ],
   "source": [
    "# Create a dictionary of characters, see the index of characters.\n",
    "char_to_int = dict((c, i) for i, c in enumerate(chars))\n",
    "int_to_char = dict((i, c) for i, c in enumerate(chars))\n",
    "\n",
    "print(char_to_int)"
   ]
  },
  {
   "cell_type": "code",
   "execution_count": null,
   "metadata": {},
   "outputs": [],
   "source": [
    "seq_length = 50 # The sentence window size\n",
    "step = 1 # The steps between the windows\n",
    "sentences = []\n",
    "next_chars = []\n",
    "\n",
    "# Create Target and sentences window\n",
    "for i in range(0, len(DP_text) - seq_length, step):\n",
    "    # range from current index to sequence length charaters\n",
    "    sentences.append(DP_text[i: i + seq_length])  \n",
    "    next_chars.append(DP_text[i + seq_length]) # the next character\n",
    "    \n",
    "sentences = np.array(sentences)\n",
    "next_chars = np.array(next_chars)\n",
    "\n",
    "#Print Sentence Window and next charaters\n",
    "print('Sentence Window')\n",
    "print (sentences[:5])\n",
    "print('Target characters')\n",
    "print (next_chars[:5])\n",
    "print('Number of sequences:', len(sentences))"
   ]
  },
  {
   "cell_type": "code",
   "execution_count": null,
   "metadata": {},
   "outputs": [],
   "source": [
    "# transferring the character to index \n",
    "def getdata(sentences, next_chars):\n",
    "    X = np.zeros((len(sentences),seq_length))\n",
    "    y = np.zeros((len(sentences)))\n",
    "    length = len(sentences)\n",
    "    index = 0\n",
    "    for i in range(len(sentences)):\n",
    "        sentence = sentences[i]\n",
    "        for t, char in enumerate(sentence):\n",
    "            X[i, t] = char_to_int[char]\n",
    "        y[i] = char_to_int[next_chars[i]]\n",
    "    return X, y"
   ]
  },
  {
   "cell_type": "code",
   "execution_count": null,
   "metadata": {},
   "outputs": [],
   "source": [
    "train_x,train_y = getdata(sentences, next_chars)\n",
    "print(train_x)\n",
    "print('Shape of training_x:', train_x.shape)\n",
    "print('Shape of training_y:', train_y.shape)"
   ]
  },
  {
   "cell_type": "markdown",
   "metadata": {},
   "source": [
    "## Building out the model"
   ]
  },
  {
   "cell_type": "code",
   "execution_count": null,
   "metadata": {},
   "outputs": [],
   "source": [
    "import torch\n",
    "import torch.nn as nn\n",
    "import torch.nn.functional as F\n",
    "import torch.optim as optim\n",
    "from torch.autograd import Variable\n",
    "\n",
    "class Simple_LSTM(nn.Module):\n",
    "    def __init__(self,n_vocab,hidden_dim, embedding_dim,dropout = 0.2):\n",
    "        super(Simple_LSTM, self).__init__()\n",
    "        \n",
    "        self.hidden_dim = hidden_dim\n",
    "        self.embedding_dim = embedding_dim\n",
    "        self.lstm = nn.LSTM(embedding_dim, hidden_dim,dropout = dropout,num_layers = 2)\n",
    "        self.embeddings = nn.Embedding(n_vocab, embedding_dim)\n",
    "        self.fc = nn.Linear(hidden_dim, n_vocab)\n",
    "    \n",
    "    def forward(self, seq_in):\n",
    "        # for LSTM, input should be (Sequnce_length,batchsize,hidden_layer), so we need to transpose the input\n",
    "        embedded = self.embeddings(seq_in.t()) \n",
    "        lstm_out, _ = self.lstm(embedded)\n",
    "        # Only need to keep the last character \n",
    "        ht=lstm_out[-1] \n",
    "        out = self.fc(ht)\n",
    "        return out"
   ]
  },
  {
   "cell_type": "code",
   "execution_count": null,
   "metadata": {},
   "outputs": [],
   "source": [
    "X_train_tensor = torch.tensor(train_x, dtype=torch.long)\n",
    "Y_train_tensor = torch.tensor(train_y, dtype=torch.long)"
   ]
  },
  {
   "cell_type": "code",
   "execution_count": null,
   "metadata": {},
   "outputs": [],
   "source": [
    "from torch.utils.data import Dataset, DataLoader\n",
    "train = torch.utils.data.TensorDataset(X_train_tensor,Y_train_tensor)\n",
    "train_loader = torch.utils.data.DataLoader(train, batch_size = 128)"
   ]
  },
  {
   "cell_type": "code",
   "execution_count": null,
   "metadata": {},
   "outputs": [],
   "source": [
    "model = Simple_LSTM(47,256,256)\n",
    "optimizer = torch.optim.Adam(model.parameters(), lr = 0.002) # Using Adam optimizer"
   ]
  },
  {
   "cell_type": "code",
   "execution_count": null,
   "metadata": {},
   "outputs": [],
   "source": [
    "import time # Add time counter\n",
    "avg_losses_f = []\n",
    "n_epochs= 50\n",
    "\n",
    "for epoch in range(n_epochs):\n",
    "    print(\"Epoch: \", epoch)\n",
    "    start_time = time.time()\n",
    "    model.train()\n",
    "    loss_fn = torch.nn.CrossEntropyLoss()\n",
    "    avg_loss = 0.\n",
    "    for i, (x_batch, y_batch) in enumerate(train_loader):\n",
    "        y_pred = model(x_batch)\n",
    "        \n",
    "        loss = loss_fn(y_pred, y_batch)\n",
    "        optimizer.zero_grad()\n",
    "        loss.backward()\n",
    "        \n",
    "        optimizer.step()\n",
    "        avg_loss+= loss.item()/len(train_loader)\n",
    "        \n",
    "    elapsed_time = time.time() - start_time \n",
    "    print('Epoch {}/{} \\t loss={:.4f} \\t time={:.2f}s'.format(\n",
    "        epoch + 1, n_epochs, avg_loss, elapsed_time))\n",
    "    \n",
    "    avg_losses_f.append(avg_loss)    \n",
    "    \n",
    "print('All \\t loss={:.4f} \\t '.format(np.average(avg_losses_f)))"
   ]
  },
  {
   "cell_type": "code",
   "execution_count": null,
   "metadata": {},
   "outputs": [],
   "source": [
    "import matplotlib.pyplot as plt\n",
    "\n",
    "plt.plot(avg_losses_f)\n",
    "plt.xlabel('Epoch')\n",
    "plt.ylabel('Loss value')\n",
    "plt.show()"
   ]
  },
  {
   "cell_type": "markdown",
   "metadata": {},
   "source": [
    "creating a function that can sample an index from a probability array \n"
   ]
  },
  {
   "cell_type": "code",
   "execution_count": null,
   "metadata": {},
   "outputs": [],
   "source": [
    "def sample(preds, temperature=1.0):\n",
    "    preds = np.asarray(preds).astype('float64')\n",
    "    preds = np.log(preds) / temperature\n",
    "    exp_preds = np.exp(preds)\n",
    "    preds = exp_preds / np.sum(exp_preds)\n",
    "    probas = np.random.multinomial(1, preds, 1)\n",
    "    return np.argmax(probas)"
   ]
  },
  {
   "cell_type": "markdown",
   "metadata": {},
   "source": [
    "validate the model"
   ]
  },
  {
   "cell_type": "code",
   "execution_count": null,
   "metadata": {},
   "outputs": [],
   "source": [
    "# Define the start sentence\n",
    "# sentence = 'i read in the news\\nthat the average man\\nplease kis'\n",
    "sentence = 'i put the new forgis on the g\\ni trap until the blo'\n",
    "variance = 0.25\n",
    "generated = ''\n",
    "original = sentence\n",
    "window = sentence\n",
    "\n",
    "for i in range(400):\n",
    "    x = np.zeros((1, seq_length))\n",
    "    for t, char in enumerate(window):\n",
    "        x[0, t] = char_to_int[char] # Change the sentence to index vector shape (1,50)\n",
    "        \n",
    "    x_in = Variable(torch.LongTensor(x))\n",
    "    pred = model(x_in)\n",
    "    pred = np.array(F.softmax(pred, dim=1).data[0].cpu())\n",
    "    next_index = sample(pred, variance)\n",
    "    next_char = int_to_char[next_index] # index to char\n",
    "\n",
    "    generated += next_char\n",
    "    window = window[1:] + next_char # Update Window for next char predict\n",
    "    \n",
    "print(original + generated)"
   ]
  },
  {
   "cell_type": "code",
   "execution_count": null,
   "metadata": {},
   "outputs": [],
   "source": []
  }
 ],
 "metadata": {
  "kernelspec": {
   "display_name": "Python 3",
   "language": "python",
   "name": "python3"
  },
  "language_info": {
   "codemirror_mode": {
    "name": "ipython",
    "version": 3
   },
   "file_extension": ".py",
   "mimetype": "text/x-python",
   "name": "python",
   "nbconvert_exporter": "python",
   "pygments_lexer": "ipython3",
   "version": "3.7.6"
  }
 },
 "nbformat": 4,
 "nbformat_minor": 2
}
